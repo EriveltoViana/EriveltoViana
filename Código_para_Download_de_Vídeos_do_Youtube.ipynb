{
  "nbformat": 4,
  "nbformat_minor": 0,
  "metadata": {
    "colab": {
      "provenance": [],
      "authorship_tag": "ABX9TyNSEJeoOAKpV470FuQFxy1H",
      "include_colab_link": true
    },
    "kernelspec": {
      "name": "python3",
      "display_name": "Python 3"
    },
    "language_info": {
      "name": "python"
    }
  },
  "cells": [
    {
      "cell_type": "markdown",
      "metadata": {
        "id": "view-in-github",
        "colab_type": "text"
      },
      "source": [
        "<a href=\"https://colab.research.google.com/github/EriveltoViana/EriveltoViana/blob/main/C%C3%B3digo_para_Download_de_V%C3%ADdeos_do_Youtube.ipynb\" target=\"_parent\"><img src=\"https://colab.research.google.com/assets/colab-badge.svg\" alt=\"Open In Colab\"/></a>"
      ]
    },
    {
      "cell_type": "code",
      "source": [
        "!pip install pytube"
      ],
      "metadata": {
        "id": "CrS2Ym5-a2qU"
      },
      "execution_count": null,
      "outputs": []
    },
    {
      "cell_type": "code",
      "execution_count": null,
      "metadata": {
        "id": "QhbRiUeHawd-"
      },
      "outputs": [],
      "source": [
        "# Primeiro, vamos instalar as bibliotecas necessárias\n",
        "!pip install pytube\n",
        "\n",
        "import os\n",
        "from pytube import Playlist, YouTube\n",
        "from google.colab import files\n",
        "import re\n",
        "import time\n",
        "\n",
        "def limpar_nome_arquivo(nome):\n",
        "    \"\"\"Remove caracteres inválidos de nomes de arquivos.\"\"\"\n",
        "    return re.sub(r'[\\\\/*?:\"<>|]', \"\", nome)\n",
        "\n",
        "def baixar_playlist(url_playlist, formato='mp4', apenas_audio=False, qualidade='highest', diretorio='downloads'):\n",
        "    \"\"\"\n",
        "    Função para baixar vídeos de uma playlist do YouTube.\n",
        "\n",
        "    Parâmetros:\n",
        "    - url_playlist: URL da playlist do YouTube\n",
        "    - formato: Formato de saída ('mp4' ou 'mp3')\n",
        "    - apenas_audio: Baixar apenas o áudio (True/False)\n",
        "    - qualidade: Qualidade do vídeo ('highest', 'lowest', '720p', etc.)\n",
        "    - diretorio: Pasta para salvar os downloads\n",
        "    \"\"\"\n",
        "    try:\n",
        "        # Criar diretório se não existir\n",
        "        if not os.path.exists(diretorio):\n",
        "            os.makedirs(diretorio)\n",
        "\n",
        "        # Obter a playlist\n",
        "        playlist = Playlist(url_playlist)\n",
        "        print(f'Playlist encontrada: {playlist.title}')\n",
        "        print(f'Total de vídeos: {len(playlist.video_urls)}')\n",
        "\n",
        "        # Contadores para estatísticas\n",
        "        baixados = 0\n",
        "        falhas = 0\n",
        "\n",
        "        # Percorrer cada vídeo na playlist\n",
        "        for index, url in enumerate(playlist.video_urls):\n",
        "            try:\n",
        "                # Obter o objeto YouTube\n",
        "                yt = YouTube(url)\n",
        "\n",
        "                # Limpar o título para usar como nome do arquivo\n",
        "                titulo_limpo = limpar_nome_arquivo(yt.title)\n",
        "                print(f'\\nBaixando ({index+1}/{len(playlist.video_urls)}): {yt.title}')\n",
        "\n",
        "                if apenas_audio or formato == 'mp3':\n",
        "                    # Baixar apenas áudio\n",
        "                    stream = yt.streams.filter(only_audio=True).first()\n",
        "                    arquivo_saida = os.path.join(diretorio, f'{titulo_limpo}.mp3')\n",
        "                    out_file = stream.download(output_path=diretorio, filename=f'{titulo_limpo}.mp3')\n",
        "                else:\n",
        "                    # Baixar vídeo\n",
        "                    if qualidade == 'highest':\n",
        "                        stream = yt.streams.filter(progressive=True).get_highest_resolution()\n",
        "                    elif qualidade == 'lowest':\n",
        "                        stream = yt.streams.filter(progressive=True).get_lowest_resolution()\n",
        "                    else:\n",
        "                        stream = yt.streams.filter(res=qualidade, progressive=True).first()\n",
        "                        if not stream:\n",
        "                            print(f\"Qualidade {qualidade} não disponível. Usando a melhor qualidade disponível.\")\n",
        "                            stream = yt.streams.filter(progressive=True).get_highest_resolution()\n",
        "\n",
        "                    arquivo_saida = os.path.join(diretorio, f'{titulo_limpo}.{formato}')\n",
        "                    out_file = stream.download(output_path=diretorio, filename=f'{titulo_limpo}.{formato}')\n",
        "\n",
        "                print(f'✓ Download completo: {arquivo_saida}')\n",
        "                baixados += 1\n",
        "\n",
        "                # Pequeno delay para evitar sobrecarga na API\n",
        "                time.sleep(1)\n",
        "\n",
        "            except Exception as e:\n",
        "                print(f'✗ Erro ao baixar {url}: {str(e)}')\n",
        "                falhas += 1\n",
        "\n",
        "        print(f'\\nResumo do download:')\n",
        "        print(f'- Total de vídeos na playlist: {len(playlist.video_urls)}')\n",
        "        print(f'- Vídeos baixados com sucesso: {baixados}')\n",
        "        print(f'- Falhas: {falhas}')\n",
        "\n",
        "        # Comprimir todos os arquivos baixados em um único arquivo para facilitar o download do Colab\n",
        "        import shutil\n",
        "        arquivo_zip = f'{diretorio}.zip'\n",
        "        shutil.make_archive(diretorio, 'zip', diretorio)\n",
        "        print(f'\\nArquivos compactados em {arquivo_zip}')\n",
        "\n",
        "        # Fazer o download do arquivo zip para o computador local\n",
        "        print('Iniciando download do arquivo zip para seu computador...')\n",
        "        files.download(f'{arquivo_zip}')\n",
        "\n",
        "    except Exception as e:\n",
        "        print(f'Erro ao processar a playlist: {str(e)}')\n",
        "\n",
        "# Interface simples para o usuário\n",
        "url = input(\"Cole a URL da playlist do YouTube: \")\n",
        "formato = input(\"Digite o formato desejado (mp4 ou mp3): \").lower() or 'mp4'\n",
        "apenas_audio = input(\"Baixar apenas áudio? (s/n): \").lower() == 's'\n",
        "qualidade = input(\"Qualidade desejada (highest, lowest, 720p, 480p, 360p, etc.): \") or 'highest'\n",
        "\n",
        "print(\"\\nIniciando download da playlist...\")\n",
        "baixar_playlist(url, formato, apenas_audio, qualidade)"
      ]
    },
    {
      "cell_type": "code",
      "source": [],
      "metadata": {
        "id": "NKLlDcVdbBjg"
      },
      "execution_count": null,
      "outputs": []
    }
  ]
}