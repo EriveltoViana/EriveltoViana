{
  "nbformat": 4,
  "nbformat_minor": 0,
  "metadata": {
    "colab": {
      "provenance": [],
      "authorship_tag": "ABX9TyNguxtT8bPNTVEpPQc8B6Cb",
      "include_colab_link": true
    },
    "kernelspec": {
      "name": "python3",
      "display_name": "Python 3"
    },
    "language_info": {
      "name": "python"
    }
  },
  "cells": [
    {
      "cell_type": "markdown",
      "metadata": {
        "id": "view-in-github",
        "colab_type": "text"
      },
      "source": [
        "<a href=\"https://colab.research.google.com/github/EriveltoViana/EriveltoViana/blob/main/IESB_Aula02_Visualiza%C3%A7%C3%A3o02.ipynb\" target=\"_parent\"><img src=\"https://colab.research.google.com/assets/colab-badge.svg\" alt=\"Open In Colab\"/></a>"
      ]
    },
    {
      "cell_type": "code",
      "execution_count": null,
      "metadata": {
        "id": "jOPJAGhkxGit"
      },
      "outputs": [],
      "source": [
        "import plotly.express as px\n",
        "import pandas as pd\n",
        "from google.colab import files\n",
        "\n",
        "uploaded = files.upload()\n",
        "df = pd.read_csv('wine.csv')\n",
        "\n",
        "fig = px.scatter(df,\n",
        "     title='Análise de Vinhos - Gráfico de Dispersão',\n",
        "     x='Malic_acid',\n",
        "     y='Alcohol',\n",
        "     color='Color_intensity',\n",
        "     size='Flavanoids',\n",
        "     color_continuous_scale='Viridis',\n",
        "     labels={\n",
        "       'Malic_acid': 'Ácido Málico',\n",
        "       'Alcohol': 'Álcool',\n",
        "       'Color_intensity': 'Intensidade de Cor',\n",
        "       'Flavanoids': 'Flavonóide'\n",
        "   },\n",
        ")\n",
        "\n",
        "fig.show()"
      ]
    }
  ]
}