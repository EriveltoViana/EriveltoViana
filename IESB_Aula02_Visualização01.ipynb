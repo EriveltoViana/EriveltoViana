{
  "nbformat": 4,
  "nbformat_minor": 0,
  "metadata": {
    "colab": {
      "provenance": [],
      "authorship_tag": "ABX9TyPVe3EbLiyb/DMmFs+yDNJj",
      "include_colab_link": true
    },
    "kernelspec": {
      "name": "python3",
      "display_name": "Python 3"
    },
    "language_info": {
      "name": "python"
    }
  },
  "cells": [
    {
      "cell_type": "markdown",
      "metadata": {
        "id": "view-in-github",
        "colab_type": "text"
      },
      "source": [
        "<a href=\"https://colab.research.google.com/github/EriveltoViana/EriveltoViana/blob/main/IESB_Aula02_Visualiza%C3%A7%C3%A3o01.ipynb\" target=\"_parent\"><img src=\"https://colab.research.google.com/assets/colab-badge.svg\" alt=\"Open In Colab\"/></a>"
      ]
    },
    {
      "cell_type": "code",
      "execution_count": null,
      "metadata": {
        "id": "A5ry5TExyfY5"
      },
      "outputs": [],
      "source": [
        "import pandas as pd\n",
        "import plotly.express as px\n",
        "from google.colab import files\n",
        "\n",
        "uploaded = files.upload()\n",
        "df = pd.read_csv('wine.csv')\n",
        "\n",
        "fig = px.parallel_coordinates(\n",
        "    df,\n",
        "    title=\"Análise de Vinhos - Coordenadas Paralelas\",\n",
        "    dimensions=['Alcohol', 'Malic_acid', 'Ash', 'Alcalinity_ash', 'Total_phenols', 'Flavanoids', 'Nonflavanoid_phenols'],\n",
        "    color=df.iloc[:, 0],\n",
        "    color_continuous_scale=px.colors.diverging.Tealrose,\n",
        "    labels={\n",
        "        'Alcohol': 'Álcool',\n",
        "        'Malic_acid': 'Ácido Málico',\n",
        "        'Ash': 'Cinzas',\n",
        "        'Alcalinity_ash': 'Alcalinidade das Cinzas',\n",
        "        'Total_phenols': 'Fenóis Totais',\n",
        "        'Flavanoids': 'Flavonoides',\n",
        "        'Nonflavanoid_phenols': 'Fenóis Não-flavonoides'\n",
        "    }\n",
        ")\n",
        "\n",
        "fig.show()"
      ]
    },
    {
      "cell_type": "code",
      "source": [
        "!rm wine.csv"
      ],
      "metadata": {
        "id": "skw-P5D_zAUJ"
      },
      "execution_count": null,
      "outputs": []
    }
  ]
}