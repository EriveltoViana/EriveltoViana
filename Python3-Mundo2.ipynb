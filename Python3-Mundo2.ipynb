{
  "nbformat": 4,
  "nbformat_minor": 0,
  "metadata": {
    "colab": {
      "provenance": [],
      "authorship_tag": "ABX9TyNJI6yQ13nFqg4DF2XKuaqO",
      "include_colab_link": true
    },
    "kernelspec": {
      "name": "python3",
      "display_name": "Python 3"
    },
    "language_info": {
      "name": "python"
    }
  },
  "cells": [
    {
      "cell_type": "markdown",
      "metadata": {
        "id": "view-in-github",
        "colab_type": "text"
      },
      "source": [
        "<a href=\"https://colab.research.google.com/github/EriveltoViana/EriveltoViana/blob/main/Python3-Mundo2.ipynb\" target=\"_parent\"><img src=\"https://colab.research.google.com/assets/colab-badge.svg\" alt=\"Open In Colab\"/></a>"
      ]
    },
    {
      "cell_type": "markdown",
      "source": [
        "**AULA 12 - CONDIÇÕES ANINHADAS** if, elif, else"
      ],
      "metadata": {
        "id": "QiwS776b3flT"
      }
    },
    {
      "cell_type": "markdown",
      "source": [
        "**036 - Escreva um programa para aprovar o empréstimo bancário para a compra de uma casa. Pergunte o valor da casa, o salário do comprador e em quantos anos ele vai pagar. A prestação mensal não pode exceder 30% do salário ou então o empréstimo será negado.**"
      ],
      "metadata": {
        "id": "s9GmkPDd198m"
      }
    },
    {
      "cell_type": "markdown",
      "source": [
        "**037 - Escreva um programa em Python que leia um número inteiro qualquer e peça para o usuário escolher qual será a base de conversão: 1 para binário, 2 para octal e 3 para hexadecimal.**"
      ],
      "metadata": {
        "id": "EkAbji1T1_5Z"
      }
    },
    {
      "cell_type": "markdown",
      "source": [
        "**038 - Escreva um programa que leia dois números inteiros e compare-os. mostrando na tela uma mensagem:**\n",
        "\n",
        "– O primeiro valor é maior\n",
        "\n",
        "– O segundo valor é maior\n",
        "\n",
        "– Não existe valor maior, os dois são iguais"
      ],
      "metadata": {
        "id": "Kz21gYT51_yK"
      }
    },
    {
      "cell_type": "markdown",
      "source": [
        "**039 - Faça um programa que leia o ano de nascimento de um jovem e informe, de acordo com a sua idade, se ele ainda vai se alistar ao serviço militar, se é a hora exata de se alistar ou se já passou do tempo do alistamento. Seu programa também deverá mostrar o tempo que falta ou que passou do prazo.**"
      ],
      "metadata": {
        "id": "rP6qiUSE1_rI"
      }
    },
    {
      "cell_type": "markdown",
      "source": [
        "**040 - Crie um programa que leia duas notas de um aluno e calcule sua média, mostrando uma mensagem no final, de acordo com a média atingida:**\n",
        "\n",
        "– Média abaixo de 5.0: REPROVADO\n",
        "\n",
        "– Média entre 5.0 e 6.9: RECUPERAÇÃO\n",
        "\n",
        "– Média 7.0 ou superior: APROVADO"
      ],
      "metadata": {
        "id": "woIGfrGm1_kn"
      }
    },
    {
      "cell_type": "markdown",
      "source": [
        "**041 - A Confederação Nacional de Natação precisa de um programa que leia o ano de nascimento de um atleta e mostre sua categoria, de acordo com a idade:**\n",
        "\n",
        "– Até 9 anos: MIRIM\n",
        "\n",
        "– Até 14 anos: INFANTIL\n",
        "\n",
        "– Até 19 anos: JÚNIOR\n",
        "\n",
        "– Até 25 anos: SÊNIOR\n",
        "\n",
        "– Acima de 25 anos: MASTER"
      ],
      "metadata": {
        "id": "r8hrAVJP1_dN"
      }
    },
    {
      "cell_type": "markdown",
      "source": [
        "**042 - Refaça o DESAFIO 35 dos triângulos, acrescentando o recurso de mostrar que tipo de triângulo será formado:**\n",
        "\n",
        "– EQUILÁTERO: todos os lados iguais\n",
        "\n",
        "– ISÓSCELES: dois lados iguais, um diferente\n",
        "\n",
        "– ESCALENO: todos os lados diferentes"
      ],
      "metadata": {
        "id": "xSZ_NTIF1_V7"
      }
    },
    {
      "cell_type": "markdown",
      "source": [
        "**043 - Desenvolva uma lógica que leia o peso e a altura de uma pessoa, calcule seu Índice de Massa Corporal (IMC) e mostre seu status, de acordo com a tabela abaixo:**\n",
        "\n",
        "– IMC abaixo de 18,5: Abaixo do Peso\n",
        "\n",
        "– Entre 18,5 e 25: Peso Ideal\n",
        "\n",
        "– 25 até 30: Sobrepeso\n",
        "\n",
        "– 30 até 40: Obesidade\n",
        "\n",
        "– Acima de 40: Obesidade Mórbida"
      ],
      "metadata": {
        "id": "BDisbd4j1_Op"
      }
    },
    {
      "cell_type": "markdown",
      "source": [
        "**044 - Elabore um programa que calcule o valor a ser pago por um produto, considerando o seu preço normal e condição de pagamento:**\n",
        "\n",
        "– à vista dinheiro/cheque: 10% de desconto\n",
        "\n",
        "– à vista no cartão: 5% de desconto\n",
        "\n",
        "– em até 2x no cartão: preço formal\n",
        "\n",
        "– 3x ou mais no cartão: 20% de juros"
      ],
      "metadata": {
        "id": "QniZg_dU1_FS"
      }
    },
    {
      "cell_type": "markdown",
      "source": [
        "**045 - Crie um programa que faça o computador jogar Jokenpô com você.**"
      ],
      "metadata": {
        "id": "NWwM7jxU1-kX"
      }
    },
    {
      "cell_type": "code",
      "source": [],
      "metadata": {
        "id": "JX5AHZ8e3dWm"
      },
      "execution_count": null,
      "outputs": []
    }
  ]
}