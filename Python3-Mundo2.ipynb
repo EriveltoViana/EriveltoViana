{
  "nbformat": 4,
  "nbformat_minor": 0,
  "metadata": {
    "colab": {
      "provenance": [],
      "authorship_tag": "ABX9TyOY4/Jz1q4y2+JRs3/jb8Am",
      "include_colab_link": true
    },
    "kernelspec": {
      "name": "python3",
      "display_name": "Python 3"
    },
    "language_info": {
      "name": "python"
    }
  },
  "cells": [
    {
      "cell_type": "markdown",
      "metadata": {
        "id": "view-in-github",
        "colab_type": "text"
      },
      "source": [
        "<a href=\"https://colab.research.google.com/github/EriveltoViana/EriveltoViana/blob/main/Python3-Mundo2.ipynb\" target=\"_parent\"><img src=\"https://colab.research.google.com/assets/colab-badge.svg\" alt=\"Open In Colab\"/></a>"
      ]
    },
    {
      "cell_type": "markdown",
      "source": [
        "**AULA 12 - CONDIÇÕES ANINHADAS** if, elif, else"
      ],
      "metadata": {
        "id": "QiwS776b3flT"
      }
    },
    {
      "cell_type": "markdown",
      "source": [
        "**036 - Escreva um programa para aprovar o empréstimo bancário para a compra de uma casa. Pergunte o valor da casa, o salário do comprador e em quantos anos ele vai pagar. A prestação mensal não pode exceder 30% do salário ou então o empréstimo será negado.**"
      ],
      "metadata": {
        "id": "s9GmkPDd198m"
      }
    },
    {
      "cell_type": "code",
      "source": [
        "from time import sleep\n",
        "print('=-='*20)\n",
        "print('EMPRÉSTIMO PARA IMÓVEL - Minha casa, Minha vida')\n",
        "print('=-='*20)\n",
        "nome = (input('Qual o seu nome? ')).strip().title()\n",
        "print('Ola, Sr.', nome,'!')\n",
        "valor = float(input(('Me informe o valor da casa que o Sr. deseja comprar: R$' )))\n",
        "salario = float(input('Bacana Sr. {}. Agora me informe a sua renda mensal: R$' .format(nome) ))\n",
        "tempo = float(input('Legal! Diga em quantos meses fica bom para o senhor pagar: '))\n",
        "print('CERTO! Deixe-me verificar a possibilidade do seu empréstimo.')\n",
        "sleep(3)\n",
        "print('Só mais um momento...')\n",
        "sleep(2)\n",
        "print('Verificando...')\n",
        "sleep(1)\n",
        "\n",
        "parcelaparaaprovacao = float(valor/tempo)\n",
        "\n",
        "if parcelaparaaprovacao <= (30/100)*salario:\n",
        "  print('PARABÉNS! O empréstimo no valor de {:.3f} foi aprovado.'.format(valor))\n",
        "  print('O valor da parcela será de R${:.3f}: '.format(parcelaparaaprovacao*1000))\n",
        "else:\n",
        "  print('Empréstimo negado. O valor da parcela foi de R${:.3f} e supera 30% da sua renda mensal.'.format(parcelaparaaprovacao*1000))\n",
        "  print('O valor da parcela será de R${:.3f}: '.format(parcelaparaaprovacao*1000))\n",
        "\n",
        "print('=-='*20)\n",
        "print('EMPRÉSTIMO PARA IMÓVEL - Minha casa, Minha vida')\n",
        "print('=-='*20)"
      ],
      "metadata": {
        "id": "7jVpCNUgDH4x"
      },
      "execution_count": null,
      "outputs": []
    },
    {
      "cell_type": "markdown",
      "source": [
        "**037 - Escreva um programa em Python que leia um número inteiro qualquer e peça para o usuário escolher qual será a base de conversão: 1 para binário, 2 para octal e 3 para hexadecimal.**"
      ],
      "metadata": {
        "id": "EkAbji1T1_5Z"
      }
    },
    {
      "cell_type": "code",
      "source": [
        "x = int(input('Digite um número inteiro: '))\n",
        "conversao = int(input('[1] para converter para BINÁRIO \\n[2] para converter para OCTAL \\n[3] para converter para HEXADECIMAL.\\n'))\n",
        "#binario = (bin(x))\n",
        "#octal = (oct(x))\n",
        "#hexadecimal = (hex(x))\n",
        "if conversao == 1:\n",
        "  print(bin(x))\n",
        "elif conversao == 2:\n",
        "  print(oct(x))\n",
        "elif conversao == 3:\n",
        "  print(hex(x))\n",
        "else:\n",
        "  print('Digite um número entre 1 e 3.')"
      ],
      "metadata": {
        "id": "EnE8D5UXq72d"
      },
      "execution_count": null,
      "outputs": []
    },
    {
      "cell_type": "markdown",
      "source": [
        "**038 - Escreva um programa que leia dois números inteiros e compare-os. mostrando na tela uma mensagem:**\n",
        "\n",
        "– O primeiro valor é maior\n",
        "\n",
        "– O segundo valor é maior\n",
        "\n",
        "– Não existe valor maior, os dois são iguais"
      ],
      "metadata": {
        "id": "Kz21gYT51_yK"
      }
    },
    {
      "cell_type": "code",
      "source": [
        "x1 = int(input('Informe um número: '))\n",
        "x2 = int(input('Informe outro número: '))\n",
        "if x1>x2:\n",
        "  print('O número {} é maior que o número {}.'.format(x1,x2))\n",
        "elif x2>x1:\n",
        "  print('O número {} é maior que o número {}.'.format(x2,x1))\n",
        "else:\n",
        "  print('Os números são iguais.')"
      ],
      "metadata": {
        "id": "sZ8Fj18kLHXV"
      },
      "execution_count": null,
      "outputs": []
    },
    {
      "cell_type": "markdown",
      "source": [
        "**039 - Faça um programa que leia o ano de nascimento de um jovem e informe, de acordo com a sua idade, se ele ainda vai se alistar ao serviço militar, se é a hora exata de se alistar ou se já passou do tempo do alistamento. Seu programa também deverá mostrar o tempo que falta ou que passou do prazo.**"
      ],
      "metadata": {
        "id": "rP6qiUSE1_rI"
      }
    },
    {
      "cell_type": "code",
      "source": [
        "from datetime import date\n",
        "ano = int(input('informe o seu ano de nascimento: '))\n",
        "hoje = date.today().year\n",
        "print('Sua idade é {} anos.'.format(hoje-ano))\n",
        "alistamento = ano+18\n",
        "periodo = (hoje-ano)\n",
        "if periodo > 18:\n",
        "  print('Já se passaram {} anos do seu perído de alistamento militar obrigatório.'.format(periodo-18))\n",
        "elif periodo == 18:\n",
        "  print('Você está no ano do seu alistamento militar obrigatório.')\n",
        "else:\n",
        "  print('Ainda faltam {} anos para o seu alistamento militar obrigatório.'.format(18-periodo))"
      ],
      "metadata": {
        "id": "XFvaukAKL19I"
      },
      "execution_count": null,
      "outputs": []
    },
    {
      "cell_type": "markdown",
      "source": [
        "**040 - Crie um programa que leia duas notas de um aluno e calcule sua média, mostrando uma mensagem no final, de acordo com a média atingida:**\n",
        "\n",
        "– Média abaixo de 5.0: REPROVADO\n",
        "\n",
        "– Média entre 5.0 e 6.9: RECUPERAÇÃO\n",
        "\n",
        "– Média 7.0 ou superior: APROVADO"
      ],
      "metadata": {
        "id": "woIGfrGm1_kn"
      }
    },
    {
      "cell_type": "code",
      "source": [
        "n1 = float(input('informa a primeira nota do aluno: '))\n",
        "n2 = float(input('informa a segunda nota do aluno: '))\n",
        "media = (n1+n2)/2\n",
        "\n",
        "if media < 5.0:\n",
        "  print('Aluno Reprovado')\n",
        "elif media >= 5.0 and media <= 6.9:\n",
        "  print('Aluno de Recuperação')\n",
        "else:\n",
        "  print('Aluno Aprovado')"
      ],
      "metadata": {
        "id": "oEXRfKy3SfgI"
      },
      "execution_count": null,
      "outputs": []
    },
    {
      "cell_type": "markdown",
      "source": [
        "**041 - A Confederação Nacional de Natação precisa de um programa que leia o ano de nascimento de um atleta e mostre sua categoria, de acordo com a idade:**\n",
        "\n",
        "– Até 9 anos: MIRIM\n",
        "\n",
        "– Até 14 anos: INFANTIL\n",
        "\n",
        "– Até 19 anos: JÚNIOR\n",
        "\n",
        "– Até 25 anos: SÊNIOR\n",
        "\n",
        "– Acima de 25 anos: MASTER"
      ],
      "metadata": {
        "id": "r8hrAVJP1_dN"
      }
    },
    {
      "cell_type": "code",
      "source": [
        "from datetime import date\n",
        "ano = int(input('Digite o ano de nascimento do atleta: '))\n",
        "hoje = date.today().year\n",
        "categoria = hoje-ano\n",
        "print('A idade do atleta é {} anos.'.format(categoria))\n",
        "\n",
        "if categoria <= 9:\n",
        "  print('Com esta idade o atleta fica categorizado como MIRIM.')\n",
        "elif categoria <= 14:\n",
        "  print('Com esta idade o atleta fica categorizado como INFANTIL.')\n",
        "elif categoria <= 19:\n",
        "  print('Com esta idade o atleta fica categorizado como JÚNIOR.')\n",
        "elif categoria <= 25:\n",
        "  print('Com esta idade o atleta fica categorizado como SENIOR.')\n",
        "else:\n",
        "  print('Com esta idade o atleta fica categorizado como MASTER.')"
      ],
      "metadata": {
        "id": "dIpgPX1iVC54"
      },
      "execution_count": null,
      "outputs": []
    },
    {
      "cell_type": "markdown",
      "source": [
        "**042 - Refaça o DESAFIO 35 dos triângulos, acrescentando o recurso de mostrar que tipo de triângulo será formado:**\n",
        "\n",
        "– EQUILÁTERO: todos os lados iguais\n",
        "\n",
        "– ISÓSCELES: dois lados iguais, um diferente\n",
        "\n",
        "– ESCALENO: todos os lados diferentes"
      ],
      "metadata": {
        "id": "xSZ_NTIF1_V7"
      }
    },
    {
      "cell_type": "code",
      "source": [
        "l1 = float(input('Informe a medida do primeiro lado: '))\n",
        "l2 = float(input('Informe a medida do segundo lado: '))\n",
        "l3 = float(input('Informe a medida do terceiro lado: '))\n",
        "\n",
        "condicao = l1 <= l2+l3 and l2 <= l1+l3 and l3 <= l1+l2\n",
        "\n"
      ],
      "metadata": {
        "colab": {
          "base_uri": "https://localhost:8080/"
        },
        "id": "p5DcKtEXZdGO",
        "outputId": "766544b8-b8ab-4318-efb5-096c58df3d4d"
      },
      "execution_count": 125,
      "outputs": [
        {
          "name": "stdout",
          "output_type": "stream",
          "text": [
            "Informe a medida do primeiro lado: 2\n",
            "Informe a medida do segundo lado: 3\n",
            "Informe a medida do terceiro lado: 8\n"
          ]
        }
      ]
    },
    {
      "cell_type": "markdown",
      "source": [
        "5**043 - Desenvolva uma lógica que leia o peso e a altura de uma pessoa, calcule seu Índice de Massa Corporal (IMC) e mostre seu status, de acordo com a tabela abaixo:**\n",
        "\n",
        "– IMC abaixo de 18,5: Abaixo do Peso\n",
        "\n",
        "– Entre 18,5 e 25: Peso Ideal\n",
        "\n",
        "– 25 até 30: Sobrepeso\n",
        "\n",
        "– 30 até 40: Obesidade\n",
        "\n",
        "– Acima de 40: Obesidade Mórbida"
      ],
      "metadata": {
        "id": "BDisbd4j1_Op"
      }
    },
    {
      "cell_type": "markdown",
      "source": [
        "**044 - Elabore um programa que calcule o valor a ser pago por um produto, considerando o seu preço normal e condição de pagamento:**\n",
        "\n",
        "– à vista dinheiro/cheque: 10% de desconto\n",
        "\n",
        "– à vista no cartão: 5% de desconto\n",
        "\n",
        "– em até 2x no cartão: preço formal\n",
        "\n",
        "– 3x ou mais no cartão: 20% de juros"
      ],
      "metadata": {
        "id": "QniZg_dU1_FS"
      }
    },
    {
      "cell_type": "markdown",
      "source": [
        "**045 - Crie um programa que faça o computador jogar Jokenpô com você.**"
      ],
      "metadata": {
        "id": "NWwM7jxU1-kX"
      }
    },
    {
      "cell_type": "code",
      "source": [],
      "metadata": {
        "id": "JX5AHZ8e3dWm"
      },
      "execution_count": null,
      "outputs": []
    }
  ]
}