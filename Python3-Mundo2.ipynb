{
  "nbformat": 4,
  "nbformat_minor": 0,
  "metadata": {
    "colab": {
      "provenance": [],
      "authorship_tag": "ABX9TyMDnQLDWE/Op4xk5gYaAsH7",
      "include_colab_link": true
    },
    "kernelspec": {
      "name": "python3",
      "display_name": "Python 3"
    },
    "language_info": {
      "name": "python"
    }
  },
  "cells": [
    {
      "cell_type": "markdown",
      "metadata": {
        "id": "view-in-github",
        "colab_type": "text"
      },
      "source": [
        "<a href=\"https://colab.research.google.com/github/EriveltoViana/EriveltoViana/blob/main/Python3-Mundo2.ipynb\" target=\"_parent\"><img src=\"https://colab.research.google.com/assets/colab-badge.svg\" alt=\"Open In Colab\"/></a>"
      ]
    },
    {
      "cell_type": "markdown",
      "source": [
        "**AULA 12 - CONDIÇÕES ANINHADAS** if, elif, else"
      ],
      "metadata": {
        "id": "QiwS776b3flT"
      }
    },
    {
      "cell_type": "markdown",
      "source": [
        "**036 - Escreva um programa para aprovar o empréstimo bancário para a compra de uma casa. Pergunte o valor da casa, o salário do comprador e em quantos anos ele vai pagar. A prestação mensal não pode exceder 30% do salário ou então o empréstimo será negado.**"
      ],
      "metadata": {
        "id": "s9GmkPDd198m"
      }
    },
    {
      "cell_type": "code",
      "source": [
        "from time import sleep\n",
        "print('=-='*20)\n",
        "print('EMPRÉSTIMO PARA IMÓVEL - Minha casa, Minha vida')\n",
        "print('=-='*20)\n",
        "nome = (input('Qual o seu nome? ')).strip().title()\n",
        "print('Ola, Sr.', nome,'!')\n",
        "valor = float(input(('Me informe o valor da casa que o Sr. deseja comprar: R$' )))\n",
        "salario = float(input('Bacana Sr. {}. Agora me informe a sua renda mensal: R$' .format(nome) ))\n",
        "tempo = float(input('Legal! Diga em quantos meses fica bom para o senhor pagar: '))\n",
        "print('CERTO! Deixe-me verificar a possibilidade do seu empréstimo.')\n",
        "sleep(3)\n",
        "print('Só mais um momento...')\n",
        "sleep(2)\n",
        "print('Verificando...')\n",
        "sleep(1)\n",
        "\n",
        "parcelaparaaprovacao = float(valor/tempo)\n",
        "\n",
        "if parcelaparaaprovacao <= (30/100)*salario:\n",
        "  print('PARABÉNS! O empréstimo no valor de {:.3f} foi aprovado.'.format(valor))\n",
        "  print('O valor da parcela será de R${:.3f}: '.format(parcelaparaaprovacao*1000))\n",
        "else:\n",
        "  print('Empréstimo negado. O valor da parcela foi de R${:.3f} e supera 30% da sua renda mensal.'.format(parcelaparaaprovacao*1000))\n",
        "  print('O valor da parcela será de R${:.3f}: '.format(parcelaparaaprovacao*1000))\n",
        "\n",
        "print('=-='*20)\n",
        "print('EMPRÉSTIMO PARA IMÓVEL - Minha casa, Minha vida')\n",
        "print('=-='*20)"
      ],
      "metadata": {
        "id": "7jVpCNUgDH4x"
      },
      "execution_count": null,
      "outputs": []
    },
    {
      "cell_type": "markdown",
      "source": [
        "**037 - Escreva um programa em Python que leia um número inteiro qualquer e peça para o usuário escolher qual será a base de conversão: 1 para binário, 2 para octal e 3 para hexadecimal.**"
      ],
      "metadata": {
        "id": "EkAbji1T1_5Z"
      }
    },
    {
      "cell_type": "code",
      "source": [
        "x = int(input('Digite um número inteiro: '))\n",
        "conversao = int(input('[1] para converter para BINÁRIO \\n[2] para converter para OCTAL \\n[3] para converter para HEXADECIMAL.\\n'))\n",
        "#binario = (bin(x))\n",
        "#octal = (oct(x))\n",
        "#hexadecimal = (hex(x))\n",
        "if conversao == 1:\n",
        "  print(bin(x)[2:]) #Usa-se o conceito de fatiamento de String para ignorar os dois primeiros dígitos indicadores da base de conversão.\n",
        "elif conversao == 2:\n",
        "  print(oct(x)[2:])\n",
        "elif conversao == 3:\n",
        "  print(hex(x)[2:])\n",
        "else:\n",
        "  print('Digite um número entre 1 e 3.')"
      ],
      "metadata": {
        "id": "EnE8D5UXq72d"
      },
      "execution_count": null,
      "outputs": []
    },
    {
      "cell_type": "markdown",
      "source": [
        "**038 - Escreva um programa que leia dois números inteiros e compare-os. mostrando na tela uma mensagem:**\n",
        "\n",
        "– O primeiro valor é maior\n",
        "\n",
        "– O segundo valor é maior\n",
        "\n",
        "– Não existe valor maior, os dois são iguais"
      ],
      "metadata": {
        "id": "Kz21gYT51_yK"
      }
    },
    {
      "cell_type": "code",
      "source": [
        "x1 = int(input('Informe um número: '))\n",
        "x2 = int(input('Informe outro número: '))\n",
        "if x1>x2:\n",
        "  print('O número {} é maior que o número {}.'.format(x1,x2))\n",
        "elif x2>x1:\n",
        "  print('O número {} é maior que o número {}.'.format(x2,x1))\n",
        "else:\n",
        "  print('Os números são iguais.')"
      ],
      "metadata": {
        "id": "sZ8Fj18kLHXV"
      },
      "execution_count": null,
      "outputs": []
    },
    {
      "cell_type": "markdown",
      "source": [
        "**039 - Faça um programa que leia o ano de nascimento de um jovem e informe, de acordo com a sua idade, se ele ainda vai se alistar ao serviço militar, se é a hora exata de se alistar ou se já passou do tempo do alistamento. Seu programa também deverá mostrar o tempo que falta ou que passou do prazo.**"
      ],
      "metadata": {
        "id": "rP6qiUSE1_rI"
      }
    },
    {
      "cell_type": "code",
      "source": [
        "from datetime import date\n",
        "ano = int(input('informe o seu ano de nascimento: '))\n",
        "hoje = date.today().year\n",
        "print('Sua idade é {} anos.'.format(hoje-ano))\n",
        "#alistamento = ano+18\n",
        "periodo = (hoje-ano)\n",
        "if periodo > 18:\n",
        "  print('Já se passaram {} anos do seu perído de alistamento militar obrigatório.'.format(periodo-18))\n",
        "elif periodo == 18:\n",
        "  print('Você está no ano do seu alistamento militar obrigatório.')\n",
        "else:\n",
        "  print('Ainda faltam {} anos para o seu alistamento militar obrigatório.'.format(18-periodo))"
      ],
      "metadata": {
        "id": "XFvaukAKL19I"
      },
      "execution_count": null,
      "outputs": []
    },
    {
      "cell_type": "markdown",
      "source": [
        "**040 - Crie um programa que leia duas notas de um aluno e calcule sua média, mostrando uma mensagem no final, de acordo com a média atingida:**\n",
        "\n",
        "– Média abaixo de 5.0: REPROVADO\n",
        "\n",
        "– Média entre 5.0 e 6.9: RECUPERAÇÃO\n",
        "\n",
        "– Média 7.0 ou superior: APROVADO"
      ],
      "metadata": {
        "id": "woIGfrGm1_kn"
      }
    },
    {
      "cell_type": "code",
      "source": [
        "n1 = float(input('informa a primeira nota do aluno: '))\n",
        "n2 = float(input('informa a segunda nota do aluno: '))\n",
        "media = (n1+n2)/2\n",
        "\n",
        "if media < 5.0:\n",
        "  print('Aluno Reprovado')\n",
        "elif media >= 5.0 and media <= 6.9:\n",
        "  print('Aluno de Recuperação')\n",
        "else:\n",
        "  print('Aluno Aprovado')"
      ],
      "metadata": {
        "id": "oEXRfKy3SfgI"
      },
      "execution_count": null,
      "outputs": []
    },
    {
      "cell_type": "markdown",
      "source": [
        "**041 - A Confederação Nacional de Natação precisa de um programa que leia o ano de nascimento de um atleta e mostre sua categoria, de acordo com a idade:**\n",
        "\n",
        "– Até 9 anos: MIRIM\n",
        "\n",
        "– Até 14 anos: INFANTIL\n",
        "\n",
        "– Até 19 anos: JÚNIOR\n",
        "\n",
        "– Até 25 anos: SÊNIOR\n",
        "\n",
        "– Acima de 25 anos: MASTER"
      ],
      "metadata": {
        "id": "r8hrAVJP1_dN"
      }
    },
    {
      "cell_type": "code",
      "source": [
        "from datetime import date\n",
        "ano = int(input('Digite o ano de nascimento do atleta: '))\n",
        "hoje = date.today().year\n",
        "categoria = hoje-ano\n",
        "print('A idade do atleta é {} anos.'.format(categoria))\n",
        "\n",
        "if categoria <= 9:\n",
        "  print('Com esta idade o atleta fica categorizado como MIRIM.')\n",
        "elif categoria <= 14:\n",
        "  print('Com esta idade o atleta fica categorizado como INFANTIL.')\n",
        "elif categoria <= 19:\n",
        "  print('Com esta idade o atleta fica categorizado como JÚNIOR.')\n",
        "elif categoria <= 25:\n",
        "  print('Com esta idade o atleta fica categorizado como SENIOR.')\n",
        "else:\n",
        "  print('Com esta idade o atleta fica categorizado como MASTER.')"
      ],
      "metadata": {
        "id": "dIpgPX1iVC54"
      },
      "execution_count": null,
      "outputs": []
    },
    {
      "cell_type": "markdown",
      "source": [
        "**042 - Refaça o DESAFIO 35 dos triângulos, acrescentando o recurso de mostrar que tipo de triângulo será formado:**\n",
        "\n",
        "– EQUILÁTERO: todos os lados iguais\n",
        "\n",
        "– ISÓSCELES: dois lados iguais, um diferente\n",
        "\n",
        "– ESCALENO: todos os lados diferentes"
      ],
      "metadata": {
        "id": "xSZ_NTIF1_V7"
      }
    },
    {
      "cell_type": "code",
      "source": [
        "r1 = float(input('Informe a medida do primeiro lado: '))\n",
        "r2 = float(input('Informe a medida do segundo lado: '))\n",
        "r3 = float(input('Informe a medida do terceiro lado: '))\n",
        "\n",
        "if r1 < r2 + r3 and r2 < r1 + r3 and r3 < r2 + r1:\n",
        "  print('Forma triângulo:')\n",
        "\n",
        "  if (r1 == r2 == r3):\n",
        "    print('Equilátero')\n",
        "\n",
        "  elif (r1 == r2 != r3) or (r1 != r2 == r3) or (r1 == r3 != r2) or (r1 != r3 == r2):\n",
        "    print('Isósceles')\n",
        "\n",
        "  elif (r1 != r2 != r3):\n",
        "    print('Escaleno')\n",
        "\n",
        "else:\n",
        "  print('Não forma triângulo!')\n"
      ],
      "metadata": {
        "id": "p5DcKtEXZdGO"
      },
      "execution_count": null,
      "outputs": []
    },
    {
      "cell_type": "markdown",
      "source": [
        "**043 - Desenvolva uma lógica que leia o peso e a altura de uma pessoa, calcule seu Índice de Massa Corporal (IMC) e mostre seu status, de acordo com a tabela abaixo:**\n",
        "\n",
        "– IMC abaixo de 18,5: Abaixo do Peso\n",
        "\n",
        "– Entre 18,5 e 25: Peso Ideal\n",
        "\n",
        "– 25 até 30: Sobrepeso\n",
        "\n",
        "– 30 até 40: Obesidade\n",
        "\n",
        "– Acima de 40: Obesidade Mórbida"
      ],
      "metadata": {
        "id": "BDisbd4j1_Op"
      }
    },
    {
      "cell_type": "code",
      "source": [
        "from math import trunc\n",
        "peso = float(input('Favor, informe o peso: '))\n",
        "altura = float(input('Favor, informe a altura: '))\n",
        "imc = float(peso / (altura*altura))\n",
        "print(f'O seu IMC corresponde a: {trunc(imc)}.') #SE LIGA QUE MANEIRA LEGAL DE FORMATAÇÃO DE STRING\n",
        "if imc < 18.5:\n",
        "  print('Você está abaixo do peso.')\n",
        "elif imc >= 18.5 and imc < 25:\n",
        "  print('Você está no peso ideal.')\n",
        "elif imc >= 25 and imc < 30:\n",
        "  print('Você está com Sobrepeso.')\n",
        "elif imc >= 30 and imc < 40:\n",
        "  print('Você está com Obesidade.')\n",
        "elif imc >= 40:\n",
        "  print('Você está com Obesidade Mórbida.')\n",
        "else:\n",
        "  print('Insira valores reais para o cálculo do IMC.')"
      ],
      "metadata": {
        "id": "0r3tbEfWL7Fz"
      },
      "execution_count": null,
      "outputs": []
    },
    {
      "cell_type": "markdown",
      "source": [
        "**044 - Elabore um programa que calcule o valor a ser pago por um produto, considerando o seu preço normal e condição de pagamento:**\n",
        "\n",
        "– à vista dinheiro/cheque: 10% de desconto\n",
        "\n",
        "– à vista no cartão: 5% de desconto\n",
        "\n",
        "– em até 2x no cartão: preço formal\n",
        "\n",
        "– 3x ou mais no cartão: 20% de juros"
      ],
      "metadata": {
        "id": "QniZg_dU1_FS"
      }
    },
    {
      "cell_type": "code",
      "source": [
        "#MANEIRA BURRA DE RESPONDER\n",
        "print('¨'*90)\n",
        "valor = float(input('Informe o valor do produto: \\nR$'))\n",
        "print('[1] À vista no dinheiro/cheque - 10% de desconto.')\n",
        "print('[2] À vista no cartão - 5% de desconto')\n",
        "print('[3] Em até 2x no cartão - preço normal')\n",
        "print('[4] Em 3x ou mais no cartão - 20% de juros.\\n')\n",
        "formap = int(input('Qual a forma de pagamento?\\n'))\n",
        "\n",
        "if formap == 1:\n",
        "  print(f\"O valor do produto à vista com 10% de desconto é {(valor-(10/100)*valor)}.\")\n",
        "elif formap == 2:\n",
        "  print(f\"O valor do produto à vista no cartão com 5% de desconto é {valor-((5/100)*valor)}.\")\n",
        "elif formap == 3:\n",
        "  print(f\"O valor do produto em até 2x no cartão fica no preço normal de R${valor}. Cada parcela fica em 2x R${valor/2}.\")\n",
        "elif formap == 4:\n",
        "#print(f\"O valor do produto em 3x ou mais no cartão tem um acréscimo de 20% no valor ficando R${(valor+(20/100)*valor)}.\")\n",
        "  parcelas = int(input('Entre 3 e 10 parcelas, em quantas pretende dividir? \\n'))\n",
        "  if parcelas == 3:\n",
        "    print('Parcelado em {} fica 3 x {:.2f}!'.format(parcelas, (((20/100)*valor) + valor)/3))\n",
        "  elif parcelas == 4:\n",
        "    print('Parcelado em {} fica 4 x {:.2f}!'.format(parcelas, (((20/100)*valor) + valor)/4))\n",
        "  elif parcelas == 5:\n",
        "    print('Parcelado em {} fica 5 x {:.2f}!'.format(parcelas, (((20/100)*valor) + valor)/5))\n",
        "  elif parcelas == 6:\n",
        "    print('Parcelado em {} fica 6 x {:.2f}!'.format(parcelas, (((20/100)*valor) + valor)/6))\n",
        "  elif parcelas == 7:\n",
        "    print('Parcelado em {} fica 7 x {:.2f}!'.format(parcelas, (((20/100)*valor) + valor)/7))\n",
        "  elif parcelas == 8:\n",
        "    print('Parcelado em {} fica 8 x {:.2f}!'.format(parcelas, (((20/100)*valor) + valor)/8))\n",
        "  elif parcelas == 9:\n",
        "    print('Parcelado em {} fica 9 x {:.2f}!'.format(parcelas, (((20/100)*valor) + valor)/9))\n",
        "  else:\n",
        "    print('Parcelado em {} fica 10 x {:.2f}!'.format(parcelas, (((20/100)*valor) + valor)/10))\n",
        "else:\n",
        "  print(\"Digite um número entre 1 e 4.\")\n",
        "\n",
        "print('¨'*90)"
      ],
      "metadata": {
        "id": "joGg5Xp6074v"
      },
      "execution_count": null,
      "outputs": []
    },
    {
      "cell_type": "code",
      "source": [
        "#MANEIRA MAIS ESPERTA DE RESOLVER\n",
        "preco = float(input('Digite o valor do produto: \\n'))\n",
        "avista = preco-(preco*(10/100))\n",
        "avistac = preco-(preco*(5/100))\n",
        "cred = (preco/2)\n",
        "credito = preco+(preco*(20/100))\n",
        "pagamento = int(input('ESCOLHA UM MEIO DE PAGAMENTO: \\n[1] - À VISTA NO DINHEIRO \\n[2] - À VISTA NO CRÉDITO \\n[3] - EM ATÉ 2X NO CARTÃO \\n[4] - EM 3X OU MAIS NO CARTÃO \\n[+] '))\n",
        "\n",
        "if pagamento == 1:\n",
        "  print('O valor a ser pago à vista no dinheiro ou cheque é: {:.2f}.'.format(avista))\n",
        "elif pagamento == 2:\n",
        "  print('O valor a ser pago à vista no cartão é: {:.2f}.'.format(avistac))\n",
        "elif pagamento == 3:\n",
        "  print('O valor a ser pago em 2x no crédito é: {:.2f}.'.format(cred))\n",
        "elif pagamento == 4:\n",
        "  qtd = int(input('DESEJA DIVIDIR EM QUANTAS VEZES?\\n[-] '))\n",
        "  print('O VALOR FINAL É {}, FICANDO EM {} PARCELAS DE {}.'.format(credito, qtd, (credito/qtd)))\n",
        "else:\n",
        "  print('Digite um número entre 1 e 4')"
      ],
      "metadata": {
        "id": "g6W3oxpl3vSn"
      },
      "execution_count": null,
      "outputs": []
    },
    {
      "cell_type": "markdown",
      "source": [
        "**045 - Crie um programa que faça o computador jogar Jokenpô com você.**"
      ],
      "metadata": {
        "id": "NWwM7jxU1-kX"
      }
    },
    {
      "cell_type": "code",
      "source": [
        "from random import randint\n",
        "from time import sleep\n",
        "\n",
        "print('¨'*60)\n",
        "print('[1] PEDRA')\n",
        "print('[2] PAPEL')\n",
        "print('[3] TESOURA')\n",
        "print('_'*60)\n",
        "\n",
        "jogador = int(input('Faça a sua jogada: '))\n",
        "\n",
        "sleep(1)\n",
        "print('                      JO\\n', end=' ')\n",
        "sleep(1)\n",
        "print('                        KEN\\n', end=' ')\n",
        "sleep(1)\n",
        "print('                            PÔ\\n')\n",
        "sleep(1)\n",
        "\n",
        "itens = ('Pedra', 'Papel', 'Tesoura')\n",
        "computador = randint(0,2)\n",
        "print('O computador jogou: {}.'.format(itens[computador]))\n",
        "\n",
        "if jogador == 1 and computador == 0:\n",
        "  print('PEDRA X PEDRA - \\nEMPATE!')\n",
        "elif jogador == 1 and computador == 1:\n",
        "  print('PEDRA X PAPEL - VOCÊ PERDEU! \\nPAPEL ENROLA PEDRA. ')\n",
        "elif jogador == 1 and computador == 2:\n",
        "  print('PEDRA X TESOURA - VOCÊ VENCEU! \\nPEDRA QUEBRA TESOURA.')\n",
        "\n",
        "elif jogador == 2 and computador == 0:\n",
        "  print('PAPEL X PEDRA - VOCÊ VENCEU - \\nPAPEL ENROLA PEDRA.')\n",
        "elif jogador == 2 and computador == 1:\n",
        "  print('PAPEL X PAPEL - \\nEMPATE!. ')\n",
        "elif jogador == 2 and computador == 2:\n",
        "  print('PAPEL X TESOURA - VOCÊ PERDEU! \\nTESOURA CORTA PAPEL..')\n",
        "\n",
        "elif jogador == 3 and computador == 0:\n",
        "\n",
        "  print('TESOURA X PEDRA - VOCÊ PERDEU! \\nPEDRA QUEBRA TESOURA.')\n",
        "elif jogador == 3 and computador == 1:\n",
        "  print('TESOURA X PAPEL - VOCÊ VENCEU! \\nTESOURA CORTA PAPEL. ')\n",
        "elif jogador == 3 and computador == 2:\n",
        "  print('TESOURA X TESOURA - \\nEMPATE!')\n",
        "else:\n",
        "  print('Digite um número entre 1 e 3.')\n",
        "print('¨'*60)"
      ],
      "metadata": {
        "id": "a-Dyzhvt6LzM"
      },
      "execution_count": null,
      "outputs": []
    },
    {
      "cell_type": "markdown",
      "source": [
        "**AULA 13 - ESTRUTURAS DE REPETIÇÃO**\n",
        "\n",
        "---\n",
        "\n",
        "\n",
        "for c in range(0, 4):"
      ],
      "metadata": {
        "id": "zmy7ONu04Anq"
      }
    },
    {
      "cell_type": "markdown",
      "source": [
        "**046 - Faça um programa que mostre na tela uma contagem regressiva para o estouro de fogos de artifício, indo de 10 até 0, com uma pausa de 1 segundo entre eles.**"
      ],
      "metadata": {
        "id": "QMxKI9074cSj"
      }
    },
    {
      "cell_type": "code",
      "source": [
        "from time import sleep\n",
        "for c in range (10,-1,-1):\n",
        "  sleep(0.5)\n",
        "  print(c)\n",
        "sleep(1)\n",
        "print('Happy New Year!')"
      ],
      "metadata": {
        "id": "rmcGHHhD5QvZ"
      },
      "execution_count": null,
      "outputs": []
    },
    {
      "cell_type": "markdown",
      "source": [
        "**047 - Crie um programa que mostre na tela todos os números pares que estão no intervalo entre 1 e 50.**"
      ],
      "metadata": {
        "id": "a7XzO3kH4cLa"
      }
    },
    {
      "cell_type": "code",
      "source": [
        "for c in range (2,51,2):\n",
        "  print(c, end=' ')"
      ],
      "metadata": {
        "id": "qccfbo1o5RkS"
      },
      "execution_count": null,
      "outputs": []
    },
    {
      "cell_type": "code",
      "source": [
        "for c in range (1,51):\n",
        "  if c % 2 == 0:\n",
        "    print(c, end=' ')"
      ],
      "metadata": {
        "id": "9O3RszAZipXA"
      },
      "execution_count": null,
      "outputs": []
    },
    {
      "cell_type": "markdown",
      "source": [
        "**048 - Faça um programa que calcule a soma entre todos os números ímpares que são múltiplos de três e que se encontram no intervalo de 1 até 500.**"
      ],
      "metadata": {
        "id": "vK3j62pP4cEy"
      }
    },
    {
      "cell_type": "code",
      "source": [
        "soma = 0 #ACUMULADOR\n",
        "cont = 0 #CONTADOR\n",
        "\n",
        "for c in range (1, 500, 2):\n",
        "  if c % 3 == 0:\n",
        "    soma = soma + c\n",
        "    cont = cont + 1\n",
        "    print(c, end=' ')\n",
        "print('\\nA soma entre todos os {} números solicitados é: {}.'.format(cont, soma))\n"
      ],
      "metadata": {
        "id": "oN8ttDzK5SKz"
      },
      "execution_count": null,
      "outputs": []
    },
    {
      "cell_type": "markdown",
      "source": [
        "**049 - Refaça o DESAFIO 9, mostrando a tabuada de um número que o usuário escolher, só que agora utilizando um laço for.**"
      ],
      "metadata": {
        "id": "BVA7zdqK4b9j"
      }
    },
    {
      "cell_type": "code",
      "source": [
        "n = int(input('Digite um número inteiro entre 1 e 10: '))\n"
      ],
      "metadata": {
        "id": "4ZyXusBs5S2M"
      },
      "execution_count": null,
      "outputs": []
    },
    {
      "cell_type": "markdown",
      "source": [
        "**050 - Desenvolva um programa que leia seis números inteiros e mostre a soma apenas daqueles que forem pares. Se o valor digitado for ímpar, desconsidere-o.**"
      ],
      "metadata": {
        "id": "MjicPjn24b3A"
      }
    },
    {
      "cell_type": "code",
      "source": [],
      "metadata": {
        "id": "268Sruay5TZM"
      },
      "execution_count": null,
      "outputs": []
    },
    {
      "cell_type": "markdown",
      "source": [
        "**051 - Desenvolva um programa que leia o primeiro termo e a razão de uma PA. No final, mostre os 10 primeiros termos dessa progressão.**"
      ],
      "metadata": {
        "id": "rnS_WLbm4bvu"
      }
    },
    {
      "cell_type": "code",
      "source": [],
      "metadata": {
        "id": "aI3jhitl5T7h"
      },
      "execution_count": null,
      "outputs": []
    },
    {
      "cell_type": "markdown",
      "source": [
        "**052 - Faça um programa que leia um número inteiro e diga se ele é ou não um número primo.**"
      ],
      "metadata": {
        "id": "8lBdt3w04bo9"
      }
    },
    {
      "cell_type": "code",
      "source": [],
      "metadata": {
        "id": "Gq12DHhY5UT2"
      },
      "execution_count": null,
      "outputs": []
    },
    {
      "cell_type": "markdown",
      "source": [
        "**053 - Crie um programa que leia uma frase qualquer e diga se ela é um palíndromo, desconsiderando os espaços. Exemplos de palíndromos:**\n",
        "\n",
        "APÓS A SOPA, A SACADA DA CASA, A TORRE DA DERROTA, O LOBO AMA O BOLO, ANOTARAM A DATA DA MARATONA."
      ],
      "metadata": {
        "id": "vS_t8RzG4biG"
      }
    },
    {
      "cell_type": "code",
      "source": [],
      "metadata": {
        "id": "yqTA1OCS5VHs"
      },
      "execution_count": null,
      "outputs": []
    }
  ]
}