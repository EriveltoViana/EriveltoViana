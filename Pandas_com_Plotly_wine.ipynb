{
  "nbformat": 4,
  "nbformat_minor": 0,
  "metadata": {
    "colab": {
      "provenance": [],
      "authorship_tag": "ABX9TyMwZ9TXGRu4jz6Z1Kac6n9O",
      "include_colab_link": true
    },
    "kernelspec": {
      "name": "python3",
      "display_name": "Python 3"
    },
    "language_info": {
      "name": "python"
    }
  },
  "cells": [
    {
      "cell_type": "markdown",
      "metadata": {
        "id": "view-in-github",
        "colab_type": "text"
      },
      "source": [
        "<a href=\"https://colab.research.google.com/github/EriveltoViana/EriveltoViana/blob/main/Pandas_com_Plotly_wine.ipynb\" target=\"_parent\"><img src=\"https://colab.research.google.com/assets/colab-badge.svg\" alt=\"Open In Colab\"/></a>"
      ]
    },
    {
      "cell_type": "code",
      "source": [
        "import pandas as pd\n",
        "import plotly.express as px\n",
        "from google.colab import files\n",
        "from IPython.display import HTML\n",
        "\n",
        "uploaded = files.upload()\n",
        "df = pd.read_csv('wine.csv')\n",
        "\n",
        "# Criando o gráfico de coordenadas paralelas\n",
        "fig = px.parallel_coordinates(\n",
        "    df,\n",
        "    title=\"Análise de Vinhos - Coordenadas Paralelas\",\n",
        "    dimensions=['Alcohol', 'Malic_acid', 'Ash', 'Alcalinity_ash', 'Total_phenols', 'Flavanoids', 'Nonflavanoid_phenols'],\n",
        "    color=df.iloc[:, 0],  # Usando a primeira coluna (classificação do vinho) para colorir\n",
        "    color_continuous_scale=px.colors.diverging.Tealrose,  # Escala de cores\n",
        "    labels={\n",
        "        'Alcohol': 'Álcool',\n",
        "        'Malic_acid': 'Ácido Málico',\n",
        "        'Ash': 'Cinzas',\n",
        "        'Alcalinity_ash': 'Alcalinidade das Cinzas',\n",
        "        'Total_phenols': 'Fenóis Totais',\n",
        "        'Flavanoids': 'Flavonoides',\n",
        "        'Nonflavanoid_phenols': 'Fenóis Não-flavonoides'\n",
        "    }\n",
        ")\n",
        "\n",
        "# Exibindo o gráfico\n",
        "fig.show()"
      ],
      "metadata": {
        "id": "SbGDDxanEVs-"
      },
      "execution_count": null,
      "outputs": []
    },
    {
      "cell_type": "markdown",
      "source": [
        "**Instalação e importação**"
      ],
      "metadata": {
        "id": "o5a2qC64mP2I"
      }
    },
    {
      "cell_type": "code",
      "source": [
        "#pip install pandas (Instalação, exceto no Anaconda ou no Colab. Precisa no Jupiter)\n",
        "#import pandas as pd (Como chamar o pandas)"
      ],
      "metadata": {
        "id": "KitPxQMimo41"
      },
      "execution_count": null,
      "outputs": []
    },
    {
      "cell_type": "markdown",
      "source": [
        "**DataFrames e Series**"
      ],
      "metadata": {
        "id": "Vl7-sPfjmPsP"
      }
    },
    {
      "cell_type": "code",
      "source": [
        "#DataFrames\n",
        "dados = {\n",
        "    'Nome': ['Alice', 'Bob', 'Charlie', 'David'],\n",
        "    'Idade': [25, 30, 35, 40],\n",
        "}\n",
        "df = pd.DataFrame(dados)\n",
        "print(df)"
      ],
      "metadata": {
        "id": "nwE-NtzLmpTa"
      },
      "execution_count": null,
      "outputs": []
    },
    {
      "cell_type": "code",
      "source": [
        "#Series\n",
        "s = pd.Series([1, 2, 3, 4, 5])\n",
        "print(s)"
      ],
      "metadata": {
        "id": "SpfmEFSvnnT2"
      },
      "execution_count": null,
      "outputs": []
    },
    {
      "cell_type": "markdown",
      "source": [
        "**Lendo Tabelas - DISPLAY MOSTRA DE UM JEITO. PRINT MOSTRA DE OUTRO.**"
      ],
      "metadata": {
        "id": "GlxfMIysmPkG"
      }
    },
    {
      "cell_type": "code",
      "source": [
        "!ls\n",
        "!rm dataset.csv"
      ],
      "metadata": {
        "id": "NPNQfNdGvx32"
      },
      "execution_count": null,
      "outputs": []
    },
    {
      "cell_type": "code",
      "source": [
        "#PARA ARQUIVOS CSV\n",
        "\n",
        "\n",
        "#JEITO 1\n",
        "#import csv\n",
        "#with open('wine.csv', 'r') as arquivo_csv:\n",
        "#    leitor_csv = csv.reader(arquivo_csv)\n",
        "#    for linha in leitor_csv:\n",
        "#        print(linha)\n",
        "\n",
        "\n",
        "#JEITO 2\n",
        "#import csv\n",
        "#with open(\"wine.csv\", \"r\") as arquivo:\n",
        "#    arquivo_csv = csv.reader(arquivo, delimiter=\",\")\n",
        "#    for i, linha in enumerate(arquivo_csv):\n",
        "#        if i == 0:\n",
        "#            print(\"Cabeçalho: \" + str(linha))\n",
        "#        else:\n",
        "#            print(\"Valor: \" + str(linha))\n",
        "\n",
        "\n",
        "#JEITO 3\n",
        "import pandas as pd\n",
        "tabela = pd.read_csv(\"wine.csv\", sep=\",\")\n",
        "display(tabela)\n",
        "print(tabela['Flavanoids'].sum())"
      ],
      "metadata": {
        "id": "wDYtwdK9mpo-"
      },
      "execution_count": null,
      "outputs": []
    },
    {
      "cell_type": "code",
      "source": [
        "#PARA ARQUIVOS EXCEL\n",
        "\n",
        "from google.colab import files\n",
        "\n",
        "uploaded = files.upload()\n",
        "df = pd.read_excel('BD CURSOS-1.xlsx')\n",
        "print(df)"
      ],
      "metadata": {
        "id": "J9O9aD0msfVN"
      },
      "execution_count": null,
      "outputs": []
    },
    {
      "cell_type": "code",
      "source": [
        "!rm dataset.xlsx"
      ],
      "metadata": {
        "id": "naY8THocuVFD"
      },
      "execution_count": null,
      "outputs": []
    },
    {
      "cell_type": "code",
      "source": [
        "#PARA ARQUIVOS EXCEL\n",
        "\n",
        "from google.colab import files\n",
        "\n",
        "uploaded = files.upload()\n",
        "df = pd.read_excel('dataset.xlsx')\n",
        "#print(df)\n",
        "display(df)"
      ],
      "metadata": {
        "id": "v3MkmoysttCO"
      },
      "execution_count": null,
      "outputs": []
    },
    {
      "cell_type": "markdown",
      "source": [
        "**Manipulação básica de dados**"
      ],
      "metadata": {
        "id": "EH9IbkF5x7XR"
      }
    },
    {
      "cell_type": "code",
      "source": [
        "df.head() #PARA VISUALIZAR AS 5 PRIMEIRAS LINHAS"
      ],
      "metadata": {
        "id": "AbsjBhYlx-x0"
      },
      "execution_count": null,
      "outputs": []
    },
    {
      "cell_type": "code",
      "source": [
        "df.tail() #PARA VISUALIZAR AS 5 ÚLTIMAS LINHAS"
      ],
      "metadata": {
        "id": "xNWRaTNcyEuI"
      },
      "execution_count": null,
      "outputs": []
    },
    {
      "cell_type": "code",
      "source": [
        "df[['ID_Cliente', 'Pais', 'Prioridade']] #SELECIONAR COLUNAS ESPECÍFICAS"
      ],
      "metadata": {
        "id": "h7MFt96Pmqjc"
      },
      "execution_count": null,
      "outputs": []
    },
    {
      "cell_type": "code",
      "source": [
        "df['Categoria']"
      ],
      "metadata": {
        "id": "biYJAvsyzDyU"
      },
      "execution_count": null,
      "outputs": []
    },
    {
      "cell_type": "markdown",
      "source": [
        "**Séries booleanas e filtros**"
      ],
      "metadata": {
        "id": "4NA8VmKqmPRr"
      }
    },
    {
      "cell_type": "code",
      "source": [
        "df['Quantidade'] > 9 #VISUALIZAÇÃO BOOLEADA"
      ],
      "metadata": {
        "id": "7tZCuLVmz6vM"
      },
      "execution_count": null,
      "outputs": []
    },
    {
      "cell_type": "code",
      "source": [
        "df[df['Quantidade'] > 9] #O MESMO CÓDIGO ACIMA DENTRO DO DF VIRA FILTRO"
      ],
      "metadata": {
        "id": "wTgrt3Vm0KH_"
      },
      "execution_count": null,
      "outputs": []
    },
    {
      "cell_type": "markdown",
      "source": [
        "**Combinando filtros**"
      ],
      "metadata": {
        "id": "Lls4WYKUmOfa"
      }
    },
    {
      "cell_type": "code",
      "source": [
        "#NECESSÁRIO CRIAR VARIÁVEIS, SETAR O FILTRO DESEJADO E UNIR COM O &.\n",
        "fsegmento = df['Segmento'] == 'Home Office'\n",
        "fpais = df['Pais'] == 'United States'\n",
        "fprioridade = df['Prioridade'] == 'Critico'\n",
        "fquantidade = df['Quantidade'] > 4\n",
        "\n",
        "df[fsegmento & fpais & fprioridade & fquantidade]\n"
      ],
      "metadata": {
        "id": "9rW66h6pmrAJ"
      },
      "execution_count": null,
      "outputs": []
    },
    {
      "cell_type": "markdown",
      "source": [
        "**Criando e removendo colunas**"
      ],
      "metadata": {
        "id": "CHLDfFF0mOVd"
      }
    },
    {
      "cell_type": "code",
      "source": [],
      "metadata": {
        "id": "hPXwDkDpmn3Y"
      },
      "execution_count": null,
      "outputs": []
    }
  ]
}