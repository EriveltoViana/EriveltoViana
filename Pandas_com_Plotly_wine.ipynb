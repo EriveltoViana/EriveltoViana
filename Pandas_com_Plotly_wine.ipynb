{
  "nbformat": 4,
  "nbformat_minor": 0,
  "metadata": {
    "colab": {
      "provenance": [],
      "authorship_tag": "ABX9TyPXRb/ttQmm6hCg8sa7jiuj",
      "include_colab_link": true
    },
    "kernelspec": {
      "name": "python3",
      "display_name": "Python 3"
    },
    "language_info": {
      "name": "python"
    }
  },
  "cells": [
    {
      "cell_type": "markdown",
      "metadata": {
        "id": "view-in-github",
        "colab_type": "text"
      },
      "source": [
        "<a href=\"https://colab.research.google.com/github/EriveltoViana/EriveltoViana/blob/main/Pandas_com_Plotly_wine.ipynb\" target=\"_parent\"><img src=\"https://colab.research.google.com/assets/colab-badge.svg\" alt=\"Open In Colab\"/></a>"
      ]
    },
    {
      "cell_type": "code",
      "source": [
        "import pandas as pd\n",
        "import plotly.express as px\n",
        "from google.colab import files\n",
        "from IPython.display import HTML\n",
        "\n",
        "uploaded = files.upload()\n",
        "df = pd.read_csv('wine.csv')\n",
        "\n",
        "# Criando o gráfico de coordenadas paralelas\n",
        "fig = px.parallel_coordinates(\n",
        "    df,\n",
        "    title=\"Análise de Vinhos - Coordenadas Paralelas\",\n",
        "    dimensions=['Alcohol', 'Malic_acid', 'Ash', 'Alcalinity_ash', 'Total_phenols', 'Flavanoids', 'Nonflavanoid_phenols'],\n",
        "    color=df.iloc[:, 0],  # Usando a primeira coluna (classificação do vinho) para colorir\n",
        "    color_continuous_scale=px.colors.diverging.Tealrose,  # Escala de cores\n",
        "    labels={\n",
        "        'Alcohol': 'Álcool',\n",
        "        'Malic_acid': 'Ácido Málico',\n",
        "        'Ash': 'Cinzas',\n",
        "        'Alcalinity_ash': 'Alcalinidade das Cinzas',\n",
        "        'Total_phenols': 'Fenóis Totais',\n",
        "        'Flavanoids': 'Flavonoides',\n",
        "        'Nonflavanoid_phenols': 'Fenóis Não-flavonoides'\n",
        "    }\n",
        ")\n",
        "\n",
        "# Exibindo o gráfico\n",
        "fig.show()"
      ],
      "metadata": {
        "id": "SbGDDxanEVs-"
      },
      "execution_count": null,
      "outputs": []
    },
    {
      "cell_type": "markdown",
      "source": [
        "**Instalação e importação**"
      ],
      "metadata": {
        "id": "o5a2qC64mP2I"
      }
    },
    {
      "cell_type": "code",
      "source": [
        "#pip install pandas (Instalação, exceto no Anaconda ou no Colab. Precisa no Jupiter)\n",
        "#import pandas as pd (Como chamar o pandas)"
      ],
      "metadata": {
        "id": "KitPxQMimo41"
      },
      "execution_count": null,
      "outputs": []
    },
    {
      "cell_type": "markdown",
      "source": [
        "**DataFrames e Series**"
      ],
      "metadata": {
        "id": "Vl7-sPfjmPsP"
      }
    },
    {
      "cell_type": "code",
      "source": [
        "#DataFrames\n",
        "dados = {\n",
        "    'Nome': ['Alice', 'Bob', 'Charlie', 'David'],\n",
        "    'Idade': [25, 30, 35, 40],\n",
        "}\n",
        "df = pd.DataFrame(dados)\n",
        "print(df)"
      ],
      "metadata": {
        "id": "nwE-NtzLmpTa"
      },
      "execution_count": null,
      "outputs": []
    },
    {
      "cell_type": "code",
      "source": [
        "#Series\n",
        "s = pd.Series([1, 2, 3, 4, 5])\n",
        "print(s)"
      ],
      "metadata": {
        "id": "SpfmEFSvnnT2"
      },
      "execution_count": null,
      "outputs": []
    },
    {
      "cell_type": "markdown",
      "source": [
        "**Lendo Tabelas - DISPLAY MOSTRA DE UM JEITO. PRINT MOSTRA DE OUTRO.**"
      ],
      "metadata": {
        "id": "GlxfMIysmPkG"
      }
    },
    {
      "cell_type": "code",
      "source": [
        "!ls\n",
        "!rm dataset.csv"
      ],
      "metadata": {
        "id": "NPNQfNdGvx32"
      },
      "execution_count": null,
      "outputs": []
    },
    {
      "cell_type": "code",
      "source": [
        "#PARA ARQUIVOS CSV\n",
        "\n",
        "\n",
        "#JEITO 1\n",
        "#import csv\n",
        "#with open('wine.csv', 'r') as arquivo_csv:\n",
        "#    leitor_csv = csv.reader(arquivo_csv)\n",
        "#    for linha in leitor_csv:\n",
        "#        print(linha)\n",
        "\n",
        "\n",
        "#JEITO 2\n",
        "#import csv\n",
        "#with open(\"wine.csv\", \"r\") as arquivo:\n",
        "#    arquivo_csv = csv.reader(arquivo, delimiter=\",\")\n",
        "#    for i, linha in enumerate(arquivo_csv):\n",
        "#        if i == 0:\n",
        "#            print(\"Cabeçalho: \" + str(linha))\n",
        "#        else:\n",
        "#            print(\"Valor: \" + str(linha))\n",
        "\n",
        "\n",
        "#JEITO 3\n",
        "import pandas as pd\n",
        "tabela = pd.read_csv(\"wine.csv\", sep=\",\")\n",
        "display(tabela)\n",
        "print(tabela['Flavanoids'].sum())"
      ],
      "metadata": {
        "id": "wDYtwdK9mpo-"
      },
      "execution_count": null,
      "outputs": []
    },
    {
      "cell_type": "code",
      "source": [
        "#PARA ARQUIVOS EXCEL\n",
        "\n",
        "from google.colab import files\n",
        "\n",
        "uploaded = files.upload()\n",
        "df = pd.read_excel('BD CURSOS-1.xlsx')\n",
        "print(df)"
      ],
      "metadata": {
        "id": "J9O9aD0msfVN"
      },
      "execution_count": null,
      "outputs": []
    },
    {
      "cell_type": "code",
      "source": [
        "!rm dataset.xlsx"
      ],
      "metadata": {
        "id": "naY8THocuVFD"
      },
      "execution_count": null,
      "outputs": []
    },
    {
      "cell_type": "code",
      "source": [
        "#PARA ARQUIVOS EXCEL\n",
        "\n",
        "from google.colab import files\n",
        "\n",
        "uploaded = files.upload()\n",
        "df = pd.read_excel('dataset.xlsx')\n",
        "#print(df)\n",
        "display(df)"
      ],
      "metadata": {
        "id": "v3MkmoysttCO"
      },
      "execution_count": null,
      "outputs": []
    },
    {
      "cell_type": "markdown",
      "source": [
        "**Manipulação básica de dados**"
      ],
      "metadata": {
        "id": "EH9IbkF5x7XR"
      }
    },
    {
      "cell_type": "code",
      "source": [
        "df.head() #PARA VISUALIZAR AS 5 PRIMEIRAS LINHAS"
      ],
      "metadata": {
        "id": "AbsjBhYlx-x0"
      },
      "execution_count": null,
      "outputs": []
    },
    {
      "cell_type": "code",
      "source": [
        "df.tail() #PARA VISUALIZAR AS 5 ÚLTIMAS LINHAS"
      ],
      "metadata": {
        "id": "xNWRaTNcyEuI"
      },
      "execution_count": null,
      "outputs": []
    },
    {
      "cell_type": "code",
      "source": [
        "df[['ID_Cliente', 'Pais', 'Prioridade']] #SELECIONAR COLUNAS ESPECÍFICAS"
      ],
      "metadata": {
        "id": "h7MFt96Pmqjc"
      },
      "execution_count": null,
      "outputs": []
    },
    {
      "cell_type": "code",
      "source": [
        "df['Categoria']"
      ],
      "metadata": {
        "id": "biYJAvsyzDyU"
      },
      "execution_count": null,
      "outputs": []
    },
    {
      "cell_type": "markdown",
      "source": [
        "**Séries booleanas e filtros**"
      ],
      "metadata": {
        "id": "4NA8VmKqmPRr"
      }
    },
    {
      "cell_type": "code",
      "source": [
        "df['Quantidade'] > 9 #VISUALIZAÇÃO BOOLEADA"
      ],
      "metadata": {
        "id": "7tZCuLVmz6vM"
      },
      "execution_count": null,
      "outputs": []
    },
    {
      "cell_type": "code",
      "source": [
        "df[df['Quantidade'] > 9] #O MESMO CÓDIGO ACIMA DENTRO DO DF VIRA FILTRO"
      ],
      "metadata": {
        "id": "wTgrt3Vm0KH_"
      },
      "execution_count": null,
      "outputs": []
    },
    {
      "cell_type": "markdown",
      "source": [
        "**Combinando filtros**"
      ],
      "metadata": {
        "id": "Lls4WYKUmOfa"
      }
    },
    {
      "cell_type": "code",
      "source": [
        "#NECESSÁRIO CRIAR VARIÁVEIS, SETAR O FILTRO DESEJADO E UNIR COM O &.\n",
        "fsegmento = df['Segmento'] == 'Home Office'\n",
        "fpais = df['Pais'] == 'United States'\n",
        "fprioridade = df['Prioridade'] == 'Critico'\n",
        "fquantidade = df['Quantidade'] > 4\n",
        "\n",
        "df[fsegmento & fpais & fprioridade & fquantidade]\n"
      ],
      "metadata": {
        "id": "9rW66h6pmrAJ"
      },
      "execution_count": null,
      "outputs": []
    },
    {
      "cell_type": "markdown",
      "source": [
        "**Criando e removendo colunas**"
      ],
      "metadata": {
        "id": "CHLDfFF0mOVd"
      }
    },
    {
      "cell_type": "code",
      "source": [
        "#PARA CRIAR UMA NOVA COLUNA VOCÊ ACESSA ELA COMO SE JÁ EXISTISSE E EM SEGUIDA IGUALA ELA A UMA EXISTENTE COM AS DEVIDAS DIFERENÇAS\n",
        "df['Novo_ID_Cliente'] = df['ID_Cliente']+'n'"
      ],
      "metadata": {
        "id": "hPXwDkDpmn3Y"
      },
      "execution_count": null,
      "outputs": []
    },
    {
      "cell_type": "code",
      "source": [
        "#VISUALIZAR A COLUNA ORIGINAL E A RECEM CRIADA\n",
        "df[['ID_Cliente','Novo_ID_Cliente']]"
      ],
      "metadata": {
        "id": "uK8XEhaG6uLH"
      },
      "execution_count": null,
      "outputs": []
    },
    {
      "cell_type": "code",
      "source": [
        "#REMOVENDO COLUNAS\n",
        "df = df.drop('Novo_ID_Cliente', axis=1)"
      ],
      "metadata": {
        "id": "PLWm-cFs7gh3"
      },
      "execution_count": null,
      "outputs": []
    },
    {
      "cell_type": "markdown",
      "source": [
        "**Resumindo dados**"
      ],
      "metadata": {
        "id": "v4Utf6pv9Qsk"
      }
    },
    {
      "cell_type": "code",
      "source": [
        "#Gera um resumo informativo da DataFrame\n",
        "df.info()"
      ],
      "metadata": {
        "colab": {
          "base_uri": "https://localhost:8080/"
        },
        "id": "kUMujh-Y8e2I",
        "outputId": "a0965aea-c3ff-486d-b4a2-5aa77d6591af"
      },
      "execution_count": 107,
      "outputs": [
        {
          "output_type": "stream",
          "name": "stdout",
          "text": [
            "<class 'pandas.core.frame.DataFrame'>\n",
            "RangeIndex: 51290 entries, 0 to 51289\n",
            "Data columns (total 14 columns):\n",
            " #   Column        Non-Null Count  Dtype  \n",
            "---  ------        --------------  -----  \n",
            " 0   ID_Pedido     51290 non-null  object \n",
            " 1   Data_Pedido   51290 non-null  object \n",
            " 2   ID_Cliente    51290 non-null  object \n",
            " 3   Segmento      51290 non-null  object \n",
            " 4   Regiao        51290 non-null  object \n",
            " 5   Pais          51290 non-null  object \n",
            " 6   Product ID    51290 non-null  object \n",
            " 7   Categoria     51290 non-null  object \n",
            " 8   SubCategoria  51290 non-null  object \n",
            " 9   Total_Vendas  51290 non-null  float64\n",
            " 10  Quantidade    51290 non-null  int64  \n",
            " 11  Desconto      51290 non-null  float64\n",
            " 12  Lucro         51290 non-null  float64\n",
            " 13  Prioridade    51290 non-null  object \n",
            "dtypes: float64(3), int64(1), object(10)\n",
            "memory usage: 5.5+ MB\n"
          ]
        }
      ]
    },
    {
      "cell_type": "code",
      "source": [
        "#Gera um resumo estatístico das colunas numéricas (Procurar saber sobre)\n",
        "df.describe()"
      ],
      "metadata": {
        "colab": {
          "base_uri": "https://localhost:8080/",
          "height": 300
        },
        "id": "j1HaD78d9nYJ",
        "outputId": "bb8e5165-7f3a-43cb-dde6-8a037cb8341e"
      },
      "execution_count": 104,
      "outputs": [
        {
          "output_type": "execute_result",
          "data": {
            "text/plain": [
              "       Total_Vendas    Quantidade      Desconto         Lucro\n",
              "count  51290.000000  51290.000000  51290.000000  51290.000000\n",
              "mean     246.490581      3.476545      0.142908     28.610982\n",
              "std      487.565361      2.278766      0.212280    174.340972\n",
              "min        0.444000      1.000000      0.000000  -6599.978000\n",
              "25%       30.758625      2.000000      0.000000      0.000000\n",
              "50%       85.053000      3.000000      0.000000      9.240000\n",
              "75%      251.053200      5.000000      0.200000     36.810000\n",
              "max    22638.480000     14.000000      0.850000   8399.976000"
            ],
            "text/html": [
              "\n",
              "  <div id=\"df-4b76df3e-bc4c-406e-a3a0-5b074c36d8bd\" class=\"colab-df-container\">\n",
              "    <div>\n",
              "<style scoped>\n",
              "    .dataframe tbody tr th:only-of-type {\n",
              "        vertical-align: middle;\n",
              "    }\n",
              "\n",
              "    .dataframe tbody tr th {\n",
              "        vertical-align: top;\n",
              "    }\n",
              "\n",
              "    .dataframe thead th {\n",
              "        text-align: right;\n",
              "    }\n",
              "</style>\n",
              "<table border=\"1\" class=\"dataframe\">\n",
              "  <thead>\n",
              "    <tr style=\"text-align: right;\">\n",
              "      <th></th>\n",
              "      <th>Total_Vendas</th>\n",
              "      <th>Quantidade</th>\n",
              "      <th>Desconto</th>\n",
              "      <th>Lucro</th>\n",
              "    </tr>\n",
              "  </thead>\n",
              "  <tbody>\n",
              "    <tr>\n",
              "      <th>count</th>\n",
              "      <td>51290.000000</td>\n",
              "      <td>51290.000000</td>\n",
              "      <td>51290.000000</td>\n",
              "      <td>51290.000000</td>\n",
              "    </tr>\n",
              "    <tr>\n",
              "      <th>mean</th>\n",
              "      <td>246.490581</td>\n",
              "      <td>3.476545</td>\n",
              "      <td>0.142908</td>\n",
              "      <td>28.610982</td>\n",
              "    </tr>\n",
              "    <tr>\n",
              "      <th>std</th>\n",
              "      <td>487.565361</td>\n",
              "      <td>2.278766</td>\n",
              "      <td>0.212280</td>\n",
              "      <td>174.340972</td>\n",
              "    </tr>\n",
              "    <tr>\n",
              "      <th>min</th>\n",
              "      <td>0.444000</td>\n",
              "      <td>1.000000</td>\n",
              "      <td>0.000000</td>\n",
              "      <td>-6599.978000</td>\n",
              "    </tr>\n",
              "    <tr>\n",
              "      <th>25%</th>\n",
              "      <td>30.758625</td>\n",
              "      <td>2.000000</td>\n",
              "      <td>0.000000</td>\n",
              "      <td>0.000000</td>\n",
              "    </tr>\n",
              "    <tr>\n",
              "      <th>50%</th>\n",
              "      <td>85.053000</td>\n",
              "      <td>3.000000</td>\n",
              "      <td>0.000000</td>\n",
              "      <td>9.240000</td>\n",
              "    </tr>\n",
              "    <tr>\n",
              "      <th>75%</th>\n",
              "      <td>251.053200</td>\n",
              "      <td>5.000000</td>\n",
              "      <td>0.200000</td>\n",
              "      <td>36.810000</td>\n",
              "    </tr>\n",
              "    <tr>\n",
              "      <th>max</th>\n",
              "      <td>22638.480000</td>\n",
              "      <td>14.000000</td>\n",
              "      <td>0.850000</td>\n",
              "      <td>8399.976000</td>\n",
              "    </tr>\n",
              "  </tbody>\n",
              "</table>\n",
              "</div>\n",
              "    <div class=\"colab-df-buttons\">\n",
              "\n",
              "  <div class=\"colab-df-container\">\n",
              "    <button class=\"colab-df-convert\" onclick=\"convertToInteractive('df-4b76df3e-bc4c-406e-a3a0-5b074c36d8bd')\"\n",
              "            title=\"Convert this dataframe to an interactive table.\"\n",
              "            style=\"display:none;\">\n",
              "\n",
              "  <svg xmlns=\"http://www.w3.org/2000/svg\" height=\"24px\" viewBox=\"0 -960 960 960\">\n",
              "    <path d=\"M120-120v-720h720v720H120Zm60-500h600v-160H180v160Zm220 220h160v-160H400v160Zm0 220h160v-160H400v160ZM180-400h160v-160H180v160Zm440 0h160v-160H620v160ZM180-180h160v-160H180v160Zm440 0h160v-160H620v160Z\"/>\n",
              "  </svg>\n",
              "    </button>\n",
              "\n",
              "  <style>\n",
              "    .colab-df-container {\n",
              "      display:flex;\n",
              "      gap: 12px;\n",
              "    }\n",
              "\n",
              "    .colab-df-convert {\n",
              "      background-color: #E8F0FE;\n",
              "      border: none;\n",
              "      border-radius: 50%;\n",
              "      cursor: pointer;\n",
              "      display: none;\n",
              "      fill: #1967D2;\n",
              "      height: 32px;\n",
              "      padding: 0 0 0 0;\n",
              "      width: 32px;\n",
              "    }\n",
              "\n",
              "    .colab-df-convert:hover {\n",
              "      background-color: #E2EBFA;\n",
              "      box-shadow: 0px 1px 2px rgba(60, 64, 67, 0.3), 0px 1px 3px 1px rgba(60, 64, 67, 0.15);\n",
              "      fill: #174EA6;\n",
              "    }\n",
              "\n",
              "    .colab-df-buttons div {\n",
              "      margin-bottom: 4px;\n",
              "    }\n",
              "\n",
              "    [theme=dark] .colab-df-convert {\n",
              "      background-color: #3B4455;\n",
              "      fill: #D2E3FC;\n",
              "    }\n",
              "\n",
              "    [theme=dark] .colab-df-convert:hover {\n",
              "      background-color: #434B5C;\n",
              "      box-shadow: 0px 1px 3px 1px rgba(0, 0, 0, 0.15);\n",
              "      filter: drop-shadow(0px 1px 2px rgba(0, 0, 0, 0.3));\n",
              "      fill: #FFFFFF;\n",
              "    }\n",
              "  </style>\n",
              "\n",
              "    <script>\n",
              "      const buttonEl =\n",
              "        document.querySelector('#df-4b76df3e-bc4c-406e-a3a0-5b074c36d8bd button.colab-df-convert');\n",
              "      buttonEl.style.display =\n",
              "        google.colab.kernel.accessAllowed ? 'block' : 'none';\n",
              "\n",
              "      async function convertToInteractive(key) {\n",
              "        const element = document.querySelector('#df-4b76df3e-bc4c-406e-a3a0-5b074c36d8bd');\n",
              "        const dataTable =\n",
              "          await google.colab.kernel.invokeFunction('convertToInteractive',\n",
              "                                                    [key], {});\n",
              "        if (!dataTable) return;\n",
              "\n",
              "        const docLinkHtml = 'Like what you see? Visit the ' +\n",
              "          '<a target=\"_blank\" href=https://colab.research.google.com/notebooks/data_table.ipynb>data table notebook</a>'\n",
              "          + ' to learn more about interactive tables.';\n",
              "        element.innerHTML = '';\n",
              "        dataTable['output_type'] = 'display_data';\n",
              "        await google.colab.output.renderOutput(dataTable, element);\n",
              "        const docLink = document.createElement('div');\n",
              "        docLink.innerHTML = docLinkHtml;\n",
              "        element.appendChild(docLink);\n",
              "      }\n",
              "    </script>\n",
              "  </div>\n",
              "\n",
              "\n",
              "<div id=\"df-58acc1fe-035c-4248-b966-b11c8605b170\">\n",
              "  <button class=\"colab-df-quickchart\" onclick=\"quickchart('df-58acc1fe-035c-4248-b966-b11c8605b170')\"\n",
              "            title=\"Suggest charts\"\n",
              "            style=\"display:none;\">\n",
              "\n",
              "<svg xmlns=\"http://www.w3.org/2000/svg\" height=\"24px\"viewBox=\"0 0 24 24\"\n",
              "     width=\"24px\">\n",
              "    <g>\n",
              "        <path d=\"M19 3H5c-1.1 0-2 .9-2 2v14c0 1.1.9 2 2 2h14c1.1 0 2-.9 2-2V5c0-1.1-.9-2-2-2zM9 17H7v-7h2v7zm4 0h-2V7h2v10zm4 0h-2v-4h2v4z\"/>\n",
              "    </g>\n",
              "</svg>\n",
              "  </button>\n",
              "\n",
              "<style>\n",
              "  .colab-df-quickchart {\n",
              "      --bg-color: #E8F0FE;\n",
              "      --fill-color: #1967D2;\n",
              "      --hover-bg-color: #E2EBFA;\n",
              "      --hover-fill-color: #174EA6;\n",
              "      --disabled-fill-color: #AAA;\n",
              "      --disabled-bg-color: #DDD;\n",
              "  }\n",
              "\n",
              "  [theme=dark] .colab-df-quickchart {\n",
              "      --bg-color: #3B4455;\n",
              "      --fill-color: #D2E3FC;\n",
              "      --hover-bg-color: #434B5C;\n",
              "      --hover-fill-color: #FFFFFF;\n",
              "      --disabled-bg-color: #3B4455;\n",
              "      --disabled-fill-color: #666;\n",
              "  }\n",
              "\n",
              "  .colab-df-quickchart {\n",
              "    background-color: var(--bg-color);\n",
              "    border: none;\n",
              "    border-radius: 50%;\n",
              "    cursor: pointer;\n",
              "    display: none;\n",
              "    fill: var(--fill-color);\n",
              "    height: 32px;\n",
              "    padding: 0;\n",
              "    width: 32px;\n",
              "  }\n",
              "\n",
              "  .colab-df-quickchart:hover {\n",
              "    background-color: var(--hover-bg-color);\n",
              "    box-shadow: 0 1px 2px rgba(60, 64, 67, 0.3), 0 1px 3px 1px rgba(60, 64, 67, 0.15);\n",
              "    fill: var(--button-hover-fill-color);\n",
              "  }\n",
              "\n",
              "  .colab-df-quickchart-complete:disabled,\n",
              "  .colab-df-quickchart-complete:disabled:hover {\n",
              "    background-color: var(--disabled-bg-color);\n",
              "    fill: var(--disabled-fill-color);\n",
              "    box-shadow: none;\n",
              "  }\n",
              "\n",
              "  .colab-df-spinner {\n",
              "    border: 2px solid var(--fill-color);\n",
              "    border-color: transparent;\n",
              "    border-bottom-color: var(--fill-color);\n",
              "    animation:\n",
              "      spin 1s steps(1) infinite;\n",
              "  }\n",
              "\n",
              "  @keyframes spin {\n",
              "    0% {\n",
              "      border-color: transparent;\n",
              "      border-bottom-color: var(--fill-color);\n",
              "      border-left-color: var(--fill-color);\n",
              "    }\n",
              "    20% {\n",
              "      border-color: transparent;\n",
              "      border-left-color: var(--fill-color);\n",
              "      border-top-color: var(--fill-color);\n",
              "    }\n",
              "    30% {\n",
              "      border-color: transparent;\n",
              "      border-left-color: var(--fill-color);\n",
              "      border-top-color: var(--fill-color);\n",
              "      border-right-color: var(--fill-color);\n",
              "    }\n",
              "    40% {\n",
              "      border-color: transparent;\n",
              "      border-right-color: var(--fill-color);\n",
              "      border-top-color: var(--fill-color);\n",
              "    }\n",
              "    60% {\n",
              "      border-color: transparent;\n",
              "      border-right-color: var(--fill-color);\n",
              "    }\n",
              "    80% {\n",
              "      border-color: transparent;\n",
              "      border-right-color: var(--fill-color);\n",
              "      border-bottom-color: var(--fill-color);\n",
              "    }\n",
              "    90% {\n",
              "      border-color: transparent;\n",
              "      border-bottom-color: var(--fill-color);\n",
              "    }\n",
              "  }\n",
              "</style>\n",
              "\n",
              "  <script>\n",
              "    async function quickchart(key) {\n",
              "      const quickchartButtonEl =\n",
              "        document.querySelector('#' + key + ' button');\n",
              "      quickchartButtonEl.disabled = true;  // To prevent multiple clicks.\n",
              "      quickchartButtonEl.classList.add('colab-df-spinner');\n",
              "      try {\n",
              "        const charts = await google.colab.kernel.invokeFunction(\n",
              "            'suggestCharts', [key], {});\n",
              "      } catch (error) {\n",
              "        console.error('Error during call to suggestCharts:', error);\n",
              "      }\n",
              "      quickchartButtonEl.classList.remove('colab-df-spinner');\n",
              "      quickchartButtonEl.classList.add('colab-df-quickchart-complete');\n",
              "    }\n",
              "    (() => {\n",
              "      let quickchartButtonEl =\n",
              "        document.querySelector('#df-58acc1fe-035c-4248-b966-b11c8605b170 button');\n",
              "      quickchartButtonEl.style.display =\n",
              "        google.colab.kernel.accessAllowed ? 'block' : 'none';\n",
              "    })();\n",
              "  </script>\n",
              "</div>\n",
              "\n",
              "    </div>\n",
              "  </div>\n"
            ],
            "application/vnd.google.colaboratory.intrinsic+json": {
              "type": "dataframe",
              "summary": "{\n  \"name\": \"df\",\n  \"rows\": 8,\n  \"fields\": [\n    {\n      \"column\": \"Total_Vendas\",\n      \"properties\": {\n        \"dtype\": \"number\",\n        \"std\": 18669.493303992887,\n        \"min\": 0.444,\n        \"max\": 51290.0,\n        \"num_unique_values\": 8,\n        \"samples\": [\n          246.49058120257362,\n          85.053,\n          51290.0\n        ],\n        \"semantic_type\": \"\",\n        \"description\": \"\"\n      }\n    },\n    {\n      \"column\": \"Quantidade\",\n      \"properties\": {\n        \"dtype\": \"number\",\n        \"std\": 18132.20048722294,\n        \"min\": 1.0,\n        \"max\": 51290.0,\n        \"num_unique_values\": 8,\n        \"samples\": [\n          3.4765451355039967,\n          3.0,\n          51290.0\n        ],\n        \"semantic_type\": \"\",\n        \"description\": \"\"\n      }\n    },\n    {\n      \"column\": \"Desconto\",\n      \"properties\": {\n        \"dtype\": \"number\",\n        \"std\": 18133.682432994065,\n        \"min\": 0.0,\n        \"max\": 51290.0,\n        \"num_unique_values\": 6,\n        \"samples\": [\n          51290.0,\n          0.14290754533047378,\n          0.85\n        ],\n        \"semantic_type\": \"\",\n        \"description\": \"\"\n      }\n    },\n    {\n      \"column\": \"Lucro\",\n      \"properties\": {\n        \"dtype\": \"number\",\n        \"std\": 18474.634910759294,\n        \"min\": -6599.978,\n        \"max\": 51290.0,\n        \"num_unique_values\": 8,\n        \"samples\": [\n          28.61098247767596,\n          9.24,\n          51290.0\n        ],\n        \"semantic_type\": \"\",\n        \"description\": \"\"\n      }\n    }\n  ]\n}"
            }
          },
          "metadata": {},
          "execution_count": 104
        }
      ]
    },
    {
      "cell_type": "code",
      "source": [
        "df['Lucro'].sum() #median(), max(), min()"
      ],
      "metadata": {
        "colab": {
          "base_uri": "https://localhost:8080/"
        },
        "id": "-R3UZmGC9pp0",
        "outputId": "2fe76148-830e-478b-a779-d4d7503f9287"
      },
      "execution_count": 105,
      "outputs": [
        {
          "output_type": "execute_result",
          "data": {
            "text/plain": [
              "1467457.29128"
            ]
          },
          "metadata": {},
          "execution_count": 105
        }
      ]
    },
    {
      "cell_type": "code",
      "source": [
        "df['Lucro'].mean()"
      ],
      "metadata": {
        "colab": {
          "base_uri": "https://localhost:8080/"
        },
        "id": "H2ve9ohI9WTc",
        "outputId": "1b34bba3-1f5e-4450-b858-bcea4256ee4a"
      },
      "execution_count": 106,
      "outputs": [
        {
          "output_type": "execute_result",
          "data": {
            "text/plain": [
              "28.61098247767596"
            ]
          },
          "metadata": {},
          "execution_count": 106
        }
      ]
    },
    {
      "cell_type": "markdown",
      "source": [
        "Link para continuação do aprendizado:\n",
        "https://www.youtube.com/watch?v=1JpYOqvDJNU&ab_channel=AsimovAcademy ,\n",
        "https://hub.asimov.academy/\n"
      ],
      "metadata": {
        "id": "VscwLgY__HVI"
      }
    },
    {
      "cell_type": "code",
      "source": [],
      "metadata": {
        "id": "qD_gCqeq_J3z"
      },
      "execution_count": 107,
      "outputs": []
    }
  ]
}