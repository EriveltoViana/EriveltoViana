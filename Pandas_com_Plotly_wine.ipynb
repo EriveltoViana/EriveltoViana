{
  "nbformat": 4,
  "nbformat_minor": 0,
  "metadata": {
    "colab": {
      "provenance": [],
      "authorship_tag": "ABX9TyOD1+tVVVAFRrJxv8OTiu4H",
      "include_colab_link": true
    },
    "kernelspec": {
      "name": "python3",
      "display_name": "Python 3"
    },
    "language_info": {
      "name": "python"
    }
  },
  "cells": [
    {
      "cell_type": "markdown",
      "metadata": {
        "id": "view-in-github",
        "colab_type": "text"
      },
      "source": [
        "<a href=\"https://colab.research.google.com/github/EriveltoViana/EriveltoViana/blob/main/Pandas_com_Plotly_wine.ipynb\" target=\"_parent\"><img src=\"https://colab.research.google.com/assets/colab-badge.svg\" alt=\"Open In Colab\"/></a>"
      ]
    },
    {
      "cell_type": "code",
      "source": [
        "import pandas as pd\n",
        "import plotly.express as px\n",
        "from google.colab import files\n",
        "\n",
        "uploaded = files.upload()\n",
        "df = pd.read_csv('wine.csv')\n",
        "\n",
        "fig = px.parallel_coordinates(\n",
        "    df,\n",
        "    title=\"Análise de Vinhos - Coordenadas Paralelas\",\n",
        "    dimensions=['Alcohol', 'Malic_acid', 'Ash', 'Alcalinity_ash', 'Total_phenols', 'Flavanoids', 'Nonflavanoid_phenols'],\n",
        "    color=df.iloc[:, 0],\n",
        "    color_continuous_scale=px.colors.diverging.Tealrose,\n",
        "    labels={\n",
        "        'Alcohol': 'Álcool',\n",
        "        'Malic_acid': 'Ácido Málico',\n",
        "        'Ash': 'Cinzas',\n",
        "        'Alcalinity_ash': 'Alcalinidade das Cinzas',\n",
        "        'Total_phenols': 'Fenóis Totais',\n",
        "        'Flavanoids': 'Flavonoides',\n",
        "        'Nonflavanoid_phenols': 'Fenóis Não-flavonoides'\n",
        "    }\n",
        ")\n",
        "\n",
        "fig.show()"
      ],
      "metadata": {
        "id": "SbGDDxanEVs-"
      },
      "execution_count": null,
      "outputs": []
    },
    {
      "cell_type": "code",
      "source": [
        "!rm wine.csv"
      ],
      "metadata": {
        "id": "FngmrAXj0nnh"
      },
      "execution_count": 26,
      "outputs": []
    },
    {
      "cell_type": "code",
      "source": [
        "import pandas as px\n",
        "import plotly.express as px\n",
        "from google.colab import files\n",
        "\n",
        "uploaded = files.upload()\n",
        "df = pd.read_csv('wine.csv')\n",
        "\n",
        "fig = px.scatter(\n",
        "    df,\n",
        "    title=\"Análise de Vinhos - Gráfico de Dispersão\",\n",
        "    x='Malic_acid',\n",
        "    y='Alcohol',\n",
        "    color=df.iloc[:, 0],\n",
        "    labels={\n",
        "        'Alcohol': 'Álcool',\n",
        "        'Malic_acid': 'Ácido Málico'\n",
        "    }\n",
        "\n",
        ")\n",
        "\n",
        "\n",
        "\n",
        "fig.show()"
      ],
      "metadata": {
        "colab": {
          "base_uri": "https://localhost:8080/",
          "height": 266
        },
        "id": "EQ1qQxkQrwjs",
        "outputId": "211868a7-1ee3-4da8-d9e5-2cf6d4b467e9"
      },
      "execution_count": 27,
      "outputs": [
        {
          "output_type": "display_data",
          "data": {
            "text/plain": [
              "<IPython.core.display.HTML object>"
            ],
            "text/html": [
              "\n",
              "     <input type=\"file\" id=\"files-a44ee0e1-f029-43ea-8927-6907da04f798\" name=\"files[]\" multiple disabled\n",
              "        style=\"border:none\" />\n",
              "     <output id=\"result-a44ee0e1-f029-43ea-8927-6907da04f798\">\n",
              "      Upload widget is only available when the cell has been executed in the\n",
              "      current browser session. Please rerun this cell to enable.\n",
              "      </output>\n",
              "      <script>// Copyright 2017 Google LLC\n",
              "//\n",
              "// Licensed under the Apache License, Version 2.0 (the \"License\");\n",
              "// you may not use this file except in compliance with the License.\n",
              "// You may obtain a copy of the License at\n",
              "//\n",
              "//      http://www.apache.org/licenses/LICENSE-2.0\n",
              "//\n",
              "// Unless required by applicable law or agreed to in writing, software\n",
              "// distributed under the License is distributed on an \"AS IS\" BASIS,\n",
              "// WITHOUT WARRANTIES OR CONDITIONS OF ANY KIND, either express or implied.\n",
              "// See the License for the specific language governing permissions and\n",
              "// limitations under the License.\n",
              "\n",
              "/**\n",
              " * @fileoverview Helpers for google.colab Python module.\n",
              " */\n",
              "(function(scope) {\n",
              "function span(text, styleAttributes = {}) {\n",
              "  const element = document.createElement('span');\n",
              "  element.textContent = text;\n",
              "  for (const key of Object.keys(styleAttributes)) {\n",
              "    element.style[key] = styleAttributes[key];\n",
              "  }\n",
              "  return element;\n",
              "}\n",
              "\n",
              "// Max number of bytes which will be uploaded at a time.\n",
              "const MAX_PAYLOAD_SIZE = 100 * 1024;\n",
              "\n",
              "function _uploadFiles(inputId, outputId) {\n",
              "  const steps = uploadFilesStep(inputId, outputId);\n",
              "  const outputElement = document.getElementById(outputId);\n",
              "  // Cache steps on the outputElement to make it available for the next call\n",
              "  // to uploadFilesContinue from Python.\n",
              "  outputElement.steps = steps;\n",
              "\n",
              "  return _uploadFilesContinue(outputId);\n",
              "}\n",
              "\n",
              "// This is roughly an async generator (not supported in the browser yet),\n",
              "// where there are multiple asynchronous steps and the Python side is going\n",
              "// to poll for completion of each step.\n",
              "// This uses a Promise to block the python side on completion of each step,\n",
              "// then passes the result of the previous step as the input to the next step.\n",
              "function _uploadFilesContinue(outputId) {\n",
              "  const outputElement = document.getElementById(outputId);\n",
              "  const steps = outputElement.steps;\n",
              "\n",
              "  const next = steps.next(outputElement.lastPromiseValue);\n",
              "  return Promise.resolve(next.value.promise).then((value) => {\n",
              "    // Cache the last promise value to make it available to the next\n",
              "    // step of the generator.\n",
              "    outputElement.lastPromiseValue = value;\n",
              "    return next.value.response;\n",
              "  });\n",
              "}\n",
              "\n",
              "/**\n",
              " * Generator function which is called between each async step of the upload\n",
              " * process.\n",
              " * @param {string} inputId Element ID of the input file picker element.\n",
              " * @param {string} outputId Element ID of the output display.\n",
              " * @return {!Iterable<!Object>} Iterable of next steps.\n",
              " */\n",
              "function* uploadFilesStep(inputId, outputId) {\n",
              "  const inputElement = document.getElementById(inputId);\n",
              "  inputElement.disabled = false;\n",
              "\n",
              "  const outputElement = document.getElementById(outputId);\n",
              "  outputElement.innerHTML = '';\n",
              "\n",
              "  const pickedPromise = new Promise((resolve) => {\n",
              "    inputElement.addEventListener('change', (e) => {\n",
              "      resolve(e.target.files);\n",
              "    });\n",
              "  });\n",
              "\n",
              "  const cancel = document.createElement('button');\n",
              "  inputElement.parentElement.appendChild(cancel);\n",
              "  cancel.textContent = 'Cancel upload';\n",
              "  const cancelPromise = new Promise((resolve) => {\n",
              "    cancel.onclick = () => {\n",
              "      resolve(null);\n",
              "    };\n",
              "  });\n",
              "\n",
              "  // Wait for the user to pick the files.\n",
              "  const files = yield {\n",
              "    promise: Promise.race([pickedPromise, cancelPromise]),\n",
              "    response: {\n",
              "      action: 'starting',\n",
              "    }\n",
              "  };\n",
              "\n",
              "  cancel.remove();\n",
              "\n",
              "  // Disable the input element since further picks are not allowed.\n",
              "  inputElement.disabled = true;\n",
              "\n",
              "  if (!files) {\n",
              "    return {\n",
              "      response: {\n",
              "        action: 'complete',\n",
              "      }\n",
              "    };\n",
              "  }\n",
              "\n",
              "  for (const file of files) {\n",
              "    const li = document.createElement('li');\n",
              "    li.append(span(file.name, {fontWeight: 'bold'}));\n",
              "    li.append(span(\n",
              "        `(${file.type || 'n/a'}) - ${file.size} bytes, ` +\n",
              "        `last modified: ${\n",
              "            file.lastModifiedDate ? file.lastModifiedDate.toLocaleDateString() :\n",
              "                                    'n/a'} - `));\n",
              "    const percent = span('0% done');\n",
              "    li.appendChild(percent);\n",
              "\n",
              "    outputElement.appendChild(li);\n",
              "\n",
              "    const fileDataPromise = new Promise((resolve) => {\n",
              "      const reader = new FileReader();\n",
              "      reader.onload = (e) => {\n",
              "        resolve(e.target.result);\n",
              "      };\n",
              "      reader.readAsArrayBuffer(file);\n",
              "    });\n",
              "    // Wait for the data to be ready.\n",
              "    let fileData = yield {\n",
              "      promise: fileDataPromise,\n",
              "      response: {\n",
              "        action: 'continue',\n",
              "      }\n",
              "    };\n",
              "\n",
              "    // Use a chunked sending to avoid message size limits. See b/62115660.\n",
              "    let position = 0;\n",
              "    do {\n",
              "      const length = Math.min(fileData.byteLength - position, MAX_PAYLOAD_SIZE);\n",
              "      const chunk = new Uint8Array(fileData, position, length);\n",
              "      position += length;\n",
              "\n",
              "      const base64 = btoa(String.fromCharCode.apply(null, chunk));\n",
              "      yield {\n",
              "        response: {\n",
              "          action: 'append',\n",
              "          file: file.name,\n",
              "          data: base64,\n",
              "        },\n",
              "      };\n",
              "\n",
              "      let percentDone = fileData.byteLength === 0 ?\n",
              "          100 :\n",
              "          Math.round((position / fileData.byteLength) * 100);\n",
              "      percent.textContent = `${percentDone}% done`;\n",
              "\n",
              "    } while (position < fileData.byteLength);\n",
              "  }\n",
              "\n",
              "  // All done.\n",
              "  yield {\n",
              "    response: {\n",
              "      action: 'complete',\n",
              "    }\n",
              "  };\n",
              "}\n",
              "\n",
              "scope.google = scope.google || {};\n",
              "scope.google.colab = scope.google.colab || {};\n",
              "scope.google.colab._files = {\n",
              "  _uploadFiles,\n",
              "  _uploadFilesContinue,\n",
              "};\n",
              "})(self);\n",
              "</script> "
            ]
          },
          "metadata": {}
        },
        {
          "output_type": "stream",
          "name": "stdout",
          "text": [
            "Saving wine.csv to wine.csv\n"
          ]
        },
        {
          "output_type": "error",
          "ename": "NameError",
          "evalue": "name 'go' is not defined",
          "traceback": [
            "\u001b[0;31m---------------------------------------------------------------------------\u001b[0m",
            "\u001b[0;31mNameError\u001b[0m                                 Traceback (most recent call last)",
            "\u001b[0;32m<ipython-input-27-7f09236639c0>\u001b[0m in \u001b[0;36m<cell line: 0>\u001b[0;34m()\u001b[0m\n\u001b[1;32m      6\u001b[0m \u001b[0mdf\u001b[0m \u001b[0;34m=\u001b[0m \u001b[0mpd\u001b[0m\u001b[0;34m.\u001b[0m\u001b[0mread_csv\u001b[0m\u001b[0;34m(\u001b[0m\u001b[0;34m'wine.csv'\u001b[0m\u001b[0;34m)\u001b[0m\u001b[0;34m\u001b[0m\u001b[0;34m\u001b[0m\u001b[0m\n\u001b[1;32m      7\u001b[0m \u001b[0;34m\u001b[0m\u001b[0m\n\u001b[0;32m----> 8\u001b[0;31m fig = go.Figure(data=go.Scatter(\n\u001b[0m\u001b[1;32m      9\u001b[0m     \u001b[0mdf\u001b[0m\u001b[0;34m,\u001b[0m\u001b[0;34m\u001b[0m\u001b[0;34m\u001b[0m\u001b[0m\n\u001b[1;32m     10\u001b[0m     \u001b[0mtitle\u001b[0m\u001b[0;34m=\u001b[0m\u001b[0;34m\"Análise de Vinhos - Gráfico de Dispersão\"\u001b[0m\u001b[0;34m,\u001b[0m\u001b[0;34m\u001b[0m\u001b[0;34m\u001b[0m\u001b[0m\n",
            "\u001b[0;31mNameError\u001b[0m: name 'go' is not defined"
          ]
        }
      ]
    },
    {
      "cell_type": "markdown",
      "source": [
        "**Instalação e importação**"
      ],
      "metadata": {
        "id": "o5a2qC64mP2I"
      }
    },
    {
      "cell_type": "code",
      "source": [
        "#pip install pandas (Instalação, exceto no Anaconda ou no Colab. Precisa no Jupiter)\n",
        "#import pandas as pd (Como chamar o pandas)"
      ],
      "metadata": {
        "id": "KitPxQMimo41"
      },
      "execution_count": null,
      "outputs": []
    },
    {
      "cell_type": "markdown",
      "source": [
        "**DataFrames e Series**"
      ],
      "metadata": {
        "id": "Vl7-sPfjmPsP"
      }
    },
    {
      "cell_type": "code",
      "source": [
        "#DataFrames\n",
        "dados = {\n",
        "    'Nome': ['Alice', 'Bob', 'Charlie', 'David'],\n",
        "    'Idade': [25, 30, 35, 40],\n",
        "}\n",
        "df = pd.DataFrame(dados)\n",
        "print(df)"
      ],
      "metadata": {
        "id": "nwE-NtzLmpTa"
      },
      "execution_count": null,
      "outputs": []
    },
    {
      "cell_type": "code",
      "source": [
        "#Series\n",
        "s = pd.Series([1, 2, 3, 4, 5])\n",
        "print(s)"
      ],
      "metadata": {
        "id": "SpfmEFSvnnT2"
      },
      "execution_count": null,
      "outputs": []
    },
    {
      "cell_type": "markdown",
      "source": [
        "**Lendo Tabelas - DISPLAY MOSTRA DE UM JEITO. PRINT MOSTRA DE OUTRO.**"
      ],
      "metadata": {
        "id": "GlxfMIysmPkG"
      }
    },
    {
      "cell_type": "code",
      "source": [
        "!ls\n",
        "!rm dataset.csv"
      ],
      "metadata": {
        "id": "NPNQfNdGvx32"
      },
      "execution_count": null,
      "outputs": []
    },
    {
      "cell_type": "code",
      "source": [
        "#PARA ARQUIVOS CSV\n",
        "\n",
        "\n",
        "#JEITO 1\n",
        "#import csv\n",
        "#with open('wine.csv', 'r') as arquivo_csv:\n",
        "#    leitor_csv = csv.reader(arquivo_csv)\n",
        "#    for linha in leitor_csv:\n",
        "#        print(linha)\n",
        "\n",
        "\n",
        "#JEITO 2\n",
        "#import csv\n",
        "#with open(\"wine.csv\", \"r\") as arquivo:\n",
        "#    arquivo_csv = csv.reader(arquivo, delimiter=\",\")\n",
        "#    for i, linha in enumerate(arquivo_csv):\n",
        "#        if i == 0:\n",
        "#            print(\"Cabeçalho: \" + str(linha))\n",
        "#        else:\n",
        "#            print(\"Valor: \" + str(linha))\n",
        "\n",
        "\n",
        "#JEITO 3\n",
        "import pandas as pd\n",
        "tabela = pd.read_csv(\"wine.csv\", sep=\",\")\n",
        "display(tabela)\n",
        "print(tabela['Flavanoids'].sum())"
      ],
      "metadata": {
        "id": "wDYtwdK9mpo-"
      },
      "execution_count": null,
      "outputs": []
    },
    {
      "cell_type": "code",
      "source": [
        "#PARA ARQUIVOS EXCEL\n",
        "\n",
        "from google.colab import files\n",
        "\n",
        "uploaded = files.upload()\n",
        "df = pd.read_excel('BD CURSOS-1.xlsx')\n",
        "print(df)"
      ],
      "metadata": {
        "id": "J9O9aD0msfVN"
      },
      "execution_count": null,
      "outputs": []
    },
    {
      "cell_type": "code",
      "source": [
        "!rm dataset.xlsx"
      ],
      "metadata": {
        "id": "naY8THocuVFD"
      },
      "execution_count": null,
      "outputs": []
    },
    {
      "cell_type": "code",
      "source": [
        "#PARA ARQUIVOS EXCEL\n",
        "\n",
        "from google.colab import files\n",
        "\n",
        "uploaded = files.upload()\n",
        "df = pd.read_excel('dataset.xlsx')\n",
        "#print(df)\n",
        "display(df)"
      ],
      "metadata": {
        "id": "v3MkmoysttCO"
      },
      "execution_count": null,
      "outputs": []
    },
    {
      "cell_type": "markdown",
      "source": [
        "**Manipulação básica de dados**"
      ],
      "metadata": {
        "id": "EH9IbkF5x7XR"
      }
    },
    {
      "cell_type": "code",
      "source": [
        "df.head() #PARA VISUALIZAR AS 5 PRIMEIRAS LINHAS"
      ],
      "metadata": {
        "id": "AbsjBhYlx-x0"
      },
      "execution_count": null,
      "outputs": []
    },
    {
      "cell_type": "code",
      "source": [
        "df.tail() #PARA VISUALIZAR AS 5 ÚLTIMAS LINHAS"
      ],
      "metadata": {
        "id": "xNWRaTNcyEuI"
      },
      "execution_count": null,
      "outputs": []
    },
    {
      "cell_type": "code",
      "source": [
        "df[['ID_Cliente', 'Pais', 'Prioridade']] #SELECIONAR COLUNAS ESPECÍFICAS"
      ],
      "metadata": {
        "id": "h7MFt96Pmqjc"
      },
      "execution_count": null,
      "outputs": []
    },
    {
      "cell_type": "code",
      "source": [
        "df['Categoria']"
      ],
      "metadata": {
        "id": "biYJAvsyzDyU"
      },
      "execution_count": null,
      "outputs": []
    },
    {
      "cell_type": "markdown",
      "source": [
        "**Séries booleanas e filtros**"
      ],
      "metadata": {
        "id": "4NA8VmKqmPRr"
      }
    },
    {
      "cell_type": "code",
      "source": [
        "df['Quantidade'] > 9 #VISUALIZAÇÃO BOOLEADA"
      ],
      "metadata": {
        "id": "7tZCuLVmz6vM"
      },
      "execution_count": null,
      "outputs": []
    },
    {
      "cell_type": "code",
      "source": [
        "df[df['Quantidade'] > 9] #O MESMO CÓDIGO ACIMA DENTRO DO DF VIRA FILTRO"
      ],
      "metadata": {
        "id": "wTgrt3Vm0KH_"
      },
      "execution_count": null,
      "outputs": []
    },
    {
      "cell_type": "markdown",
      "source": [
        "**Combinando filtros**"
      ],
      "metadata": {
        "id": "Lls4WYKUmOfa"
      }
    },
    {
      "cell_type": "code",
      "source": [
        "#NECESSÁRIO CRIAR VARIÁVEIS, SETAR O FILTRO DESEJADO E UNIR COM O &.\n",
        "fsegmento = df['Segmento'] == 'Home Office'\n",
        "fpais = df['Pais'] == 'United States'\n",
        "fprioridade = df['Prioridade'] == 'Critico'\n",
        "fquantidade = df['Quantidade'] > 4\n",
        "\n",
        "df[fsegmento & fpais & fprioridade & fquantidade]\n"
      ],
      "metadata": {
        "id": "9rW66h6pmrAJ"
      },
      "execution_count": null,
      "outputs": []
    },
    {
      "cell_type": "markdown",
      "source": [
        "**Criando e removendo colunas**"
      ],
      "metadata": {
        "id": "CHLDfFF0mOVd"
      }
    },
    {
      "cell_type": "code",
      "source": [
        "#PARA CRIAR UMA NOVA COLUNA VOCÊ ACESSA ELA COMO SE JÁ EXISTISSE E EM SEGUIDA IGUALA ELA A UMA EXISTENTE COM AS DEVIDAS DIFERENÇAS\n",
        "df['Novo_ID_Cliente'] = df['ID_Cliente']+'n'"
      ],
      "metadata": {
        "id": "hPXwDkDpmn3Y"
      },
      "execution_count": null,
      "outputs": []
    },
    {
      "cell_type": "code",
      "source": [
        "#VISUALIZAR A COLUNA ORIGINAL E A RECEM CRIADA\n",
        "df[['ID_Cliente','Novo_ID_Cliente']]"
      ],
      "metadata": {
        "id": "uK8XEhaG6uLH"
      },
      "execution_count": null,
      "outputs": []
    },
    {
      "cell_type": "code",
      "source": [
        "#REMOVENDO COLUNAS\n",
        "df = df.drop('Novo_ID_Cliente', axis=1)"
      ],
      "metadata": {
        "id": "PLWm-cFs7gh3"
      },
      "execution_count": null,
      "outputs": []
    },
    {
      "cell_type": "markdown",
      "source": [
        "**Resumindo dados**"
      ],
      "metadata": {
        "id": "v4Utf6pv9Qsk"
      }
    },
    {
      "cell_type": "code",
      "source": [
        "#Gera um resumo informativo da DataFrame\n",
        "df.info()"
      ],
      "metadata": {
        "id": "kUMujh-Y8e2I"
      },
      "execution_count": null,
      "outputs": []
    },
    {
      "cell_type": "code",
      "source": [
        "#Gera um resumo estatístico das colunas numéricas (Procurar saber sobre)\n",
        "df.describe()"
      ],
      "metadata": {
        "id": "j1HaD78d9nYJ"
      },
      "execution_count": null,
      "outputs": []
    },
    {
      "cell_type": "code",
      "source": [
        "df['Lucro'].sum() #median(), max(), min()"
      ],
      "metadata": {
        "id": "-R3UZmGC9pp0"
      },
      "execution_count": null,
      "outputs": []
    },
    {
      "cell_type": "code",
      "source": [
        "df['Lucro'].mean()"
      ],
      "metadata": {
        "id": "H2ve9ohI9WTc"
      },
      "execution_count": null,
      "outputs": []
    },
    {
      "cell_type": "markdown",
      "source": [
        "Link para continuação do aprendizado:\n",
        "https://www.youtube.com/watch?v=1JpYOqvDJNU&ab_channel=AsimovAcademy ,\n",
        "https://hub.asimov.academy/\n"
      ],
      "metadata": {
        "id": "VscwLgY__HVI"
      }
    },
    {
      "cell_type": "code",
      "source": [],
      "metadata": {
        "id": "qD_gCqeq_J3z"
      },
      "execution_count": null,
      "outputs": []
    }
  ]
}