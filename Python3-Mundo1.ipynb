{
  "nbformat": 4,
  "nbformat_minor": 0,
  "metadata": {
    "colab": {
      "provenance": [],
      "authorship_tag": "ABX9TyNqnf7uHTiKmKUYmr5XhFgY",
      "include_colab_link": true
    },
    "kernelspec": {
      "name": "python3",
      "display_name": "Python 3"
    },
    "language_info": {
      "name": "python"
    }
  },
  "cells": [
    {
      "cell_type": "markdown",
      "metadata": {
        "id": "view-in-github",
        "colab_type": "text"
      },
      "source": [
        "<a href=\"https://colab.research.google.com/github/EriveltoViana/EriveltoViana/blob/main/Python3-Mundo1.ipynb\" target=\"_parent\"><img src=\"https://colab.research.google.com/assets/colab-badge.svg\" alt=\"Open In Colab\"/></a>"
      ]
    },
    {
      "cell_type": "markdown",
      "source": [
        "**001 - Crie um programa que escreva 'Olá, mundo!' na tela.**"
      ],
      "metadata": {
        "id": "nwzdfV5zGtc5"
      }
    },
    {
      "cell_type": "code",
      "source": [
        "'Olá, mundo!'"
      ],
      "metadata": {
        "colab": {
          "base_uri": "https://localhost:8080/",
          "height": 36
        },
        "id": "cV7OZzrpIdIE",
        "outputId": "18465ff8-5c93-40bc-93d9-dcb6cae182d6"
      },
      "execution_count": 18,
      "outputs": [
        {
          "output_type": "execute_result",
          "data": {
            "text/plain": [
              "'Olá, mundo!'"
            ],
            "application/vnd.google.colaboratory.intrinsic+json": {
              "type": "string"
            }
          },
          "metadata": {},
          "execution_count": 18
        }
      ]
    },
    {
      "cell_type": "code",
      "source": [
        "msg = 'Olá, mundo!'\n",
        "print(msg)"
      ],
      "metadata": {
        "colab": {
          "base_uri": "https://localhost:8080/"
        },
        "id": "0umasqSjIgrg",
        "outputId": "eb0c19db-aed7-493c-9a4a-bb17d097bc5c"
      },
      "execution_count": 19,
      "outputs": [
        {
          "output_type": "stream",
          "name": "stdout",
          "text": [
            "Olá, mundo!\n"
          ]
        }
      ]
    },
    {
      "cell_type": "code",
      "source": [
        "print('Olá, mundo!')"
      ],
      "metadata": {
        "colab": {
          "base_uri": "https://localhost:8080/"
        },
        "id": "J8vbUSVUWw_w",
        "outputId": "448debef-c032-459f-bb3c-38e6c3beabd7"
      },
      "execution_count": 20,
      "outputs": [
        {
          "output_type": "stream",
          "name": "stdout",
          "text": [
            "Olá, mundo!\n"
          ]
        }
      ]
    },
    {
      "cell_type": "markdown",
      "source": [
        "**002 - Respondendo ao usuário. Faça um programa que leia o nome de uma pessoa e mostre uma mensagem de boas vidas.**"
      ],
      "metadata": {
        "id": "MN49l6S_Jdi5"
      }
    },
    {
      "cell_type": "code",
      "source": [
        "print('Digite o seu nome:')\n",
        "nome = input();\n",
        "print('Seja bem vindo(a), ' + nome + \"!\")"
      ],
      "metadata": {
        "id": "CC7O6TiyW8zC",
        "colab": {
          "base_uri": "https://localhost:8080/"
        },
        "outputId": "6ca17d4f-87f9-43a0-b97a-fdae8bb9d3d5"
      },
      "execution_count": 21,
      "outputs": [
        {
          "output_type": "stream",
          "name": "stdout",
          "text": [
            "Digite o seu nome:\n",
            "JUCA\n",
            "Seja bem vindo(a), JUCA!\n"
          ]
        }
      ]
    },
    {
      "cell_type": "code",
      "source": [
        "print('Digite o seu nome:')\n",
        "nome = input();\n",
        "print('Seja bem vindo(a),', nome, '!')"
      ],
      "metadata": {
        "id": "_5_owKA3M_JY",
        "outputId": "b2250fe7-c517-4529-a0eb-16752b94a146",
        "colab": {
          "base_uri": "https://localhost:8080/"
        }
      },
      "execution_count": 24,
      "outputs": [
        {
          "output_type": "stream",
          "name": "stdout",
          "text": [
            "Digite o seu nome:\n",
            "JUCA\n",
            "Seja bem vindo(a),  JUCA !\n"
          ]
        }
      ]
    },
    {
      "cell_type": "code",
      "source": [
        "\n",
        "nome = input('Digite o seu nome:')\n",
        "print('Seja bem vindo(a), {}!'.format(nome))"
      ],
      "metadata": {
        "id": "ImuzNhEXJws5",
        "outputId": "c02ea085-75dd-4f1d-b376-14af8fea81dc",
        "colab": {
          "base_uri": "https://localhost:8080/"
        }
      },
      "execution_count": 17,
      "outputs": [
        {
          "output_type": "stream",
          "name": "stdout",
          "text": [
            "Digite o seu nome:Juca\n",
            "Seja bem vindo(a), Juca!\n"
          ]
        }
      ]
    },
    {
      "cell_type": "markdown",
      "source": [
        "**003 - Faça um programa que leia dois números e mostre a soma entre eles.**"
      ],
      "metadata": {
        "id": "grLNI5twXDcV"
      }
    },
    {
      "cell_type": "code",
      "source": [
        "n1 = int(input('Digite um número:'))\n",
        "n2 = int(input('Digite outro número:'))\n",
        "s = n1 + n2\n",
        "print('A soma entre {} e {} é igual a {}!'.format(n1, n2, s))"
      ],
      "metadata": {
        "id": "6BB2vt-5LXCR",
        "outputId": "c23a337b-0619-4b90-f86a-777554d0210a",
        "colab": {
          "base_uri": "https://localhost:8080/"
        }
      },
      "execution_count": 42,
      "outputs": [
        {
          "output_type": "stream",
          "name": "stdout",
          "text": [
            "Digite um número:1\n",
            "Digite outro número:2\n",
            "A soma entre 1 e 2 é igual a 3!\n"
          ]
        }
      ]
    },
    {
      "cell_type": "code",
      "source": [
        "print(type(s))\n",
        "print(float(s))\n",
        "print(str(s)+'vergonha')\n",
        "print(bool(s))"
      ],
      "metadata": {
        "id": "t_ewInG2XJeQ",
        "outputId": "d575737f-4eb1-46b8-d151-40db63eea7fb",
        "colab": {
          "base_uri": "https://localhost:8080/"
        }
      },
      "execution_count": 45,
      "outputs": [
        {
          "output_type": "stream",
          "name": "stdout",
          "text": [
            "<class 'int'>\n",
            "3.0\n",
            "3vergonha\n",
            "True\n"
          ]
        }
      ]
    },
    {
      "cell_type": "markdown",
      "source": [
        "**004 - Faça um programa que leia algo pelo teclado e mostre na tela o seu tipo primitivo e todas as informações sobre ela.**"
      ],
      "metadata": {
        "id": "BkTJHqL2jTHu"
      }
    },
    {
      "cell_type": "code",
      "source": [
        "n = input('Digite algo: ')\n",
        "print(n)\n",
        "print(n.isnumeric()) #NUMÉRICO\n",
        "print(n.isalpha()) #ALFABÉTICO\n",
        "print(n.isalnum()) #ALFABÉTICO E NUMÉRICO\n",
        "print(n.isupper()) #MAIÚSCULO\n",
        "print(n.islower()) #MINÚSCULO\n",
        "print(n.isdecimal())"
      ],
      "metadata": {
        "id": "TtH0on7-Znkg",
        "outputId": "92b49853-9311-4582-8993-6f8708e47916",
        "colab": {
          "base_uri": "https://localhost:8080/"
        }
      },
      "execution_count": 66,
      "outputs": [
        {
          "output_type": "stream",
          "name": "stdout",
          "text": [
            "Digite algo: 88\n",
            "88\n",
            "True\n",
            "False\n",
            "True\n",
            "False\n",
            "False\n",
            "True\n"
          ]
        }
      ]
    },
    {
      "cell_type": "code",
      "source": [],
      "metadata": {
        "id": "WmXlyOG7g2T-"
      },
      "execution_count": null,
      "outputs": []
    }
  ]
}