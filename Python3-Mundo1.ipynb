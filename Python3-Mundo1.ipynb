{
  "nbformat": 4,
  "nbformat_minor": 0,
  "metadata": {
    "colab": {
      "provenance": [],
      "authorship_tag": "ABX9TyP64BtFW9vE4hK8EAQd2boJ",
      "include_colab_link": true
    },
    "kernelspec": {
      "name": "python3",
      "display_name": "Python 3"
    },
    "language_info": {
      "name": "python"
    }
  },
  "cells": [
    {
      "cell_type": "markdown",
      "metadata": {
        "id": "view-in-github",
        "colab_type": "text"
      },
      "source": [
        "<a href=\"https://colab.research.google.com/github/EriveltoViana/EriveltoViana/blob/main/Python3-Mundo1.ipynb\" target=\"_parent\"><img src=\"https://colab.research.google.com/assets/colab-badge.svg\" alt=\"Open In Colab\"/></a>"
      ]
    },
    {
      "cell_type": "markdown",
      "source": [
        "**001 - Crie um programa que escreva 'Olá, mundo!' na tela.**"
      ],
      "metadata": {
        "id": "nwzdfV5zGtc5"
      }
    },
    {
      "cell_type": "code",
      "source": [
        "'Olá, mundo!'"
      ],
      "metadata": {
        "id": "cV7OZzrpIdIE"
      },
      "execution_count": null,
      "outputs": []
    },
    {
      "cell_type": "code",
      "source": [
        "msg = 'Olá, mundo!'\n",
        "print(msg)"
      ],
      "metadata": {
        "id": "0umasqSjIgrg"
      },
      "execution_count": null,
      "outputs": []
    },
    {
      "cell_type": "code",
      "source": [
        "print('Olá, mundo!')"
      ],
      "metadata": {
        "id": "J8vbUSVUWw_w"
      },
      "execution_count": null,
      "outputs": []
    },
    {
      "cell_type": "markdown",
      "source": [
        "**002 - Respondendo ao usuário. Faça um programa que leia o nome de uma pessoa e mostre uma mensagem de boas vidas.**"
      ],
      "metadata": {
        "id": "MN49l6S_Jdi5"
      }
    },
    {
      "cell_type": "code",
      "source": [
        "print('Digite o seu nome:')\n",
        "nome = input();\n",
        "print('Seja bem vindo(a), ' + nome + \"!\")"
      ],
      "metadata": {
        "id": "CC7O6TiyW8zC"
      },
      "execution_count": null,
      "outputs": []
    },
    {
      "cell_type": "code",
      "source": [
        "print('Digite o seu nome:')\n",
        "nome = input();\n",
        "print('Seja bem vindo(a),', nome, '!')"
      ],
      "metadata": {
        "id": "_5_owKA3M_JY"
      },
      "execution_count": null,
      "outputs": []
    },
    {
      "cell_type": "code",
      "source": [
        "nome = input('Digite o seu nome:')\n",
        "print('Seja bem vindo(a), {}!'.format(nome))"
      ],
      "metadata": {
        "id": "ImuzNhEXJws5"
      },
      "execution_count": null,
      "outputs": []
    },
    {
      "cell_type": "markdown",
      "source": [
        "**003 - Faça um programa que leia dois números e mostre a soma entre eles.**"
      ],
      "metadata": {
        "id": "grLNI5twXDcV"
      }
    },
    {
      "cell_type": "code",
      "source": [
        "n1 = int(input('Digite um número:'))\n",
        "n2 = int(input('Digite outro número:'))\n",
        "s = n1 + n2\n",
        "print('A soma entre {} e {} é igual a {}!'.format(n1, n2, s))"
      ],
      "metadata": {
        "id": "6BB2vt-5LXCR"
      },
      "execution_count": null,
      "outputs": []
    },
    {
      "cell_type": "code",
      "source": [
        "n1 = int(input('Digite um número:'))\n",
        "n2 = int(input('Digite outro número:'))\n",
        "print('A soma entre {} e {} é igual a {}!'.format(n1, n2, n1+n2))"
      ],
      "metadata": {
        "id": "unBsZKUn_49I"
      },
      "execution_count": null,
      "outputs": []
    },
    {
      "cell_type": "code",
      "source": [
        "print(type(s))\n",
        "print(float(s))\n",
        "print(str(s)+'vergonha')\n",
        "print(bool(s))"
      ],
      "metadata": {
        "id": "t_ewInG2XJeQ"
      },
      "execution_count": null,
      "outputs": []
    },
    {
      "cell_type": "markdown",
      "source": [
        "**004 - Faça um programa que leia algo pelo teclado e mostre na tela o seu tipo primitivo e todas as informações sobre ela.**"
      ],
      "metadata": {
        "id": "BkTJHqL2jTHu"
      }
    },
    {
      "cell_type": "code",
      "source": [
        "n = input('Digite algo: ')\n",
        "print(n)\n",
        "print(n.isnumeric()) #NUMÉRICO\n",
        "print(n.isalpha()) #ALFABÉTICO\n",
        "print(n.isalnum()) #ALFABÉTICO E NUMÉRICO\n",
        "print(n.isupper()) #MAIÚSCULO\n",
        "print(n.islower()) #MINÚSCULO\n",
        "print(n.istitle()) #CAPITALIZADO\n"
      ],
      "metadata": {
        "id": "TtH0on7-Znkg"
      },
      "execution_count": null,
      "outputs": []
    },
    {
      "cell_type": "markdown",
      "source": [
        "**OPERADORES ARITMÉTICOS - ORDEM DE PRECEDÊNCIA**\n",
        "\n",
        "1     ( )\n",
        "\n",
        "---\n",
        "\n",
        "\n",
        "2     **\n",
        "\n",
        "---\n",
        "\n",
        "\n",
        "3     * / // %\n",
        "\n",
        "---\n",
        "\n",
        "\n",
        "4     + -\n",
        "\n",
        "---\n",
        "\n",
        "obs: Calcular a raiz quadrada de um número é o mesmo que calcular sua a potência por 1/2. Ex: (81**(1/2))"
      ],
      "metadata": {
        "id": "OSyJpM9UzhFY"
      }
    },
    {
      "cell_type": "code",
      "source": [
        "81**(1/2) #RAIZ QUADRADA"
      ],
      "metadata": {
        "id": "WmXlyOG7g2T-"
      },
      "execution_count": null,
      "outputs": []
    },
    {
      "cell_type": "code",
      "source": [
        "25**(1/2) #RAIZ QUADRADA"
      ],
      "metadata": {
        "id": "sORvxb7f4J86"
      },
      "execution_count": null,
      "outputs": []
    },
    {
      "cell_type": "code",
      "source": [
        "900**(1/3) #RAIZ CÚBICA"
      ],
      "metadata": {
        "id": "nmVp2fXR6eG-"
      },
      "execution_count": null,
      "outputs": []
    },
    {
      "cell_type": "markdown",
      "source": [
        "**Também é possível utilizar os operadores aritméticos com strings!**"
      ],
      "metadata": {
        "id": "I68jxLZ67mDa"
      }
    },
    {
      "cell_type": "code",
      "source": [
        "'Oi' + ' Abestado'"
      ],
      "metadata": {
        "id": "nYDPfRHl6hGW"
      },
      "execution_count": null,
      "outputs": []
    },
    {
      "cell_type": "code",
      "source": [
        "'=' * 20"
      ],
      "metadata": {
        "id": "wpP6rZq67v3A"
      },
      "execution_count": null,
      "outputs": []
    },
    {
      "cell_type": "code",
      "source": [
        "#OBSERVE DENTRO DA MÁSCARA DO PRINT OS SINAIS QUE MUDAM.\n",
        "nome = str(input('Digite um nome: '))\n",
        "print('Prazer em te conhecer {:>21}!'.format(nome)) #21 ESPAÇOS A ESQUERDA\n",
        "\n",
        "nome = str(input('Digite um nome: '))\n",
        "print('Prazer em te conhecer {:<21}!'.format(nome)) #21 ESPAÇOS A DIREITA\n",
        "\n",
        "nome = str(input('Digite um nome: '))\n",
        "print('Prazer em te conhecer {:^21}!'.format(nome)) #CENTRALIZADO\n",
        "\n",
        "nome = str(input('Digite um nome: '))\n",
        "print('Prazer em te conhecer {:.^21}!'.format(nome)) #CENTRALIZADO COM PONTOS"
      ],
      "metadata": {
        "id": "cDQfDIlB8CqA"
      },
      "execution_count": null,
      "outputs": []
    },
    {
      "cell_type": "code",
      "source": [
        "print('OPERAÇÕES')\n",
        "n1 = int(input('Digite um número qualquer:'))\n",
        "n2 = int(input('Digite outro número: '))\n",
        "\n",
        "print('A soma entre {} e {} é {}.'.format(n1, n2, n1+n2))\n",
        "print('A subtração entre {} e {} é {}.'.format(n1, n2, n1-n2))\n",
        "print('A multiplicação entre {} e {} é {}.'.format(n1, n2, n1*n2))\n",
        "print('A divisão entre {} e {} é {:.3f}.'.format(n1, n2, n1/n2), end=' ') # end para continuar na mesma linha e \\n para quebrar linha\n",
        "print('E a divisão inteira entre {} e {} é {}.'.format(n1, n2, n1//n2))\n",
        "print('O resto entre {} e {} é {}.'.format(n1, n2, n1%n2))\n",
        "print('A potência do resultado da soma entre {} e {} é {}.'.format(n1, n2, ((n1+n2)**(1/2))))"
      ],
      "metadata": {
        "id": "hRhbIJ4z-Hb_"
      },
      "execution_count": null,
      "outputs": []
    },
    {
      "cell_type": "markdown",
      "source": [
        "**005 - Faça um programa que leia um número inteiro e mostre na tela o seu sucessor e antecessor.**"
      ],
      "metadata": {
        "id": "WMFN3GHHRGKT"
      }
    },
    {
      "cell_type": "code",
      "source": [
        "n = int(input('Digite um número: '))\n",
        "print('Ah,legal. O número que você digitou foi o {}.'.format(n))\n",
        "print('O número antecessor do {} é o {} e o sucessor é {}.'.format(n,n-1,n+1))"
      ],
      "metadata": {
        "id": "iJC-jyOFgD8o"
      },
      "execution_count": null,
      "outputs": []
    },
    {
      "cell_type": "code",
      "source": [
        "n = int(input('Digite um número: '))\n",
        "a = n-1\n",
        "s = n+1\n",
        "print('O número antecessor é {} e o sucessor é {}.'.format(a,s))"
      ],
      "metadata": {
        "id": "cWVMFjQL1pxw"
      },
      "execution_count": null,
      "outputs": []
    },
    {
      "cell_type": "markdown",
      "source": [
        "**006 - Crie um algorítmo que leia um número e mostre seu dobro, triplo e raiz quadrada.**"
      ],
      "metadata": {
        "id": "QGmin6vARghT"
      }
    },
    {
      "cell_type": "code",
      "source": [
        "n = int(input('Informe um número: '))\n",
        "print('Ok. O dobro de {} é {}.'.format(n,n*2))\n",
        "print('E o triplo de {} é {}.'.format(n,n*3))\n",
        "print('Além disso, a raiz quadrada de {} é igual a {:.2f}.'.format(n, n**(1/2)))"
      ],
      "metadata": {
        "id": "jL3dUYD6hv2I"
      },
      "execution_count": null,
      "outputs": []
    },
    {
      "cell_type": "markdown",
      "source": [
        "**007 - Desenvolva um programa que leia as notas dos dois semestres do aluno e calcule a sua média.**"
      ],
      "metadata": {
        "id": "PqKPpgcsRozh"
      }
    },
    {
      "cell_type": "code",
      "source": [
        "print('='*70)\n",
        "print('Welcome!')\n",
        "n1 = float(input('Por favor, digite o valor da nota do primeiro semestre: '))\n",
        "(print('Legal'))\n",
        "n2 = float(input('Agora digite o valor da nota do segundo semestre: '))\n",
        "(print('Bacana'))\n",
        "print('A sua média para aprovação ou reprovação é {}.'.format((n1+n2)/2))\n",
        "print('Agora, se você vai ser aprovado ou reprovado aí já é assunto pra outra aula!')\n",
        "print('='*70)"
      ],
      "metadata": {
        "id": "Br4Cso7tpW5o"
      },
      "execution_count": null,
      "outputs": []
    },
    {
      "cell_type": "code",
      "source": [
        "n1 = float(input('Digite a primeira nota: '))\n",
        "n2 = float(input('Digite a segunda nota: '))\n",
        "media = (n1 + n2) / 2\n",
        "print('A sua média é: {:.1f}.'.format(media))"
      ],
      "metadata": {
        "id": "nbTp91rI52bO"
      },
      "execution_count": null,
      "outputs": []
    },
    {
      "cell_type": "markdown",
      "source": [
        "**008 - Escreva um programa que leia o valor em metros e o exiba convertido em centímetros e milímetros.**"
      ],
      "metadata": {
        "id": "dJbqG2wUSF5k"
      }
    },
    {
      "cell_type": "code",
      "source": [
        "print('='*70)\n",
        "med = float(input('Digite o valor em m²: '))\n",
        "print('O valor é {:.2f} cm².'.format(med*100))\n",
        "print('O valor é {:.2f} mm².'.format(med*1000))\n",
        "print('='*70)"
      ],
      "metadata": {
        "id": "0Iq1hZz9y2C0"
      },
      "execution_count": null,
      "outputs": []
    },
    {
      "cell_type": "markdown",
      "source": [
        "**009 - Faça um programa que leia um número inteiro qualquer e mostre na tela a sua tabuada.**"
      ],
      "metadata": {
        "id": "P_6yXIPbSZ7H"
      }
    },
    {
      "cell_type": "code",
      "source": [
        "n = int(input('Favor, digite um número inteiro qualquer para saber a sua tabuada: '))\n",
        "print('A tabuada de {} é: '.format(n))\n",
        "print('_'*20)\n",
        "print(n, '+ 1 = ', (n+1))\n",
        "print(n, '+ 2 = ', (n+2))\n",
        "print(n, '+ 3 = ', (n+3))\n",
        "print(n, '+ 4 = ', (n+4))\n",
        "print(n, '+ 5 = ', (n+5))\n",
        "print(n, '+ 6 = ', (n+6))\n",
        "print(n, '+ 7 = ', (n+7))\n",
        "print(n, '+ 8 = ', (n+8))\n",
        "print(n, '+ 9 = ', (n+9))\n",
        "\n",
        "print('_'*20)"
      ],
      "metadata": {
        "id": "hYj9Rwm-yCyq"
      },
      "execution_count": null,
      "outputs": []
    },
    {
      "cell_type": "code",
      "source": [
        "num = int(input('Digite um número inteiro para saber a sua tabuada: '))\n",
        "print('{:2} x {:2} = {}'.format(num, 1, num*1))\n",
        "print('{:2} x {:2} = {}'.format(num, 2, num*2))\n",
        "print('{:2} x {:2} = {}'.format(num, 3, num*3))\n",
        "print('{:2} x {:2} = {}'.format(num, 4, num*4))\n",
        "print('{:2} x {:2} = {}'.format(num, 5, num*5))\n",
        "print('{:2} x {:2} = {}'.format(num, 6, num*6))\n",
        "print('{:2} x {:2} = {}'.format(num, 7, num*7))\n",
        "print('{:2} x {:2} = {}'.format(num, 8, num*8))\n",
        "print('{:2} x {:2} = {}'.format(num, 9, num*9))\n",
        "print('{:2} x {:2} = {}'.format(num, 10, num*10))"
      ],
      "metadata": {
        "id": "vEyZPZcv9pum"
      },
      "execution_count": null,
      "outputs": []
    },
    {
      "cell_type": "markdown",
      "source": [
        "**010 - Crie um programa que leia quanto dinheiro uma pessoa tem na carteira e mostre quantos dólares ela pode comprar. O valor do dólar é de $6,10 na cotação atual.**"
      ],
      "metadata": {
        "id": "u-VEvnAISuXG"
      }
    },
    {
      "cell_type": "code",
      "source": [
        "print('-'*5, 'CASA DE CAMBIO KADETT MELO')\n",
        "r = float(input('Informe o valor que deseja converter: ' ))\n",
        "print('Com esta quantidade de dinheiro você pode comprar {:.2f} dólares.'.format(r/6.10))"
      ],
      "metadata": {
        "id": "zbZ3u7PWVW8n"
      },
      "execution_count": null,
      "outputs": []
    },
    {
      "cell_type": "markdown",
      "source": [
        "**011 - Faça um programa que leia a largura e altura de uma parede em metros. Calcule a sua área e a quantidade de tinta necessária para pintá-la, sabendo que cada litro de tinta pinta uma área de 2m².**"
      ],
      "metadata": {
        "id": "HJ1aWtWmVgau"
      }
    },
    {
      "cell_type": "code",
      "source": [
        "altura = float(input('Olá, por favor, informe a altura da parede: '))\n",
        "largura = float(input('Favor, informe a largura da parede: '))\n",
        "area = (altura * largura)\n",
        "tinta = area / 2\n",
        "if area < 2:\n",
        "  print('A área total dessa parede é de {}m². Você precisará de apenas uma lata de tinta'.format(area))\n",
        "else:\n",
        "  print('A área total dessa parede é de {}m². \\nVocê precisará de {} litros de tinta'.format(area, tinta))"
      ],
      "metadata": {
        "id": "tsDCMqCGs76u"
      },
      "execution_count": null,
      "outputs": []
    },
    {
      "cell_type": "markdown",
      "source": [
        "**012 - Faça o algorítmo que leia o preço de um produto e mostre seu novo preço com 5% de desconto.**"
      ],
      "metadata": {
        "id": "X2EuJUZBZb6Z"
      }
    },
    {
      "cell_type": "code",
      "source": [
        "p = float(input('Favor digite o preço do produto: '))\n",
        "print('O valor com 5% de desconto é: R$ {:.2f}.'.format(p - (p*0.05)))"
      ],
      "metadata": {
        "id": "50fnRd215o3W"
      },
      "execution_count": null,
      "outputs": []
    },
    {
      "cell_type": "code",
      "source": [
        "p = float(input('Informe o salário: R$'))\n",
        "print('O valor do salário com 5% de desconto corresponde a R${:.2f}.'.format(p-(p*5/100)))"
      ],
      "metadata": {
        "id": "JgnyMCiSc5Af"
      },
      "execution_count": null,
      "outputs": []
    },
    {
      "cell_type": "markdown",
      "source": [
        "**013 - Faça um algorítmo que leia o salário de um funcionário e mostre seu novo salário com 15% de aumento.**"
      ],
      "metadata": {
        "id": "4KYkqI_hZu5w"
      }
    },
    {
      "cell_type": "code",
      "source": [
        "sal = float(input('Favor, informe na tela o salário do funcionário: '))\n",
        "print('O novo salário com um reajuste de 15% será de: R$ {:.3f}.'.format(sal + (sal*0.15)))"
      ],
      "metadata": {
        "id": "VW63LXI-7qiM"
      },
      "execution_count": null,
      "outputs": []
    },
    {
      "cell_type": "markdown",
      "source": [
        "**014 - Escreva um programa que converta uma temperatura digitando em graus Celsius e converta para graus Fahrenheit.**"
      ],
      "metadata": {
        "id": "cRXQ28L1aWRG"
      }
    },
    {
      "cell_type": "code",
      "source": [
        "t = float(input('Favor, digitar a temperatura em graus C: '))\n",
        "conv = ((9*t)/5)+32\n",
        "print('A temperatura de {}C corresponde a {}F.'.format(t, conv))"
      ],
      "metadata": {
        "id": "nuWKTyf0-dTU"
      },
      "execution_count": null,
      "outputs": []
    },
    {
      "cell_type": "markdown",
      "source": [
        "**015 - Escreva um programa que pergunte a quantidade de Km percorridos por um carro alugado e a quantidade de dias pelos quais ele foi alugado. Calcule o preço a pagar, sabendo que o carro custa 60/dia e 0,15 por Km rodado.**"
      ],
      "metadata": {
        "id": "Jp4J9hcxagRs"
      }
    },
    {
      "cell_type": "code",
      "source": [
        "kmi = float(input('Digite o KM inicial: '))\n",
        "kmf = float(input('Digite o KM final: '))\n",
        "dias = int(input('Quantos dias permaneceu com o veículo? '))\n",
        "diariapaga = (dias*60)\n",
        "kmpago = (kmf-kmi) * 0.15\n",
        "print('O valor a ser pago pelas diárias é de {}.'.format(diariapaga))\n",
        "print('O valor a ser pago pelo KM rodado é {}.'.format((kmpago)))\n",
        "print('O total dessa brincadeira é {}.'.format(diariapaga+kmpago))"
      ],
      "metadata": {
        "id": "Oxgv2CBOGNbZ"
      },
      "execution_count": null,
      "outputs": []
    },
    {
      "cell_type": "markdown",
      "source": [
        "**USANDO MÓDULOS EM PYTHON**\n",
        "\n",
        "---\n",
        "\n",
        "\n",
        "Ex:\n",
        "import math (Importar toda a biblioteca math) OU\n",
        "from math import sqrt (Importar apenas a função raiz quadrada da biblioteca math. Se eu tiver que importar mais de uma é possível apenas colocando uma vírgula após a função chamada. Ex: from math import sqrt, ceil)\n",
        "\n",
        "Aproveitando o exemplo:\n",
        "  - Biblioteca math (matemática)\n",
        "    - ceil (arredondamento para cima)\n",
        "    - floor (arredondamento para baixo)\n",
        "    - trunc (truncar um número após o ponto flutuante)\n",
        "    - pow (potência)\n",
        "    - sqrt (raiz quadrada)\n",
        "    - factorial (fatorial)"
      ],
      "metadata": {
        "id": "2GYAs0_TpYUU"
      }
    },
    {
      "cell_type": "code",
      "source": [
        "!python --version\n",
        "\n",
        "# Cod para ver a versão do Python no Colab."
      ],
      "metadata": {
        "id": "uGmSSeinVAB5"
      },
      "execution_count": null,
      "outputs": []
    },
    {
      "cell_type": "code",
      "source": [
        "import random\n",
        "num = random.random()\n",
        "print(num)\n",
        "\n",
        "#método random da classe random gera um número entre 0 e 1"
      ],
      "metadata": {
        "id": "xyuy2JWTCqSx"
      },
      "execution_count": null,
      "outputs": []
    },
    {
      "cell_type": "code",
      "source": [
        "import random\n",
        "num = random.randint(1,200)\n",
        "print(num)"
      ],
      "metadata": {
        "id": "fOC8O0oTCwOp"
      },
      "execution_count": null,
      "outputs": []
    },
    {
      "cell_type": "code",
      "source": [
        "! python -m pip install emoji --upgrade\n",
        "\n",
        "#Instalação de pacotes via pip"
      ],
      "metadata": {
        "id": "--59bYrxU3X-"
      },
      "execution_count": null,
      "outputs": []
    },
    {
      "cell_type": "code",
      "source": [
        "import emoji\n",
        "print(emoji.emojize(\"Python é :pulgar_hacia_arriba: legal\", language='es'))"
      ],
      "metadata": {
        "id": "XMHKzaEHDI74"
      },
      "execution_count": null,
      "outputs": []
    },
    {
      "cell_type": "markdown",
      "source": [
        "**016 - Crie um programa que leia um número Real qualquer pelo teclado e mostre na tela a sua porção inteira.**"
      ],
      "metadata": {
        "id": "fA6RbtW-bYa5"
      }
    },
    {
      "cell_type": "code",
      "source": [
        "from math import trunc\n",
        "num = float(input('Informe um número Real qualquer: '))\n",
        "print('A parte inteira deste número é: {}.'.format(trunc(num)))"
      ],
      "metadata": {
        "id": "hnQbJ4D4iB5A"
      },
      "execution_count": null,
      "outputs": []
    },
    {
      "cell_type": "markdown",
      "source": [
        "**017 - Faça um programa que leia o comprimento do cateto oposto e do cateto adjacente de um triângulo retângulo, calcule o mostre o comprimento da hipotenusa.**"
      ],
      "metadata": {
        "id": "pdtuMhehbfbM"
      }
    },
    {
      "cell_type": "code",
      "source": [
        "# Cálculo da hipotenusa através da solução matemática.\n",
        "co = float(input('Informe o valor do Cateto Oposto: '))\n",
        "ca = float(input('Informe o valor do Cateto Adjacente: '))\n",
        "h = (co ** 2 + ca ** 2) ** (1/2)\n",
        "print('A hipotenusa é igual a: {:.2f}.'.format(h))"
      ],
      "metadata": {
        "id": "wuj--CYNjIVN"
      },
      "execution_count": null,
      "outputs": []
    },
    {
      "cell_type": "code",
      "source": [
        "# Cálculo da hipotenusa através do módulo em Python.\n",
        "import math\n",
        "co = float(input('Informe o valor do Cateto Oposto: '))\n",
        "ca = float(input('Informe o valor do Cateto Adjacente: '))\n",
        "h = math.hypot(co, ca)\n",
        "print('A hipotenusa é igual a: {:.2f}.'.format(h))"
      ],
      "metadata": {
        "id": "QILrQWaDuQwn"
      },
      "execution_count": null,
      "outputs": []
    },
    {
      "cell_type": "markdown",
      "source": [
        "**018 - Faça um programa que leia um ângulo qualquer e mostre na tela o valor do seno, cosseno e tangente desse ângulo.**"
      ],
      "metadata": {
        "id": "_66n6qbZbfyl"
      }
    },
    {
      "cell_type": "code",
      "source": [
        "import math\n",
        "angulo = float(input('Digite um ângulo: '))\n",
        "sen = math.sin(math.radians(angulo))\n",
        "cos = math.cos(math.radians(angulo))\n",
        "tan = math.tan(math.radians(angulo))\n",
        "print('O valor de Seno é: {:.2f} \\nO valor de Cosseno é: {:.2f} \\nO valor da Tangente é: {:.2f}'.format(sen, cos, tan))"
      ],
      "metadata": {
        "id": "-UBvHgjegN9-"
      },
      "execution_count": null,
      "outputs": []
    },
    {
      "cell_type": "markdown",
      "source": [
        "**019 - Um professor quer sortear um dos seus quatro alunos para apagar o quadro. Faça um programa que ajude ele, lendo o nome deles e escrevendo o nome do escolhido.**"
      ],
      "metadata": {
        "id": "6sceSDUdbgQE"
      }
    },
    {
      "cell_type": "code",
      "source": [
        "import random\n",
        "a1 = input('Informe o nome do aluno: ')\n",
        "a2 = input('Informe o nome do aluno: ')\n",
        "a3 = input('Informe o nome do aluno: ')\n",
        "a4 = input('Informe o nome do aluno: ')\n",
        "lista = [a1, a2, a3, a4]\n",
        "escolhido = random.choice(lista)\n",
        "print('O aluno escolhido foi: ', escolhido)"
      ],
      "metadata": {
        "id": "CWrn4T5Dho7g"
      },
      "execution_count": null,
      "outputs": []
    },
    {
      "cell_type": "markdown",
      "source": [
        "**020 - O mesmo professor do desafio anterior quer sortear a ordem de apresentação dos alunos. Faça um programa que leia o nome dos quatro alunos e mostre a sua ordem sorteada.**"
      ],
      "metadata": {
        "id": "X7_YMC5pc6-n"
      }
    },
    {
      "cell_type": "code",
      "source": [
        "import random\n",
        "a1 = input('Digite o nome do aluno: ')\n",
        "a2 = input('Digite o nome do aluno: ')\n",
        "a3 = input('Digite o nome do aluno: ')\n",
        "a4 = input('Digite o nome do aluno: ')\n",
        "lista = [a1, a2, a3, a4]\n",
        "random.shuffle(lista)\n",
        "print(lista)"
      ],
      "metadata": {
        "id": "RzUJYre6suHi"
      },
      "execution_count": null,
      "outputs": []
    },
    {
      "cell_type": "markdown",
      "source": [
        "**021 - Faça um programa em Python que abra e reproduza o áudio de um arquivo MP3.**"
      ],
      "metadata": {
        "id": "64joN7Zuc7Vz"
      }
    },
    {
      "cell_type": "code",
      "source": [
        "import pygame"
      ],
      "metadata": {
        "id": "UB9LUJV-x2F7"
      },
      "execution_count": null,
      "outputs": []
    },
    {
      "cell_type": "markdown",
      "source": [
        "**MANIPULANDO TEXTO** ---\n",
        "ÍNDICE - COMEÇA DO 0.\n",
        "\n",
        "---\n",
        "\n",
        "frase = *Curso em Vídeo Python* - (Cadeia de Caracteres)\n",
        "\n",
        "**FATIAMENTO**\n",
        "\n",
        "Fatiamento: frase[9] - Retorna o V\n",
        "\n",
        "Fatiamento: frase[9:13] - Retorna o Víde (Incluindo o 9 e removendo o 13. O último é ignorado pelo Python.)\n",
        "\n",
        "Fatiamento: frase[9:21:2] - Vai do 9 ao 21 pulando de 2 em 2. (VdoPto)\n",
        "\n",
        "Fatiamento: frase[:5] - Ínício 0 a 5 (Curso)\n",
        "\n",
        "Fatiamento: frase[15:] - 15 ao final (Python)\n",
        "\n",
        "Fatiamento: frase[9::3] - Começa no 9, vai até o final pulando de 3 em 3. (VePh)\n",
        "\n",
        "\n",
        "---\n",
        "\n",
        "**ANÁLISE**\n",
        "\n",
        "len(frase) - Comprimento da frase - 21 caracteres.\n",
        "\n",
        "frase.count('o') - Contar quantas vezes aparece o 'o' minúsculo na frase.\n",
        "\n",
        "frase.count('o',0,13)\n",
        "\n",
        "frase.find('deo') - Vai indicar onde começou - índice 11.\n",
        "\n",
        "frase.find('Android') - Retorna o valor (-1) para indicar que a string não existe.\n",
        "\n",
        "'Curso' in frase - True / 'Java' in frase - False\n",
        "\n",
        "---\n",
        "**TRANSFORMAÇÃO**\n",
        "\n",
        "frase.replace('Python','Android') - Substitui a palavra Python por Android\n",
        "\n",
        "frase.upper( ) - Maiusculo /\n",
        "frase.lower( ) - Minusculo\n",
        "\n",
        "frase.capitalize( ) - Transforma só a primeira letra da frase em maiúscula.\n",
        "\n",
        "frase.title( ) - Transforma cada palavra da frase em letra maiúscula.\n",
        "\n",
        "*OUTRA STRING*\n",
        "\n",
        "frase = *Aprenda Python* (Cadeia de Caracteres)\n",
        "\n",
        "frase.strip( ) - Remove os espaços vazios anteriores e posteriores\n",
        "\n",
        "frase.rstrip( ) - Remove os espaços vazios da direita\n",
        "\n",
        "frase.lstrip( ) - Remove os espaços vazios da esquerda\n",
        "\n",
        "---\n",
        "**DIVISÃO**\n",
        "\n",
        "frase.split( ) - Divide a divisão considerando os espaços. Cada palavra recebe indexação nova. Cada palavra é colocada pelo Python dentro de outra lista.\n",
        "\n",
        "\n",
        "---\n",
        "\n",
        "\n",
        "**JUNÇÃO**\n",
        "\n",
        "'-'.join(frase) - Junta uma String separada com o separados dado no exemplo '-'.\n",
        "\n",
        "---\n",
        "\n",
        "\"\"\" LOREM IPSUN \"\"\" (Permite textos longos sem print em cada linha)\n",
        "\n",
        "---\n",
        "\n",
        "*EXERCÍCIOS DA AULA TEÓRICA*"
      ],
      "metadata": {
        "id": "-iSwALSjjKfl"
      }
    },
    {
      "cell_type": "code",
      "source": [
        "frase = 'Curso em Vídeo Python'\n",
        "print(frase[9])\n",
        "print(frase[9:13])\n",
        "print(frase[9:21:2])\n",
        "print(frase[:5])\n",
        "print(frase[15:])\n",
        "print(frase[9::3])\n",
        "print(frase.count('o'))"
      ],
      "metadata": {
        "id": "nR8vV8AZjPoc"
      },
      "execution_count": null,
      "outputs": []
    },
    {
      "cell_type": "code",
      "source": [
        "frase = 'Curso em Vídeo Python'\n",
        "len(frase)"
      ],
      "metadata": {
        "id": "37wWwOO2tctj"
      },
      "execution_count": null,
      "outputs": []
    },
    {
      "cell_type": "code",
      "source": [
        "frase = 'Curso em Vídeo Python'\n",
        "frase.count('o',0,21)"
      ],
      "metadata": {
        "id": "cTpKf7VL8ytM"
      },
      "execution_count": null,
      "outputs": []
    },
    {
      "cell_type": "code",
      "source": [
        "frase = 'Curso em Vídeo Python'\n",
        "print(frase.upper().count('O'))"
      ],
      "metadata": {
        "id": "RWkL2gbsY4Y1"
      },
      "execution_count": null,
      "outputs": []
    },
    {
      "cell_type": "code",
      "source": [
        "frase = 'Curso em Vídeo Python'\n",
        "frase.find('Android')"
      ],
      "metadata": {
        "id": "qbwjlGDQ840m"
      },
      "execution_count": null,
      "outputs": []
    },
    {
      "cell_type": "code",
      "source": [
        "frase = 'Curso em Vídeo Python'\n",
        "frase.find('deo')"
      ],
      "metadata": {
        "id": "HD5WEzUGBSpJ"
      },
      "execution_count": null,
      "outputs": []
    },
    {
      "cell_type": "code",
      "source": [
        "frase = 'Curso em Vídeo Python'\n",
        "novafrase = frase.replace('Python', 'Android')\n",
        "print(novafrase)"
      ],
      "metadata": {
        "id": "zkJkHPSCBZrF"
      },
      "execution_count": null,
      "outputs": []
    },
    {
      "cell_type": "code",
      "source": [
        "frase = 'Curso em Vídeo Python'\n",
        "print(frase.upper())"
      ],
      "metadata": {
        "id": "M-adiypSD2P-"
      },
      "execution_count": null,
      "outputs": []
    },
    {
      "cell_type": "code",
      "source": [
        "frase = 'Curso em Vídeo Python'\n",
        "print(frase.lower())"
      ],
      "metadata": {
        "id": "mrgUbBjVNk9a"
      },
      "execution_count": null,
      "outputs": []
    },
    {
      "cell_type": "code",
      "source": [
        "frase = 'Curso em Vídeo Python'\n",
        "print(frase.capitalize())"
      ],
      "metadata": {
        "id": "_2aPp65pPUeq"
      },
      "execution_count": null,
      "outputs": []
    },
    {
      "cell_type": "code",
      "source": [
        "frase = 'Curso em Vídeo Python'\n",
        "print(frase.title())"
      ],
      "metadata": {
        "id": "mCSpz3dKPW7Y"
      },
      "execution_count": null,
      "outputs": []
    },
    {
      "cell_type": "code",
      "source": [
        "\"\"\"Lorem Ipsum is simply dummy text of the printing and typesetting industry. Lorem Ipsum has been the industry's standard dummy text ever since the 1500s, when an unknown printer took a galley of type and scrambled it to make a type specimen book. It has survived not only five centuries, but also the leap into electronic typesetting, remaining essentially unchanged. It was popularised in the 1960s with the release of Letraset sheets containing Lorem Ipsum passages, and more recently with desktop publishing software like Aldus PageMaker including versions of Lorem Ipsum.\"\"\""
      ],
      "metadata": {
        "id": "ChKBTb5iPaBC"
      },
      "execution_count": null,
      "outputs": []
    },
    {
      "cell_type": "code",
      "source": [
        "frase = '  Curso em Video    '\n",
        "print(frase.strip())"
      ],
      "metadata": {
        "id": "xQHdOdZ0XqYm"
      },
      "execution_count": null,
      "outputs": []
    },
    {
      "cell_type": "code",
      "source": [
        "frase = 'Curso em Vídeo Python'\n",
        "print(frase.replace('Curso', 'Aula'))"
      ],
      "metadata": {
        "id": "jFermFLvaDKJ"
      },
      "execution_count": null,
      "outputs": []
    },
    {
      "cell_type": "code",
      "source": [
        "frase = 'Curso em Vídeo Python'\n",
        "print('Curso' in frase)\n",
        "\n",
        "frase = 'Curso em Vídeo Python'\n",
        "print('curso' in frase)"
      ],
      "metadata": {
        "id": "TazeKrW8d1w3"
      },
      "execution_count": null,
      "outputs": []
    },
    {
      "cell_type": "code",
      "source": [
        "frase = 'Curso em Vídeo Python'\n",
        "print(frase.find('Curso'))\n",
        "\n",
        "frase = 'Curso em Vídeo Python'\n",
        "print(frase.find('Vídeo'))\n",
        "\n",
        "frase = 'Curso em Vídeo Python'\n",
        "print(frase.find('Java'))"
      ],
      "metadata": {
        "id": "wKhAok_reT1q"
      },
      "execution_count": null,
      "outputs": []
    },
    {
      "cell_type": "code",
      "source": [
        "frase = 'Curso em Vídeo Python'\n",
        "print(frase.lower().find('vídeo'))\n"
      ],
      "metadata": {
        "id": "1cP-EeA_evFp"
      },
      "execution_count": null,
      "outputs": []
    },
    {
      "cell_type": "code",
      "source": [
        "frase = 'Curso em Vídeo Python'\n",
        "print(frase.split())"
      ],
      "metadata": {
        "id": "-LaPzbCofD8p"
      },
      "execution_count": null,
      "outputs": []
    },
    {
      "cell_type": "code",
      "source": [
        "frase = 'Curso em Vídeo Python'\n",
        "dividido = frase.split()\n",
        "print(dividido[0])"
      ],
      "metadata": {
        "id": "QUDmxYQ1hEic"
      },
      "execution_count": null,
      "outputs": []
    },
    {
      "cell_type": "code",
      "source": [
        "frase = 'Curso em Vídeo Python'\n",
        "dividido = frase.split()\n",
        "print(dividido[0:3:2])"
      ],
      "metadata": {
        "id": "gdS4n3QrhMXa"
      },
      "execution_count": null,
      "outputs": []
    },
    {
      "cell_type": "code",
      "source": [
        "frase = 'Curso em Vídeo Python'\n",
        "dividido = frase.split()\n",
        "print(dividido[3][1])"
      ],
      "metadata": {
        "id": "JMGNwx3Khbp1"
      },
      "execution_count": null,
      "outputs": []
    },
    {
      "cell_type": "code",
      "source": [
        "import random\n",
        "frase = 'Curso em Vídeo Python'\n",
        "embaralhado = frase.split()\n",
        "random.shuffle(embaralhado)\n",
        "print(embaralhado)"
      ],
      "metadata": {
        "id": "nCqezLDCgC1W"
      },
      "execution_count": null,
      "outputs": []
    },
    {
      "cell_type": "markdown",
      "source": [
        "**022 - Crie um programa que leia um nome completo de uma pessoa e mostre: 1-O nome com todas as letras maiúsculas. 2-O nome com todas minúsculas. 3-Quantas letras ao todo sem considerar os espaços. 4-Quantas letras tem o primeiro nome.**"
      ],
      "metadata": {
        "id": "1z78yW0Wh2b2"
      }
    },
    {
      "cell_type": "code",
      "source": [
        "nome = input('Nome completo: ')\n",
        "mai = nome.upper()\n",
        "min = nome.lower()\n",
        "comp = nome.count(' ')\n",
        "nomed = nome.split()\n",
        "espaco = nome.find(' ')\n",
        "print('O nome com todas as letras maiúsculas: {} \\nO nome com todas as letras minúsculas: {} \\nA quantidade de letras sem o espaço: {} \\nA quantidade de letras no primeiro nome: {}'.format(mai, min, (len(nome)-comp), nomed.count(0)+espaco))\n"
      ],
      "metadata": {
        "id": "Yqq3MW29lGPX"
      },
      "execution_count": null,
      "outputs": []
    },
    {
      "cell_type": "markdown",
      "source": [
        "**023 - Faça um programa que leia um número de 0 - 9999 e mostre na tela cada um dos dígitos separados.** Ex: 1834 (unidade:4 / dezena:3 / centena:8 / milhar:1"
      ],
      "metadata": {
        "id": "64yHZVCJiaWt"
      }
    },
    {
      "cell_type": "code",
      "source": [
        "num = int(input('Digite um número entre 0 e 9999: '))\n",
        "u = num // 1 % 10\n",
        "d = num // 10 % 10\n",
        "c = num // 100 % 10\n",
        "m = num // 1000 % 10\n",
        "print('O milhar é {} \\nA centena é {} \\nA dezena é {} \\nA unidade é {}'.format(m, c, d, u))"
      ],
      "metadata": {
        "id": "knVDVjxA2Tfc"
      },
      "execution_count": null,
      "outputs": []
    },
    {
      "cell_type": "markdown",
      "source": [
        "**024 - Crie um programa que leia o nome de uma cidade e diga se ela começa ou não com a palavra 'Santo'.**"
      ],
      "metadata": {
        "id": "OXXy6KS9ia1s"
      }
    },
    {
      "cell_type": "code",
      "source": [
        "nome = str(input('Nome da cidade: ')).strip().capitalize()\n",
        "print(nome[:5].title() == 'Santo')"
      ],
      "metadata": {
        "id": "g5RhNbszCc2F"
      },
      "execution_count": null,
      "outputs": []
    },
    {
      "cell_type": "markdown",
      "source": [
        "**025 - Crie um programa que leia o nome de uma pessoa e diga se ela tem 'Silva' no nome.**"
      ],
      "metadata": {
        "id": "LALgVp7XjL9Q"
      }
    },
    {
      "cell_type": "code",
      "source": [
        "nome = input('Digite um nome: ').strip().capitalize()\n",
        "sobrenome = 'Silva' in nome\n",
        "print(sobrenome)"
      ],
      "metadata": {
        "id": "mY220WGa4CZ7"
      },
      "execution_count": null,
      "outputs": []
    },
    {
      "cell_type": "markdown",
      "source": [
        "**026 - Faça um programa que leia uma frase pelo teclado e mostre: 1-Quantas vezes aparece a letra \"A\". / 2-Em que posição ela aparece a primeira vez. / 3-Em que posição ela aparece a última vez.**"
      ],
      "metadata": {
        "id": "8qQZMgaNjayR"
      }
    },
    {
      "cell_type": "code",
      "source": [
        "frase = str(input('Digite uma frase: ')).upper().strip()\n",
        "a = frase.count('A')\n",
        "ai = frase.find('A')+1\n",
        "af = frase.rfind('A')+1\n",
        "print('A letra A: \\nAparece {} vezes. \\nAparece na posição {} pela primeira vez. \\nAparece na posição {} pela última vez.'.format(a, ai, af))"
      ],
      "metadata": {
        "id": "p3SaCRX14uGJ"
      },
      "execution_count": null,
      "outputs": []
    },
    {
      "cell_type": "markdown",
      "source": [
        "**027 - Faça um programa que leia o nome completo de uma pessoa, mostrando em seguida o primeiro e o último nome separadamente.** Ex: Ana Maria Souza (Ana Souza)"
      ],
      "metadata": {
        "id": "3fihkCtijbI6"
      }
    },
    {
      "cell_type": "code",
      "source": [
        "nome = str(input('Informe um nome: ')).strip().title()\n",
        "n = nome.split()\n",
        "print('O primeiro nome é {}.'.format(n[0]))\n",
        "print('O último nome é {}'.format(n[len(n)-1]))"
      ],
      "metadata": {
        "id": "Rz3E_yKkjTVC"
      },
      "execution_count": null,
      "outputs": []
    },
    {
      "cell_type": "markdown",
      "source": [
        "**AULA 10 - CONDIÇÕES** - 'IF . ELSE'\n"
      ],
      "metadata": {
        "id": "_5b9fBfczpEj"
      }
    },
    {
      "cell_type": "code",
      "source": [
        "# Condição Simples\n",
        "nome = input('Digite seu nome: ')\n",
        "if nome == 'Erivelto':\n",
        "  print('Que nome bonito.')\n",
        "print('Bom dia.')"
      ],
      "metadata": {
        "id": "jSSEgUCg1NSg"
      },
      "execution_count": null,
      "outputs": []
    },
    {
      "cell_type": "code",
      "source": [
        "# Condição Composta\n",
        "nome = input('Digite seu nome: ')\n",
        "if nome == 'Erivelto':\n",
        "  print('Nome lindo')\n",
        "else:\n",
        "  print('nome feio')"
      ],
      "metadata": {
        "id": "GgI5oDqR2RLt"
      },
      "execution_count": null,
      "outputs": []
    },
    {
      "cell_type": "code",
      "source": [
        "#Exercício da Média do aluno.\n",
        "n1 = float(input('Digite a primeira nota: '))\n",
        "n2 = float(input('Digite a segunda nota: '))\n",
        "media = (n1+n2)/2\n",
        "if media >= 6:\n",
        "  print('Aprovado')\n",
        "else:\n",
        "  print('Reprovado')"
      ],
      "metadata": {
        "id": "He_KTBXu3Lro"
      },
      "execution_count": null,
      "outputs": []
    },
    {
      "cell_type": "code",
      "source": [
        "n1 = float(input('Digite a primeira nota: '))\n",
        "n2 = float(input('Digite a segunda nota: '))\n",
        "media = (n1+n2)/2\n",
        "print('Aprovado' if media >= 6 else 'Reprovado')"
      ],
      "metadata": {
        "id": "ljlCfM_e4KPx"
      },
      "execution_count": null,
      "outputs": []
    },
    {
      "cell_type": "markdown",
      "source": [
        "**028"
      ],
      "metadata": {
        "id": "OtSz-sj25EmQ"
      }
    },
    {
      "cell_type": "markdown",
      "source": [
        "**029"
      ],
      "metadata": {
        "id": "vxpa5LVE5Eee"
      }
    },
    {
      "cell_type": "markdown",
      "source": [
        "**030"
      ],
      "metadata": {
        "id": "sJ3T2r2N5EWT"
      }
    },
    {
      "cell_type": "markdown",
      "source": [
        "**031"
      ],
      "metadata": {
        "id": "n8louiBW5ENc"
      }
    },
    {
      "cell_type": "markdown",
      "source": [
        "**032"
      ],
      "metadata": {
        "id": "hhAbz34K5EFK"
      }
    },
    {
      "cell_type": "markdown",
      "source": [
        "**033"
      ],
      "metadata": {
        "id": "wEVL45Nr5D8C"
      }
    },
    {
      "cell_type": "markdown",
      "source": [
        "**034"
      ],
      "metadata": {
        "id": "WPMHc3Ng5Dxo"
      }
    },
    {
      "cell_type": "markdown",
      "source": [
        "**035"
      ],
      "metadata": {
        "id": "H6mIOS8t5DaF"
      }
    },
    {
      "cell_type": "code",
      "source": [],
      "metadata": {
        "id": "x5IXxMYy4pJP"
      },
      "execution_count": null,
      "outputs": []
    }
  ]
}