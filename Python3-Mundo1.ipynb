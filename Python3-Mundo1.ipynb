{
  "nbformat": 4,
  "nbformat_minor": 0,
  "metadata": {
    "colab": {
      "provenance": [],
      "authorship_tag": "ABX9TyNi+Q3hj8npuNU5NQXjdEla",
      "include_colab_link": true
    },
    "kernelspec": {
      "name": "python3",
      "display_name": "Python 3"
    },
    "language_info": {
      "name": "python"
    }
  },
  "cells": [
    {
      "cell_type": "markdown",
      "metadata": {
        "id": "view-in-github",
        "colab_type": "text"
      },
      "source": [
        "<a href=\"https://colab.research.google.com/github/EriveltoViana/EriveltoViana/blob/main/Python3-Mundo1.ipynb\" target=\"_parent\"><img src=\"https://colab.research.google.com/assets/colab-badge.svg\" alt=\"Open In Colab\"/></a>"
      ]
    },
    {
      "cell_type": "markdown",
      "source": [
        "**001 - Crie um programa que escreva 'Olá, mundo!' na tela.**"
      ],
      "metadata": {
        "id": "nwzdfV5zGtc5"
      }
    },
    {
      "cell_type": "code",
      "source": [
        "'Olá, mundo!'"
      ],
      "metadata": {
        "id": "cV7OZzrpIdIE"
      },
      "execution_count": null,
      "outputs": []
    },
    {
      "cell_type": "code",
      "source": [
        "msg = 'Olá, mundo!'\n",
        "print(msg)"
      ],
      "metadata": {
        "id": "0umasqSjIgrg"
      },
      "execution_count": null,
      "outputs": []
    },
    {
      "cell_type": "code",
      "source": [
        "print('Olá, mundo!')"
      ],
      "metadata": {
        "id": "J8vbUSVUWw_w"
      },
      "execution_count": null,
      "outputs": []
    },
    {
      "cell_type": "markdown",
      "source": [
        "**002 - Respondendo ao usuário. Faça um programa que leia o nome de uma pessoa e mostre uma mensagem de boas vidas.**"
      ],
      "metadata": {
        "id": "MN49l6S_Jdi5"
      }
    },
    {
      "cell_type": "code",
      "source": [
        "print('Digite o seu nome:')\n",
        "nome = input();\n",
        "print('Seja bem vindo(a), ' + nome + \"!\")"
      ],
      "metadata": {
        "id": "CC7O6TiyW8zC"
      },
      "execution_count": null,
      "outputs": []
    },
    {
      "cell_type": "code",
      "source": [
        "print('Digite o seu nome:')\n",
        "nome = input();\n",
        "print('Seja bem vindo(a),', nome, '!')"
      ],
      "metadata": {
        "id": "_5_owKA3M_JY"
      },
      "execution_count": null,
      "outputs": []
    },
    {
      "cell_type": "code",
      "source": [
        "\n",
        "nome = input('Digite o seu nome:')\n",
        "print('Seja bem vindo(a), {}!'.format(nome))"
      ],
      "metadata": {
        "id": "ImuzNhEXJws5"
      },
      "execution_count": null,
      "outputs": []
    },
    {
      "cell_type": "markdown",
      "source": [
        "**003 - Faça um programa que leia dois números e mostre a soma entre eles.**"
      ],
      "metadata": {
        "id": "grLNI5twXDcV"
      }
    },
    {
      "cell_type": "code",
      "source": [
        "n1 = int(input('Digite um número:'))\n",
        "n2 = int(input('Digite outro número:'))\n",
        "s = n1 + n2\n",
        "print('A soma entre {} e {} é igual a {}!'.format(n1, n2, s))"
      ],
      "metadata": {
        "id": "6BB2vt-5LXCR"
      },
      "execution_count": null,
      "outputs": []
    },
    {
      "cell_type": "code",
      "source": [
        "n1 = int(input('Digite um número:'))\n",
        "n2 = int(input('Digite outro número:'))\n",
        "print('A soma entre {} e {} é igual a {}!'.format(n1, n2, n1+n2))"
      ],
      "metadata": {
        "id": "unBsZKUn_49I"
      },
      "execution_count": null,
      "outputs": []
    },
    {
      "cell_type": "code",
      "source": [
        "print(type(s))\n",
        "print(float(s))\n",
        "print(str(s)+'vergonha')\n",
        "print(bool(s))"
      ],
      "metadata": {
        "id": "t_ewInG2XJeQ"
      },
      "execution_count": null,
      "outputs": []
    },
    {
      "cell_type": "markdown",
      "source": [
        "**004 - Faça um programa que leia algo pelo teclado e mostre na tela o seu tipo primitivo e todas as informações sobre ela.**"
      ],
      "metadata": {
        "id": "BkTJHqL2jTHu"
      }
    },
    {
      "cell_type": "code",
      "source": [
        "n = input('Digite algo: ')\n",
        "print(n)\n",
        "print(n.isnumeric()) #NUMÉRICO\n",
        "print(n.isalpha()) #ALFABÉTICO\n",
        "print(n.isalnum()) #ALFABÉTICO E NUMÉRICO\n",
        "print(n.isupper()) #MAIÚSCULO\n",
        "print(n.islower()) #MINÚSCULO\n",
        "print(n.istitle()) #CAPITALIZADO\n"
      ],
      "metadata": {
        "id": "TtH0on7-Znkg"
      },
      "execution_count": null,
      "outputs": []
    },
    {
      "cell_type": "markdown",
      "source": [
        "**OPERADORES ARITMÉTICOS - ORDEM DE PRECEDÊNCIA**\n",
        "\n",
        "1     ( )\n",
        "\n",
        "---\n",
        "\n",
        "\n",
        "2     **\n",
        "\n",
        "---\n",
        "\n",
        "\n",
        "3     * / // %\n",
        "\n",
        "---\n",
        "\n",
        "\n",
        "4     + -\n",
        "\n",
        "---\n",
        "\n",
        "obs: Calcular a raiz quadrada de um número é o mesmo que calcular sua a potência por 1/2. Ex: (81**(1/2))"
      ],
      "metadata": {
        "id": "OSyJpM9UzhFY"
      }
    },
    {
      "cell_type": "code",
      "source": [],
      "metadata": {
        "id": "v-8e7He17TL6"
      },
      "execution_count": null,
      "outputs": []
    },
    {
      "cell_type": "code",
      "source": [
        "81**(1/2) #RAIZ QUADRADA"
      ],
      "metadata": {
        "id": "WmXlyOG7g2T-"
      },
      "execution_count": null,
      "outputs": []
    },
    {
      "cell_type": "code",
      "source": [
        "25**(1/2) #RAIZ QUADRADA"
      ],
      "metadata": {
        "id": "sORvxb7f4J86"
      },
      "execution_count": null,
      "outputs": []
    },
    {
      "cell_type": "code",
      "source": [
        "900**(1/3) #RAIZ CÚBICA"
      ],
      "metadata": {
        "id": "nmVp2fXR6eG-"
      },
      "execution_count": null,
      "outputs": []
    },
    {
      "cell_type": "markdown",
      "source": [
        "**Também é possível utilizar os operadores aritméticos com strings!**"
      ],
      "metadata": {
        "id": "I68jxLZ67mDa"
      }
    },
    {
      "cell_type": "code",
      "source": [
        "'Oi' + ' Abestado'"
      ],
      "metadata": {
        "id": "nYDPfRHl6hGW"
      },
      "execution_count": null,
      "outputs": []
    },
    {
      "cell_type": "code",
      "source": [
        "'=' * 20"
      ],
      "metadata": {
        "id": "wpP6rZq67v3A"
      },
      "execution_count": null,
      "outputs": []
    },
    {
      "cell_type": "code",
      "source": [
        "#OBSERVE DENTRO DA MÁSCARA DO PRINT OS SINAIS QUE MUDAM.\n",
        "nome = str(input('Digite um nome: '))\n",
        "print('Prazer em te conhecer {:>21}!'.format(nome)) #21 ESPAÇOS A ESQUERDA\n",
        "\n",
        "nome = str(input('Digite um nome: '))\n",
        "print('Prazer em te conhecer {:<21}!'.format(nome)) #21 ESPAÇOS A DIREITA\n",
        "\n",
        "nome = str(input('Digite um nome: '))\n",
        "print('Prazer em te conhecer {:^21}!'.format(nome)) #CENTRALIZADO\n",
        "\n",
        "nome = str(input('Digite um nome: '))\n",
        "print('Prazer em te conhecer {:.^21}!'.format(nome)) #CENTRALIZADO COM PONTOS"
      ],
      "metadata": {
        "id": "cDQfDIlB8CqA"
      },
      "execution_count": null,
      "outputs": []
    },
    {
      "cell_type": "code",
      "source": [
        "print('OPERAÇÕES')\n",
        "n1 = int(input('Digite um número qualquer:'))\n",
        "n2 = int(input('Digite outro número: '))\n",
        "\n",
        "print('A soma entre {} e {} é {}.'.format(n1, n2, n1+n2))\n",
        "print('A subtração entre {} e {} é {}.'.format(n1, n2, n1-n2))\n",
        "print('A multiplicação entre {} e {} é {}.'.format(n1, n2, n1*n2))\n",
        "print('A divisão entre {} e {} é {:.3f}.'.format(n1, n2, n1/n2), end=' ') # end para continuar na mesma linha e \\n para quebrar linha\n",
        "print('E a divisão inteira entre {} e {} é {}.'.format(n1, n2, n1//n2))\n",
        "print('O resto entre {} e {} é {}.'.format(n1, n2, n1%n2))\n",
        "print('A potência do resultado da soma entre {} e {} é {}.'.format(n1, n2, ((n1+n2)**(1/2))))"
      ],
      "metadata": {
        "id": "hRhbIJ4z-Hb_"
      },
      "execution_count": null,
      "outputs": []
    },
    {
      "cell_type": "markdown",
      "source": [
        "**005 - Faça um programa que leia um número inteiro e mostre na tela o seu sucessor e antecessor.**"
      ],
      "metadata": {
        "id": "WMFN3GHHRGKT"
      }
    },
    {
      "cell_type": "code",
      "source": [
        "n = int(input('Digite um número: '))\n",
        "print('Ah,legal. O número que você digitou foi o {}.'.format(n))\n",
        "print('O número antecessor do {} é o {} e o sucessor é {}.'.format(n,n-1,n+1))"
      ],
      "metadata": {
        "id": "iJC-jyOFgD8o"
      },
      "execution_count": null,
      "outputs": []
    },
    {
      "cell_type": "markdown",
      "source": [
        "**006 - Crie um algorítmo que leia um número e mostre seu dobro, triplo e raiz quadrada.**"
      ],
      "metadata": {
        "id": "QGmin6vARghT"
      }
    },
    {
      "cell_type": "code",
      "source": [
        "n = int(input('Informe um número: '))\n",
        "print('Ok. O dobro de {} é {}.'.format(n,n*2))\n",
        "print('E o triplo de {} é {}.'.format(n,n*3))\n",
        "print('Além disso, a raiz quadrada de {} é igual a {:.3f}.'.format(n, n**(1/2)))"
      ],
      "metadata": {
        "id": "jL3dUYD6hv2I"
      },
      "execution_count": null,
      "outputs": []
    },
    {
      "cell_type": "markdown",
      "source": [
        "**007 - Desenvolva um programa que leia as notas dos dois semestres do aluno e calcule a sua média.**"
      ],
      "metadata": {
        "id": "PqKPpgcsRozh"
      }
    },
    {
      "cell_type": "code",
      "source": [
        "print('='*70)\n",
        "print('Welcome!')\n",
        "n1 = float(input('Por favor, digite o valor da nota do primeiro semestre: '))\n",
        "(print('Legal'))\n",
        "n2 = float(input('Agora digite o valor da nota do segundo semestre: '))\n",
        "(print('Bacana'))\n",
        "print('A sua média para aprovação ou reprovação é {}.'.format((n1+n2)/2))\n",
        "print('Agora, se você vai ser aprovado ou reprovado aí já é assunto pra outra aula!')\n",
        "print('='*70)"
      ],
      "metadata": {
        "id": "Br4Cso7tpW5o"
      },
      "execution_count": null,
      "outputs": []
    },
    {
      "cell_type": "markdown",
      "source": [
        "**008 - Escreva um programa que leia o valor em metros e o exiba convertido em centímetros e milímetros.**"
      ],
      "metadata": {
        "id": "dJbqG2wUSF5k"
      }
    },
    {
      "cell_type": "code",
      "source": [
        "print('='*70)\n",
        "med = float(input('Digite o valor em m²: '))\n",
        "print('O valor é {:.2f} cm².'.format(med*100))\n",
        "print('O valor é {:.2f} mm².'.format(med*1000))\n",
        "print('='*70)"
      ],
      "metadata": {
        "id": "0Iq1hZz9y2C0"
      },
      "execution_count": null,
      "outputs": []
    },
    {
      "cell_type": "markdown",
      "source": [
        "**009 - Faça um programa que leia um número inteiro qualquer e mostre na tela a sua tabuada.**"
      ],
      "metadata": {
        "id": "P_6yXIPbSZ7H"
      }
    },
    {
      "cell_type": "code",
      "source": [
        "n = int(input('Favor, digite um número inteiro qualquer para saber a sua tabuada: '))\n",
        "print('A tabuada de {} é: '.format(n))\n",
        "print('_'*40)\n",
        "print(n, '+ 1 = ', (n+1))\n",
        "print(n, '+ 2 = ', (n+2))\n",
        "print(n, '+ 3 = ', (n+3))\n",
        "print(n, '+ 4 = ', (n+4))\n",
        "print(n, '+ 5 = ', (n+5))\n",
        "print(n, '+ 6 = ', (n+6))\n",
        "print(n, '+ 7 = ', (n+7))\n",
        "print(n, '+ 8 = ', (n+8))\n",
        "print(n, '+ 9 = ', (n+9))\n",
        "\n",
        "print('_'*40)\n",
        "\n"
      ],
      "metadata": {
        "id": "hYj9Rwm-yCyq"
      },
      "execution_count": null,
      "outputs": []
    },
    {
      "cell_type": "markdown",
      "source": [
        "**010 - Crie um programa que leia quanto dinheiro uma pessoa tem na carteira e mostre quantos dólares ela pode comprar. O valor do dólar é de $6,10 na cotação atual.**"
      ],
      "metadata": {
        "id": "u-VEvnAISuXG"
      }
    },
    {
      "cell_type": "code",
      "source": [
        "print('-'*5, 'CASA DE CAMBIO KADETT MELO')\n",
        "r = float(input('Informe o valor que deseja converter: ' ))\n",
        "print('Com esta quantidade de dinheiro você pode comprar {:.2f} dólares.'.format(r/6.10))\n"
      ],
      "metadata": {
        "id": "zbZ3u7PWVW8n"
      },
      "execution_count": null,
      "outputs": []
    },
    {
      "cell_type": "markdown",
      "source": [
        "**011 - Faça um programa que leia a largura e altura de uma parede em metros. Calcule a sua área e a quantidade de tinta necessária para pintá-la, sabendo que cada litro de tinta pinta uma área de 2m².**"
      ],
      "metadata": {
        "id": "HJ1aWtWmVgau"
      }
    },
    {
      "cell_type": "code",
      "source": [
        "altura = float(input('Olá, por favor, informe a altura da parede: '))\n",
        "largura = float(input('Favor, informe a largura da parede: '))\n",
        "area = (altura * largura)\n",
        "print('A área total dessa parede é {}.'.format(area))\n",
        "if area <= 2:\n",
        "    print('Para esta quantidade de área você consumirá uma lata de tinta.')\n",
        "else:\n",
        "    print('Serão necessárias mais de uma lata de tinta.')"
      ],
      "metadata": {
        "id": "tsDCMqCGs76u"
      },
      "execution_count": null,
      "outputs": []
    },
    {
      "cell_type": "markdown",
      "source": [
        "**012 - Faça o algorítmo que leia o preço de um produto e mostre seu novo preço com 5% de desconto.**"
      ],
      "metadata": {
        "id": "X2EuJUZBZb6Z"
      }
    },
    {
      "cell_type": "code",
      "source": [
        "p = float(input('Favor digite o preço do produto: '))\n",
        "print('O valor com 5% de desconto é: R$ {:.2f}.'.format(p - (p*0.05)))"
      ],
      "metadata": {
        "id": "50fnRd215o3W"
      },
      "execution_count": null,
      "outputs": []
    },
    {
      "cell_type": "markdown",
      "source": [
        "**013 - Faça um algorítmo que leia o salário de um funcionário e mostre seu novo salário com 15% de aumento.**"
      ],
      "metadata": {
        "id": "4KYkqI_hZu5w"
      }
    },
    {
      "cell_type": "code",
      "source": [
        "sal = float(input('Favor, informe na tela o salário do funcionário: '))\n",
        "print('O novo salário com um reajuste de 15% será de: R$ {:.3f}.'.format(sal + (sal*0.15)))"
      ],
      "metadata": {
        "id": "VW63LXI-7qiM"
      },
      "execution_count": null,
      "outputs": []
    },
    {
      "cell_type": "markdown",
      "source": [
        "**014 - Escreva um programa que converta uma temperatura digitando em graus Celsius e converta para graus Fahrenheit.**"
      ],
      "metadata": {
        "id": "cRXQ28L1aWRG"
      }
    },
    {
      "cell_type": "code",
      "source": [
        "t = float(input('Favor, digitar a temperatura em graus C: '))\n",
        "conv = ((9*t)/5)+32\n",
        "print('A temperatura de {}C corresponde a {}F.'.format(t, conv))"
      ],
      "metadata": {
        "id": "nuWKTyf0-dTU"
      },
      "execution_count": null,
      "outputs": []
    },
    {
      "cell_type": "markdown",
      "source": [
        "**015 - Escreva um programa que pergunte a quantidade de Km percorridos por um carro alugado e a quantidade de dias pelos quais ele foi alugado. Calcule o preço a pagar, sabendo que o carro custa 60/dia e 0,15 por Km rodado.**"
      ],
      "metadata": {
        "id": "Jp4J9hcxagRs"
      }
    },
    {
      "cell_type": "code",
      "source": [
        "kmi = float(input('Digite o KM inicial: '))\n",
        "kmf = float(input('Digite o KM final: '))\n",
        "dias = int(input('Quantos dias permaneceu com o veículo? '))\n",
        "diariapaga = (dias*60)\n",
        "kmpago = (kmf-kmi) * 0.15\n",
        "print('O valor a ser pago pelas diárias é de {}.'.format(diariapaga))\n",
        "print('O valor a ser pago pelo KM rodado é {}.'.format((kmpago)))\n",
        "print('O total dessa brincadeira é {}.'.format(diariapaga+kmpago))"
      ],
      "metadata": {
        "id": "Oxgv2CBOGNbZ"
      },
      "execution_count": null,
      "outputs": []
    },
    {
      "cell_type": "code",
      "source": [],
      "metadata": {
        "id": "OcAdlkWjFc2Y"
      },
      "execution_count": null,
      "outputs": []
    }
  ]
}