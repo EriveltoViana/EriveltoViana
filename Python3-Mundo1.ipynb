{
  "nbformat": 4,
  "nbformat_minor": 0,
  "metadata": {
    "colab": {
      "provenance": [],
      "authorship_tag": "ABX9TyNEGFXX/4JmJ4seb/2etdvz",
      "include_colab_link": true
    },
    "kernelspec": {
      "name": "python3",
      "display_name": "Python 3"
    },
    "language_info": {
      "name": "python"
    }
  },
  "cells": [
    {
      "cell_type": "markdown",
      "metadata": {
        "id": "view-in-github",
        "colab_type": "text"
      },
      "source": [
        "<a href=\"https://colab.research.google.com/github/EriveltoViana/EriveltoViana/blob/main/Python3-Mundo1.ipynb\" target=\"_parent\"><img src=\"https://colab.research.google.com/assets/colab-badge.svg\" alt=\"Open In Colab\"/></a>"
      ]
    },
    {
      "cell_type": "markdown",
      "source": [
        "**001 - Crie um programa que escreva 'Olá, mundo!' na tela.**"
      ],
      "metadata": {
        "id": "nwzdfV5zGtc5"
      }
    },
    {
      "cell_type": "code",
      "source": [
        "'Olá, mundo!'"
      ],
      "metadata": {
        "id": "cV7OZzrpIdIE"
      },
      "execution_count": null,
      "outputs": []
    },
    {
      "cell_type": "code",
      "source": [
        "msg = 'Olá, mundo!'\n",
        "print(msg)"
      ],
      "metadata": {
        "id": "0umasqSjIgrg"
      },
      "execution_count": null,
      "outputs": []
    },
    {
      "cell_type": "code",
      "source": [
        "print('Olá, mundo!')"
      ],
      "metadata": {
        "id": "J8vbUSVUWw_w"
      },
      "execution_count": null,
      "outputs": []
    },
    {
      "cell_type": "markdown",
      "source": [
        "**002 - Respondendo ao usuário. Faça um programa que leia o nome de uma pessoa e mostre uma mensagem de boas vidas.**"
      ],
      "metadata": {
        "id": "MN49l6S_Jdi5"
      }
    },
    {
      "cell_type": "code",
      "source": [
        "print('Digite o seu nome:')\n",
        "nome = input();\n",
        "print('Seja bem vindo(a), ' + nome + \"!\")"
      ],
      "metadata": {
        "id": "CC7O6TiyW8zC"
      },
      "execution_count": null,
      "outputs": []
    },
    {
      "cell_type": "code",
      "source": [
        "print('Digite o seu nome:')\n",
        "nome = input();\n",
        "print('Seja bem vindo(a),', nome, '!')"
      ],
      "metadata": {
        "id": "_5_owKA3M_JY"
      },
      "execution_count": null,
      "outputs": []
    },
    {
      "cell_type": "code",
      "source": [
        "nome = input('Digite o seu nome:')\n",
        "print('Seja bem vindo(a), {}!'.format(nome))"
      ],
      "metadata": {
        "id": "ImuzNhEXJws5"
      },
      "execution_count": null,
      "outputs": []
    },
    {
      "cell_type": "markdown",
      "source": [
        "**003 - Faça um programa que leia dois números e mostre a soma entre eles.**"
      ],
      "metadata": {
        "id": "grLNI5twXDcV"
      }
    },
    {
      "cell_type": "code",
      "source": [
        "n1 = int(input('Digite um número:'))\n",
        "n2 = int(input('Digite outro número:'))\n",
        "s = n1 + n2\n",
        "print('A soma entre {} e {} é igual a {}!'.format(n1, n2, s))"
      ],
      "metadata": {
        "id": "6BB2vt-5LXCR"
      },
      "execution_count": null,
      "outputs": []
    },
    {
      "cell_type": "code",
      "source": [
        "n1 = int(input('Digite um número:'))\n",
        "n2 = int(input('Digite outro número:'))\n",
        "print('A soma entre {} e {} é igual a {}!'.format(n1, n2, n1+n2))"
      ],
      "metadata": {
        "id": "unBsZKUn_49I"
      },
      "execution_count": null,
      "outputs": []
    },
    {
      "cell_type": "code",
      "source": [
        "print(type(s))\n",
        "print(float(s))\n",
        "print(str(s)+'vergonha')\n",
        "print(bool(s))"
      ],
      "metadata": {
        "id": "t_ewInG2XJeQ"
      },
      "execution_count": null,
      "outputs": []
    },
    {
      "cell_type": "markdown",
      "source": [
        "**004 - Faça um programa que leia algo pelo teclado e mostre na tela o seu tipo primitivo e todas as informações sobre ela.**"
      ],
      "metadata": {
        "id": "BkTJHqL2jTHu"
      }
    },
    {
      "cell_type": "code",
      "source": [
        "n = input('Digite algo: ')\n",
        "print(n)\n",
        "print(n.isnumeric()) #NUMÉRICO\n",
        "print(n.isalpha()) #ALFABÉTICO\n",
        "print(n.isalnum()) #ALFABÉTICO E NUMÉRICO\n",
        "print(n.isupper()) #MAIÚSCULO\n",
        "print(n.islower()) #MINÚSCULO\n",
        "print(n.istitle()) #CAPITALIZADO\n"
      ],
      "metadata": {
        "id": "TtH0on7-Znkg"
      },
      "execution_count": null,
      "outputs": []
    },
    {
      "cell_type": "markdown",
      "source": [
        "**OPERADORES ARITMÉTICOS - ORDEM DE PRECEDÊNCIA**\n",
        "\n",
        "1     ( )\n",
        "\n",
        "---\n",
        "\n",
        "\n",
        "2     **\n",
        "\n",
        "---\n",
        "\n",
        "\n",
        "3     * / // %\n",
        "\n",
        "---\n",
        "\n",
        "\n",
        "4     + -\n",
        "\n",
        "---\n",
        "\n",
        "obs: Calcular a raiz quadrada de um número é o mesmo que calcular sua a potência por 1/2. Ex: (81**(1/2))"
      ],
      "metadata": {
        "id": "OSyJpM9UzhFY"
      }
    },
    {
      "cell_type": "code",
      "source": [
        "81**(1/2) #RAIZ QUADRADA"
      ],
      "metadata": {
        "id": "WmXlyOG7g2T-"
      },
      "execution_count": null,
      "outputs": []
    },
    {
      "cell_type": "code",
      "source": [
        "25**(1/2) #RAIZ QUADRADA"
      ],
      "metadata": {
        "id": "sORvxb7f4J86"
      },
      "execution_count": null,
      "outputs": []
    },
    {
      "cell_type": "code",
      "source": [
        "900**(1/3) #RAIZ CÚBICA"
      ],
      "metadata": {
        "id": "nmVp2fXR6eG-"
      },
      "execution_count": null,
      "outputs": []
    },
    {
      "cell_type": "markdown",
      "source": [
        "**Também é possível utilizar os operadores aritméticos com strings!**"
      ],
      "metadata": {
        "id": "I68jxLZ67mDa"
      }
    },
    {
      "cell_type": "code",
      "source": [
        "'Oi' + ' Abestado'"
      ],
      "metadata": {
        "id": "nYDPfRHl6hGW"
      },
      "execution_count": null,
      "outputs": []
    },
    {
      "cell_type": "code",
      "source": [
        "'=' * 20"
      ],
      "metadata": {
        "id": "wpP6rZq67v3A"
      },
      "execution_count": null,
      "outputs": []
    },
    {
      "cell_type": "code",
      "source": [
        "#OBSERVE DENTRO DA MÁSCARA DO PRINT OS SINAIS QUE MUDAM.\n",
        "nome = str(input('Digite um nome: '))\n",
        "print('Prazer em te conhecer {:>21}!'.format(nome)) #21 ESPAÇOS A ESQUERDA\n",
        "\n",
        "nome = str(input('Digite um nome: '))\n",
        "print('Prazer em te conhecer {:<21}!'.format(nome)) #21 ESPAÇOS A DIREITA\n",
        "\n",
        "nome = str(input('Digite um nome: '))\n",
        "print('Prazer em te conhecer {:^21}!'.format(nome)) #CENTRALIZADO\n",
        "\n",
        "nome = str(input('Digite um nome: '))\n",
        "print('Prazer em te conhecer {:.^21}!'.format(nome)) #CENTRALIZADO COM PONTOS"
      ],
      "metadata": {
        "id": "cDQfDIlB8CqA"
      },
      "execution_count": null,
      "outputs": []
    },
    {
      "cell_type": "code",
      "source": [
        "print('OPERAÇÕES')\n",
        "n1 = int(input('Digite um número qualquer:'))\n",
        "n2 = int(input('Digite outro número: '))\n",
        "\n",
        "print('A soma entre {} e {} é {}.'.format(n1, n2, n1+n2))\n",
        "print('A subtração entre {} e {} é {}.'.format(n1, n2, n1-n2))\n",
        "print('A multiplicação entre {} e {} é {}.'.format(n1, n2, n1*n2))\n",
        "print('A divisão entre {} e {} é {:.3f}.'.format(n1, n2, n1/n2), end=' ') # end para continuar na mesma linha e \\n para quebrar linha\n",
        "print('E a divisão inteira entre {} e {} é {}.'.format(n1, n2, n1//n2))\n",
        "print('O resto entre {} e {} é {}.'.format(n1, n2, n1%n2))\n",
        "print('A potência do resultado da soma entre {} e {} é {}.'.format(n1, n2, ((n1+n2)**(1/2))))"
      ],
      "metadata": {
        "id": "hRhbIJ4z-Hb_"
      },
      "execution_count": null,
      "outputs": []
    },
    {
      "cell_type": "markdown",
      "source": [
        "**005 - Faça um programa que leia um número inteiro e mostre na tela o seu sucessor e antecessor.**"
      ],
      "metadata": {
        "id": "WMFN3GHHRGKT"
      }
    },
    {
      "cell_type": "code",
      "source": [
        "n = int(input('Digite um número: '))\n",
        "print('Ah,legal. O número que você digitou foi o {}.'.format(n))\n",
        "print('O número antecessor do {} é o {} e o sucessor é {}.'.format(n,n-1,n+1))"
      ],
      "metadata": {
        "id": "iJC-jyOFgD8o"
      },
      "execution_count": null,
      "outputs": []
    },
    {
      "cell_type": "code",
      "source": [
        "n = int(input('Digite um número: '))\n",
        "a = n-1\n",
        "s = n+1\n",
        "print('O número antecessor é {} e o sucessor é {}.'.format(a,s))"
      ],
      "metadata": {
        "id": "cWVMFjQL1pxw"
      },
      "execution_count": null,
      "outputs": []
    },
    {
      "cell_type": "markdown",
      "source": [
        "**006 - Crie um algorítmo que leia um número e mostre seu dobro, triplo e raiz quadrada.**"
      ],
      "metadata": {
        "id": "QGmin6vARghT"
      }
    },
    {
      "cell_type": "code",
      "source": [
        "n = int(input('Informe um número: '))\n",
        "print('Ok. O dobro de {} é {}.'.format(n,n*2))\n",
        "print('E o triplo de {} é {}.'.format(n,n*3))\n",
        "print('Além disso, a raiz quadrada de {} é igual a {:.2f}.'.format(n, n**(1/2)))"
      ],
      "metadata": {
        "id": "jL3dUYD6hv2I"
      },
      "execution_count": null,
      "outputs": []
    },
    {
      "cell_type": "markdown",
      "source": [
        "**007 - Desenvolva um programa que leia as notas dos dois semestres do aluno e calcule a sua média.**"
      ],
      "metadata": {
        "id": "PqKPpgcsRozh"
      }
    },
    {
      "cell_type": "code",
      "source": [
        "print('='*70)\n",
        "print('Welcome!')\n",
        "n1 = float(input('Por favor, digite o valor da nota do primeiro semestre: '))\n",
        "(print('Legal'))\n",
        "n2 = float(input('Agora digite o valor da nota do segundo semestre: '))\n",
        "(print('Bacana'))\n",
        "print('A sua média para aprovação ou reprovação é {}.'.format((n1+n2)/2))\n",
        "print('Agora, se você vai ser aprovado ou reprovado aí já é assunto pra outra aula!')\n",
        "print('='*70)"
      ],
      "metadata": {
        "id": "Br4Cso7tpW5o"
      },
      "execution_count": null,
      "outputs": []
    },
    {
      "cell_type": "code",
      "source": [
        "n1 = float(input('Digite a primeira nota: '))\n",
        "n2 = float(input('Digite a segunda nota: '))\n",
        "media = (n1 + n2) / 2\n",
        "print('A sua média é: {:.1f}.'.format(media))"
      ],
      "metadata": {
        "id": "nbTp91rI52bO"
      },
      "execution_count": null,
      "outputs": []
    },
    {
      "cell_type": "markdown",
      "source": [
        "**008 - Escreva um programa que leia o valor em metros e o exiba convertido em centímetros e milímetros.**"
      ],
      "metadata": {
        "id": "dJbqG2wUSF5k"
      }
    },
    {
      "cell_type": "code",
      "source": [
        "print('='*70)\n",
        "med = float(input('Digite o valor em m²: '))\n",
        "print('O valor é {:.2f} cm².'.format(med*100))\n",
        "print('O valor é {:.2f} mm².'.format(med*1000))\n",
        "print('='*70)"
      ],
      "metadata": {
        "id": "0Iq1hZz9y2C0"
      },
      "execution_count": null,
      "outputs": []
    },
    {
      "cell_type": "markdown",
      "source": [
        "**009 - Faça um programa que leia um número inteiro qualquer e mostre na tela a sua tabuada.**"
      ],
      "metadata": {
        "id": "P_6yXIPbSZ7H"
      }
    },
    {
      "cell_type": "code",
      "source": [
        "n = int(input('Favor, digite um número inteiro qualquer para saber a sua tabuada: '))\n",
        "print('A tabuada de {} é: '.format(n))\n",
        "print('_'*20)\n",
        "print(n, '+ 1 = ', (n+1))\n",
        "print(n, '+ 2 = ', (n+2))\n",
        "print(n, '+ 3 = ', (n+3))\n",
        "print(n, '+ 4 = ', (n+4))\n",
        "print(n, '+ 5 = ', (n+5))\n",
        "print(n, '+ 6 = ', (n+6))\n",
        "print(n, '+ 7 = ', (n+7))\n",
        "print(n, '+ 8 = ', (n+8))\n",
        "print(n, '+ 9 = ', (n+9))\n",
        "\n",
        "print('_'*20)"
      ],
      "metadata": {
        "id": "hYj9Rwm-yCyq"
      },
      "execution_count": null,
      "outputs": []
    },
    {
      "cell_type": "code",
      "source": [
        "num = int(input('Digite um número inteiro para saber a sua tabuada: '))\n",
        "print('{:2} x {:2} = {}'.format(num, 1, num*1))\n",
        "print('{:2} x {:2} = {}'.format(num, 2, num*2))\n",
        "print('{:2} x {:2} = {}'.format(num, 3, num*3))\n",
        "print('{:2} x {:2} = {}'.format(num, 4, num*4))\n",
        "print('{:2} x {:2} = {}'.format(num, 5, num*5))\n",
        "print('{:2} x {:2} = {}'.format(num, 6, num*6))\n",
        "print('{:2} x {:2} = {}'.format(num, 7, num*7))\n",
        "print('{:2} x {:2} = {}'.format(num, 8, num*8))\n",
        "print('{:2} x {:2} = {}'.format(num, 9, num*9))\n",
        "print('{:2} x {:2} = {}'.format(num, 10, num*10))"
      ],
      "metadata": {
        "id": "vEyZPZcv9pum"
      },
      "execution_count": null,
      "outputs": []
    },
    {
      "cell_type": "markdown",
      "source": [
        "**010 - Crie um programa que leia quanto dinheiro uma pessoa tem na carteira e mostre quantos dólares ela pode comprar. O valor do dólar é de $6,10 na cotação atual.**"
      ],
      "metadata": {
        "id": "u-VEvnAISuXG"
      }
    },
    {
      "cell_type": "code",
      "source": [
        "print('-'*5, 'CASA DE CAMBIO KADETT MELO')\n",
        "r = float(input('Informe o valor que deseja converter: ' ))\n",
        "print('Com esta quantidade de dinheiro você pode comprar {:.2f} dólares.'.format(r/6.10))"
      ],
      "metadata": {
        "id": "zbZ3u7PWVW8n"
      },
      "execution_count": null,
      "outputs": []
    },
    {
      "cell_type": "markdown",
      "source": [
        "**011 - Faça um programa que leia a largura e altura de uma parede em metros. Calcule a sua área e a quantidade de tinta necessária para pintá-la, sabendo que cada litro de tinta pinta uma área de 2m².**"
      ],
      "metadata": {
        "id": "HJ1aWtWmVgau"
      }
    },
    {
      "cell_type": "code",
      "source": [
        "altura = float(input('Olá, por favor, informe a altura da parede: '))\n",
        "largura = float(input('Favor, informe a largura da parede: '))\n",
        "area = (altura * largura)\n",
        "tinta = area / 2\n",
        "if area < 2:\n",
        "  print('A área total dessa parede é de {}m². Você precisará de apenas uma lata de tinta'.format(area))\n",
        "else:\n",
        "  print('A área total dessa parede é de {}m². \\nVocê precisará de {} litros de tinta'.format(area, tinta))"
      ],
      "metadata": {
        "id": "tsDCMqCGs76u"
      },
      "execution_count": null,
      "outputs": []
    },
    {
      "cell_type": "markdown",
      "source": [
        "**012 - Faça o algorítmo que leia o preço de um produto e mostre seu novo preço com 5% de desconto.**"
      ],
      "metadata": {
        "id": "X2EuJUZBZb6Z"
      }
    },
    {
      "cell_type": "code",
      "source": [
        "p = float(input('Favor digite o preço do produto: '))\n",
        "print('O valor com 5% de desconto é: R$ {:.2f}.'.format(p - (p*0.05)))"
      ],
      "metadata": {
        "id": "50fnRd215o3W"
      },
      "execution_count": null,
      "outputs": []
    },
    {
      "cell_type": "code",
      "source": [
        "p = float(input('Informe o salário: R$'))\n",
        "print('O valor do salário com 5% de desconto corresponde a R${:.2f}.'.format(p-(p*5/100)))"
      ],
      "metadata": {
        "id": "JgnyMCiSc5Af"
      },
      "execution_count": null,
      "outputs": []
    },
    {
      "cell_type": "markdown",
      "source": [
        "**013 - Faça um algorítmo que leia o salário de um funcionário e mostre seu novo salário com 15% de aumento.**"
      ],
      "metadata": {
        "id": "4KYkqI_hZu5w"
      }
    },
    {
      "cell_type": "code",
      "source": [
        "sal = float(input('Favor, informe na tela o salário do funcionário: '))\n",
        "print('O novo salário com um reajuste de 15% será de: R$ {:.3f}.'.format(sal + (sal*0.15)))"
      ],
      "metadata": {
        "id": "VW63LXI-7qiM"
      },
      "execution_count": null,
      "outputs": []
    },
    {
      "cell_type": "markdown",
      "source": [
        "**014 - Escreva um programa que converta uma temperatura digitando em graus Celsius e converta para graus Fahrenheit.**"
      ],
      "metadata": {
        "id": "cRXQ28L1aWRG"
      }
    },
    {
      "cell_type": "code",
      "source": [
        "t = float(input('Favor, digitar a temperatura em graus C: '))\n",
        "conv = ((9*t)/5)+32\n",
        "print('A temperatura de {}C corresponde a {}F.'.format(t, conv))"
      ],
      "metadata": {
        "id": "nuWKTyf0-dTU"
      },
      "execution_count": null,
      "outputs": []
    },
    {
      "cell_type": "markdown",
      "source": [
        "**015 - Escreva um programa que pergunte a quantidade de Km percorridos por um carro alugado e a quantidade de dias pelos quais ele foi alugado. Calcule o preço a pagar, sabendo que o carro custa 60/dia e 0,15 por Km rodado.**"
      ],
      "metadata": {
        "id": "Jp4J9hcxagRs"
      }
    },
    {
      "cell_type": "code",
      "source": [
        "kmi = float(input('Digite o KM inicial: '))\n",
        "kmf = float(input('Digite o KM final: '))\n",
        "dias = int(input('Quantos dias permaneceu com o veículo? '))\n",
        "diariapaga = (dias*60)\n",
        "kmpago = (kmf-kmi) * 0.15\n",
        "print('O valor a ser pago pelas diárias é de {}.'.format(diariapaga))\n",
        "print('O valor a ser pago pelo KM rodado é {}.'.format((kmpago)))\n",
        "print('O total dessa brincadeira é {}.'.format(diariapaga+kmpago))"
      ],
      "metadata": {
        "id": "Oxgv2CBOGNbZ"
      },
      "execution_count": null,
      "outputs": []
    },
    {
      "cell_type": "markdown",
      "source": [
        "**USANDO MÓDULOS EM PYTHON**\n",
        "\n",
        "---\n",
        "\n",
        "\n",
        "Ex:\n",
        "import math (Importar toda a biblioteca math) OU\n",
        "from math import sqrt (Importar apenas a função raiz quadrada da biblioteca math. Se eu tiver que importar mais de uma é possível apenas colocando uma vírgula após a função chamada. Ex: from math import sqrt, ceil)\n",
        "\n",
        "Aproveitando o exemplo:\n",
        "  - Biblioteca math (matemática)\n",
        "    - ceil (arredondamento para cima)\n",
        "    - floor (arredondamento para baixo)\n",
        "    - trunc (truncar um número após o ponto flutuante)\n",
        "    - pow (potência)\n",
        "    - sqrt (raiz quadrada)\n",
        "    - factorial (fatorial)"
      ],
      "metadata": {
        "id": "2GYAs0_TpYUU"
      }
    },
    {
      "cell_type": "code",
      "source": [
        "!python --version\n",
        "\n",
        "# Cod para ver a versão do Python no Colab."
      ],
      "metadata": {
        "id": "uGmSSeinVAB5"
      },
      "execution_count": null,
      "outputs": []
    },
    {
      "cell_type": "code",
      "source": [
        "import random\n",
        "num = random.random()\n",
        "print(num)\n",
        "\n",
        "#método random da classe random gera um número entre 0 e 1"
      ],
      "metadata": {
        "id": "xyuy2JWTCqSx"
      },
      "execution_count": null,
      "outputs": []
    },
    {
      "cell_type": "code",
      "source": [
        "import random\n",
        "num = random.randint(1,200)\n",
        "print(num)"
      ],
      "metadata": {
        "id": "fOC8O0oTCwOp"
      },
      "execution_count": null,
      "outputs": []
    },
    {
      "cell_type": "code",
      "source": [
        "! python -m pip install emoji --upgrade\n",
        "\n",
        "#Instalação de pacotes via pip"
      ],
      "metadata": {
        "id": "--59bYrxU3X-"
      },
      "execution_count": null,
      "outputs": []
    },
    {
      "cell_type": "code",
      "source": [
        "import emoji\n",
        "print(emoji.emojize(\"Python é :pulgar_hacia_arriba: legal\", language='es'))"
      ],
      "metadata": {
        "id": "XMHKzaEHDI74"
      },
      "execution_count": null,
      "outputs": []
    },
    {
      "cell_type": "markdown",
      "source": [
        "**016 - Crie um programa que leia um número Real qualquer pelo teclado e mostre na tela a sua porção inteira.**"
      ],
      "metadata": {
        "id": "fA6RbtW-bYa5"
      }
    },
    {
      "cell_type": "code",
      "source": [
        "from math import trunc\n",
        "num = float(input('Informe um número Real qualquer: '))\n",
        "print('A parte inteira deste número é: {}.'.format(trunc(num)))"
      ],
      "metadata": {
        "id": "hnQbJ4D4iB5A"
      },
      "execution_count": null,
      "outputs": []
    },
    {
      "cell_type": "markdown",
      "source": [
        "**017 - Faça um programa que leia o comprimento do cateto oposto e do cateto adjacente de um triângulo retângulo, calcule o mostre o comprimeiro da hipotenusa.**"
      ],
      "metadata": {
        "id": "pdtuMhehbfbM"
      }
    },
    {
      "cell_type": "code",
      "source": [
        "# Cálculo da hipotenusa através da solução matemática.\n",
        "co = float(input('Informe o valor do Cateto Oposto: '))\n",
        "ca = float(input('Informe o valor do Cateto Adjacente: '))\n",
        "h = (co ** 2 + ca ** 2) ** (1/2)\n",
        "print('A hipotenusa é igual a: {:.2f}.'.format(h))"
      ],
      "metadata": {
        "id": "wuj--CYNjIVN"
      },
      "execution_count": null,
      "outputs": []
    },
    {
      "cell_type": "code",
      "source": [
        "# Cálculo da hipotenusa através do módulo em Python.\n",
        "import math\n",
        "co = float(input('Informe o valor do Cateto Oposto: '))\n",
        "ca = float(input('Informe o valor do Cateto Adjacente: '))\n",
        "h = math.hypot(co, ca)\n",
        "print('A hipotenusa é igual a: {:.2f}.'.format(h))"
      ],
      "metadata": {
        "id": "QILrQWaDuQwn"
      },
      "execution_count": null,
      "outputs": []
    },
    {
      "cell_type": "markdown",
      "source": [
        "**018 - Faça um programa que leia um ângulo qualquer e mostre na tela o valor do seno, cosseno e tangente desse ângulo.**"
      ],
      "metadata": {
        "id": "_66n6qbZbfyl"
      }
    },
    {
      "cell_type": "code",
      "source": [
        "# Seno = Cateto Oposto / Hipotenusa\n",
        "# Cosseno = Cateto Adjacente / Hipotenusa\n",
        "# Tangente = Cateto Oposto / Cateto Adjacente\n",
        "\n",
        "import.math\n",
        "angulo = float(input('Informe um ângulo qualquer: '))\n",
        "sen =\n",
        "cos =\n",
        "tan =\n",
        "print('O Seno do ângulo é {:.2f}, o Cosseno é {:.2f} e a Tangente é {:.2f}.'.format(sen, cos, tan))"
      ],
      "metadata": {
        "id": "qfLZp0JhzrbE"
      },
      "execution_count": null,
      "outputs": []
    },
    {
      "cell_type": "markdown",
      "source": [
        "**019 - Um professor quer sortear um dos seus quatro alunos para apagar o quadro. Faça um programa que ajude ele, lendo o nome deles e escrevendo o nome do escolhido.**"
      ],
      "metadata": {
        "id": "6sceSDUdbgQE"
      }
    },
    {
      "cell_type": "markdown",
      "source": [
        "**020 - O mesmo professor do desafio anterior quer sortear a ordem de apresentação dos alunos. Faça um programa que leia o nome dos quatro alunos e mostre a sua ordem sorteada.**"
      ],
      "metadata": {
        "id": "X7_YMC5pc6-n"
      }
    },
    {
      "cell_type": "markdown",
      "source": [
        "**021 - Faça um programa em Python que abra e reproduza o áudio de um arquivo MP3.**"
      ],
      "metadata": {
        "id": "64joN7Zuc7Vz"
      }
    },
    {
      "cell_type": "code",
      "source": [
        "3.5*2"
      ],
      "metadata": {
        "id": "ofxyU95-baA7"
      },
      "execution_count": null,
      "outputs": []
    },
    {
      "cell_type": "code",
      "source": [
        "4.75 * 2"
      ],
      "metadata": {
        "id": "opJDTwyjnfMc"
      },
      "execution_count": null,
      "outputs": []
    },
    {
      "cell_type": "code",
      "source": [
        "9.5 + 7.0"
      ],
      "metadata": {
        "id": "S32L6BPsnyCp"
      },
      "execution_count": null,
      "outputs": []
    },
    {
      "cell_type": "code",
      "source": [],
      "metadata": {
        "id": "SKOWFQQtn4aK"
      },
      "execution_count": null,
      "outputs": []
    }
  ]
}