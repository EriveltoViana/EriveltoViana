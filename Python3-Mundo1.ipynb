{
  "nbformat": 4,
  "nbformat_minor": 0,
  "metadata": {
    "colab": {
      "provenance": [],
      "authorship_tag": "ABX9TyOjhqDKfZJxedEwo7X5hN5P",
      "include_colab_link": true
    },
    "kernelspec": {
      "name": "python3",
      "display_name": "Python 3"
    },
    "language_info": {
      "name": "python"
    }
  },
  "cells": [
    {
      "cell_type": "markdown",
      "metadata": {
        "id": "view-in-github",
        "colab_type": "text"
      },
      "source": [
        "<a href=\"https://colab.research.google.com/github/EriveltoViana/EriveltoViana/blob/main/Python3-Mundo1.ipynb\" target=\"_parent\"><img src=\"https://colab.research.google.com/assets/colab-badge.svg\" alt=\"Open In Colab\"/></a>"
      ]
    },
    {
      "cell_type": "markdown",
      "source": [
        "**001 - Crie um programa que escreva 'Olá, mundo!' na tela.**"
      ],
      "metadata": {
        "id": "nwzdfV5zGtc5"
      }
    },
    {
      "cell_type": "code",
      "source": [
        "'Olá, mundo!'"
      ],
      "metadata": {
        "id": "cV7OZzrpIdIE"
      },
      "execution_count": null,
      "outputs": []
    },
    {
      "cell_type": "code",
      "source": [
        "msg = 'Olá, mundo!'\n",
        "print(msg)"
      ],
      "metadata": {
        "id": "0umasqSjIgrg"
      },
      "execution_count": null,
      "outputs": []
    },
    {
      "cell_type": "code",
      "source": [
        "print('Olá, mundo!')"
      ],
      "metadata": {
        "id": "J8vbUSVUWw_w"
      },
      "execution_count": null,
      "outputs": []
    },
    {
      "cell_type": "markdown",
      "source": [
        "**002 - Respondendo ao usuário. Faça um programa que leia o nome de uma pessoa e mostre uma mensagem de boas vidas.**"
      ],
      "metadata": {
        "id": "MN49l6S_Jdi5"
      }
    },
    {
      "cell_type": "code",
      "source": [
        "print('Digite o seu nome:')\n",
        "nome = input();\n",
        "print('Seja bem vindo(a), ' + nome + \"!\")"
      ],
      "metadata": {
        "id": "CC7O6TiyW8zC"
      },
      "execution_count": null,
      "outputs": []
    },
    {
      "cell_type": "code",
      "source": [
        "print('Digite o seu nome:')\n",
        "nome = input();\n",
        "print('Seja bem vindo(a),', nome, '!')"
      ],
      "metadata": {
        "id": "_5_owKA3M_JY"
      },
      "execution_count": null,
      "outputs": []
    },
    {
      "cell_type": "code",
      "source": [
        "\n",
        "nome = input('Digite o seu nome:')\n",
        "print('Seja bem vindo(a), {}!'.format(nome))"
      ],
      "metadata": {
        "id": "ImuzNhEXJws5"
      },
      "execution_count": null,
      "outputs": []
    },
    {
      "cell_type": "markdown",
      "source": [
        "**003 - Faça um programa que leia dois números e mostre a soma entre eles.**"
      ],
      "metadata": {
        "id": "grLNI5twXDcV"
      }
    },
    {
      "cell_type": "code",
      "source": [
        "n1 = int(input('Digite um número:'))\n",
        "n2 = int(input('Digite outro número:'))\n",
        "s = n1 + n2\n",
        "print('A soma entre {} e {} é igual a {}!'.format(n1, n2, s))"
      ],
      "metadata": {
        "id": "6BB2vt-5LXCR"
      },
      "execution_count": null,
      "outputs": []
    },
    {
      "cell_type": "code",
      "source": [
        "print(type(s))\n",
        "print(float(s))\n",
        "print(str(s)+'vergonha')\n",
        "print(bool(s))"
      ],
      "metadata": {
        "id": "t_ewInG2XJeQ"
      },
      "execution_count": null,
      "outputs": []
    },
    {
      "cell_type": "markdown",
      "source": [
        "**004 - Faça um programa que leia algo pelo teclado e mostre na tela o seu tipo primitivo e todas as informações sobre ela.**"
      ],
      "metadata": {
        "id": "BkTJHqL2jTHu"
      }
    },
    {
      "cell_type": "code",
      "source": [
        "n = input('Digite algo: ')\n",
        "print(n)\n",
        "print(n.isnumeric()) #NUMÉRICO\n",
        "print(n.isalpha()) #ALFABÉTICO\n",
        "print(n.isalnum()) #ALFABÉTICO E NUMÉRICO\n",
        "print(n.isupper()) #MAIÚSCULO\n",
        "print(n.islower()) #MINÚSCULO\n",
        "print(n.istitle()) #CAPITALIZADO\n"
      ],
      "metadata": {
        "id": "TtH0on7-Znkg"
      },
      "execution_count": null,
      "outputs": []
    },
    {
      "cell_type": "code",
      "source": [],
      "metadata": {
        "id": "WmXlyOG7g2T-"
      },
      "execution_count": null,
      "outputs": []
    }
  ]
}