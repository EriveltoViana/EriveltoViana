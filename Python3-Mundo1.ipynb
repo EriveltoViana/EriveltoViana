{
  "nbformat": 4,
  "nbformat_minor": 0,
  "metadata": {
    "colab": {
      "provenance": [],
      "authorship_tag": "ABX9TyMWt/F7r2YaVUe1XZKHYcT0",
      "include_colab_link": true
    },
    "kernelspec": {
      "name": "python3",
      "display_name": "Python 3"
    },
    "language_info": {
      "name": "python"
    }
  },
  "cells": [
    {
      "cell_type": "markdown",
      "metadata": {
        "id": "view-in-github",
        "colab_type": "text"
      },
      "source": [
        "<a href=\"https://colab.research.google.com/github/EriveltoViana/EriveltoViana/blob/main/Python3-Mundo1.ipynb\" target=\"_parent\"><img src=\"https://colab.research.google.com/assets/colab-badge.svg\" alt=\"Open In Colab\"/></a>"
      ]
    },
    {
      "cell_type": "markdown",
      "source": [
        "001 - Crie um programa que escreva 'Olá, mundo!' na tela"
      ],
      "metadata": {
        "id": "nwzdfV5zGtc5"
      }
    },
    {
      "cell_type": "code",
      "source": [
        "\"Olá, mundo!\""
      ],
      "metadata": {
        "id": "cV7OZzrpIdIE",
        "outputId": "78da9d4b-1d11-401a-aaf3-16ba56a02168",
        "colab": {
          "base_uri": "https://localhost:8080/",
          "height": 36
        }
      },
      "execution_count": 5,
      "outputs": [
        {
          "output_type": "execute_result",
          "data": {
            "text/plain": [
              "'Olá, mundo!'"
            ],
            "application/vnd.google.colaboratory.intrinsic+json": {
              "type": "string"
            }
          },
          "metadata": {},
          "execution_count": 5
        }
      ]
    },
    {
      "cell_type": "code",
      "source": [
        "msg = \"Olá, mundo!\"\n",
        "print(msg)"
      ],
      "metadata": {
        "id": "0umasqSjIgrg",
        "outputId": "02d72a03-bec8-4349-f658-d8230f2dcf15",
        "colab": {
          "base_uri": "https://localhost:8080/"
        }
      },
      "execution_count": 8,
      "outputs": [
        {
          "output_type": "stream",
          "name": "stdout",
          "text": [
            "Olá, mundo!\n"
          ]
        }
      ]
    },
    {
      "cell_type": "code",
      "source": [
        "print(\"Olá, mundo!\")"
      ],
      "metadata": {
        "colab": {
          "base_uri": "https://localhost:8080/",
          "height": 53
        },
        "id": "J8vbUSVUWw_w",
        "outputId": "f7ffa144-1963-4c6e-8d3d-d4aa04cfb38d"
      },
      "execution_count": 4,
      "outputs": [
        {
          "output_type": "stream",
          "name": "stdout",
          "text": [
            "Olá, mundo!\n"
          ]
        },
        {
          "output_type": "execute_result",
          "data": {
            "text/plain": [
              "'Olá, mundo!'"
            ],
            "application/vnd.google.colaboratory.intrinsic+json": {
              "type": "string"
            }
          },
          "metadata": {},
          "execution_count": 4
        }
      ]
    },
    {
      "cell_type": "code",
      "source": [],
      "metadata": {
        "id": "CC7O6TiyW8zC"
      },
      "execution_count": null,
      "outputs": []
    }
  ]
}