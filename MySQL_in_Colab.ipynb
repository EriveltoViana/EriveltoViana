{
  "nbformat": 4,
  "nbformat_minor": 0,
  "metadata": {
    "colab": {
      "provenance": [],
      "authorship_tag": "ABX9TyOO+lbDle33hk9O91Hs/gYq",
      "include_colab_link": true
    },
    "kernelspec": {
      "name": "python3",
      "display_name": "Python 3"
    },
    "language_info": {
      "name": "python"
    }
  },
  "cells": [
    {
      "cell_type": "markdown",
      "metadata": {
        "id": "view-in-github",
        "colab_type": "text"
      },
      "source": [
        "<a href=\"https://colab.research.google.com/github/EriveltoViana/EriveltoViana/blob/main/MySQL_in_Colab.ipynb\" target=\"_parent\"><img src=\"https://colab.research.google.com/assets/colab-badge.svg\" alt=\"Open In Colab\"/></a>"
      ]
    },
    {
      "cell_type": "code",
      "execution_count": null,
      "metadata": {
        "id": "m8Zaj6AZPZWq"
      },
      "outputs": [],
      "source": [
        "#PRIMEIRO COMANDO PARA EXECUÇÃO DO MYSQL NO COLAB\n",
        "!apt update\n",
        "!apt install -y mysql-server mysql-client\n",
        "\n",
        "# SEGUNDO COMANDO\n",
        "!mkdir -p\n",
        "\n",
        "#TERCEIRO COMANDO\n",
        "!/etc/init.d/mysql start\n",
        "\n",
        "#QUARTO COMANDO\n",
        "!mysql -u root -p"
      ]
    }
  ]
}