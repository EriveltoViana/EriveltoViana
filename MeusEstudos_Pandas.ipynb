{
  "nbformat": 4,
  "nbformat_minor": 0,
  "metadata": {
    "colab": {
      "provenance": [],
      "authorship_tag": "ABX9TyMtaTPdJ02NDrK8BeOpaTLl",
      "include_colab_link": true
    },
    "kernelspec": {
      "name": "python3",
      "display_name": "Python 3"
    },
    "language_info": {
      "name": "python"
    }
  },
  "cells": [
    {
      "cell_type": "markdown",
      "metadata": {
        "id": "view-in-github",
        "colab_type": "text"
      },
      "source": [
        "<a href=\"https://colab.research.google.com/github/EriveltoViana/EriveltoViana/blob/main/MeusEstudos_Pandas.ipynb\" target=\"_parent\"><img src=\"https://colab.research.google.com/assets/colab-badge.svg\" alt=\"Open In Colab\"/></a>"
      ]
    },
    {
      "cell_type": "markdown",
      "source": [
        "**Instalação e importação**"
      ],
      "metadata": {
        "id": "o5a2qC64mP2I"
      }
    },
    {
      "cell_type": "code",
      "source": [
        "#pip install pandas (Instalação, exceto no Anaconda ou no Colab. Precisa no Jupiter)\n",
        "#import pandas as pd (Como chamar o pandas)"
      ],
      "metadata": {
        "id": "KitPxQMimo41"
      },
      "execution_count": null,
      "outputs": []
    },
    {
      "cell_type": "markdown",
      "source": [
        "**DataFrames e Series**"
      ],
      "metadata": {
        "id": "Vl7-sPfjmPsP"
      }
    },
    {
      "cell_type": "code",
      "source": [
        "#DataFrames\n",
        "dados = {\n",
        "    'Nome': ['Alice', 'Bob', 'Charlie', 'David'],\n",
        "    'Idade': [25, 30, 35, 40],\n",
        "}\n",
        "df = pd.DataFrame(dados)\n",
        "print(df)"
      ],
      "metadata": {
        "id": "nwE-NtzLmpTa"
      },
      "execution_count": null,
      "outputs": []
    },
    {
      "cell_type": "code",
      "source": [
        "#Series\n",
        "s = pd.Series([1, 2, 3, 4, 5])\n",
        "print(s)"
      ],
      "metadata": {
        "id": "SpfmEFSvnnT2"
      },
      "execution_count": null,
      "outputs": []
    },
    {
      "cell_type": "markdown",
      "source": [
        "**Lendo Tabelas - DISPLAY MOSTRA DE UM JEITO. PRINT MOSTRA DE OUTRO.**"
      ],
      "metadata": {
        "id": "GlxfMIysmPkG"
      }
    },
    {
      "cell_type": "code",
      "source": [
        "#PARA ARQUIVOS CSV\n",
        "from google.colab import files\n",
        "\n",
        "uploaded = files.upload()\n",
        "df = pd.read_csv('wine.csv')\n",
        "\n",
        "import csv\n",
        "with open('wine.csv', 'r') as arquivo_csv:\n",
        "    leitor_csv = csv.reader(arquivo_csv)\n",
        "    for linha in leitor_csv:\n",
        "        print(linha)"
      ],
      "metadata": {
        "id": "wDYtwdK9mpo-"
      },
      "execution_count": null,
      "outputs": []
    },
    {
      "cell_type": "code",
      "source": [
        "#PARA ARQUIVOS EXCEL\n",
        "from google.colab import files\n",
        "\n",
        "uploaded = files.upload()\n",
        "df = pd.read_excel('BD CURSOS-1.xlsx')\n",
        "print(df)"
      ],
      "metadata": {
        "id": "J9O9aD0msfVN"
      },
      "execution_count": null,
      "outputs": []
    },
    {
      "cell_type": "code",
      "source": [
        "!rm dataset.xlsx"
      ],
      "metadata": {
        "id": "naY8THocuVFD"
      },
      "execution_count": null,
      "outputs": []
    },
    {
      "cell_type": "code",
      "source": [
        "!ls"
      ],
      "metadata": {
        "id": "9kXYCDqXECh7"
      },
      "execution_count": null,
      "outputs": []
    },
    {
      "cell_type": "code",
      "source": [
        "#PARA ARQUIVOS EXCEL\n",
        "import pandas as pd\n",
        "from google.colab import files\n",
        "\n",
        "uploaded = files.upload()\n",
        "df = pd.read_excel('dataset.xlsx')\n",
        "#print(df)\n",
        "display(df)"
      ],
      "metadata": {
        "id": "v3MkmoysttCO"
      },
      "execution_count": null,
      "outputs": []
    },
    {
      "cell_type": "markdown",
      "source": [
        "**Manipulação básica de dados**"
      ],
      "metadata": {
        "id": "EH9IbkF5x7XR"
      }
    },
    {
      "cell_type": "code",
      "source": [
        "df.head() #PARA VISUALIZAR AS 5 PRIMEIRAS LINHAS"
      ],
      "metadata": {
        "id": "AbsjBhYlx-x0"
      },
      "execution_count": null,
      "outputs": []
    },
    {
      "cell_type": "code",
      "source": [
        "df.tail() #PARA VISUALIZAR AS 5 ÚLTIMAS LINHAS"
      ],
      "metadata": {
        "id": "xNWRaTNcyEuI"
      },
      "execution_count": null,
      "outputs": []
    },
    {
      "cell_type": "code",
      "source": [
        "df.sample(4) #PARA VISUALIZAR N LINHAS ALEATÓRIAS : df.sample(4) - Ex: 4 linhas aleatórias"
      ],
      "metadata": {
        "id": "HCU2afnb1AWi"
      },
      "execution_count": null,
      "outputs": []
    },
    {
      "cell_type": "code",
      "source": [
        "df[['Alcohol', 'Ash', 'Color_intensity']] #SELECIONAR COLUNAS ESPECÍFICAS"
      ],
      "metadata": {
        "id": "h7MFt96Pmqjc"
      },
      "execution_count": null,
      "outputs": []
    },
    {
      "cell_type": "code",
      "source": [
        "df['Color_intensity'] #SELECIONAR UMA COLUNA ESPECÍFICA"
      ],
      "metadata": {
        "id": "biYJAvsyzDyU"
      },
      "execution_count": null,
      "outputs": []
    },
    {
      "cell_type": "code",
      "source": [
        "df['Flavanoids'][1:6]"
      ],
      "metadata": {
        "id": "vEuE6r9b2pTh"
      },
      "execution_count": null,
      "outputs": []
    },
    {
      "cell_type": "code",
      "source": [
        "df['Alcalinity_ash'][3:8]"
      ],
      "metadata": {
        "id": "OC8nLAf-38CP"
      },
      "execution_count": null,
      "outputs": []
    },
    {
      "cell_type": "markdown",
      "source": [
        "**Séries booleanas e filtros**"
      ],
      "metadata": {
        "id": "4NA8VmKqmPRr"
      }
    },
    {
      "cell_type": "code",
      "source": [
        "df['Quantidade'] > 9 #VISUALIZAÇÃO BOOLEADA (V ou F)"
      ],
      "metadata": {
        "id": "7tZCuLVmz6vM"
      },
      "execution_count": null,
      "outputs": []
    },
    {
      "cell_type": "code",
      "source": [
        "df[df['Quantidade'] > 9] #O MESMO CÓDIGO ACIMA DENTRO DO DATAFRAME VIRA FILTRO"
      ],
      "metadata": {
        "id": "wTgrt3Vm0KH_"
      },
      "execution_count": null,
      "outputs": []
    },
    {
      "cell_type": "code",
      "source": [
        "uploaded = files.upload()\n",
        "df = pd.read_excel('dataset.xlsx')"
      ],
      "metadata": {
        "id": "K8bXjsEltp--"
      },
      "execution_count": null,
      "outputs": []
    },
    {
      "cell_type": "code",
      "source": [
        "df.head(9)"
      ],
      "metadata": {
        "id": "BJK5DvGiuksN"
      },
      "execution_count": null,
      "outputs": []
    },
    {
      "cell_type": "markdown",
      "source": [
        "**Combinando filtros**"
      ],
      "metadata": {
        "id": "Lls4WYKUmOfa"
      }
    },
    {
      "cell_type": "code",
      "source": [
        "#NECESSÁRIO CRIAR VARIÁVEIS, SETAR O FILTRO DESEJADO E UNIR COM O &.\n",
        "fsegmento = df['Segmento'] == 'Home Office'\n",
        "fpais = df['Pais'] == 'United States'\n",
        "fprioridade = df['Prioridade'] == 'Alto'\n",
        "fquantidade = df['Quantidade'] > 4\n",
        "\n",
        "df[fsegmento & fpais & fprioridade & fquantidade].iloc[:5,[3,5,7,10,13]]\n"
      ],
      "metadata": {
        "id": "9rW66h6pmrAJ"
      },
      "execution_count": null,
      "outputs": []
    },
    {
      "cell_type": "markdown",
      "source": [
        "**Criando e removendo colunas**"
      ],
      "metadata": {
        "id": "CHLDfFF0mOVd"
      }
    },
    {
      "cell_type": "code",
      "source": [
        "#PARA CRIAR UMA NOVA COLUNA VOCÊ ACESSA ELA COMO SE JÁ EXISTISSE E EM SEGUIDA IGUALA ELA A UMA EXISTENTE COM AS DEVIDAS DIFERENÇAS\n",
        "df['Novo_ID_Cliente'] = df['ID_Cliente']=='Otários'"
      ],
      "metadata": {
        "id": "hPXwDkDpmn3Y"
      },
      "execution_count": null,
      "outputs": []
    },
    {
      "cell_type": "code",
      "source": [
        "#VISUALIZAR A COLUNA ORIGINAL E A RECEM CRIADA\n",
        "df[['ID_Cliente','Novo_ID_Cliente']]"
      ],
      "metadata": {
        "id": "uK8XEhaG6uLH"
      },
      "execution_count": null,
      "outputs": []
    },
    {
      "cell_type": "code",
      "source": [
        "#REMOVENDO COLUNAS\n",
        "df = df.drop('Novo_ID_Cliente', axis=1)"
      ],
      "metadata": {
        "id": "PLWm-cFs7gh3"
      },
      "execution_count": null,
      "outputs": []
    },
    {
      "cell_type": "markdown",
      "source": [
        "**Resumindo dados**"
      ],
      "metadata": {
        "id": "v4Utf6pv9Qsk"
      }
    },
    {
      "cell_type": "code",
      "source": [
        "#GERA UM RESUMO INFORMATIVO SOBRE O DATAFRAME\n",
        "df.info()"
      ],
      "metadata": {
        "id": "kUMujh-Y8e2I"
      },
      "execution_count": null,
      "outputs": []
    },
    {
      "cell_type": "code",
      "source": [
        "#GERA UM RESUMO ESTATÍSTICO DAS COLUNAS NUMÉRICAS (PROCURAR ESTUDAR SOBRE)\n",
        "df.describe()"
      ],
      "metadata": {
        "id": "j1HaD78d9nYJ"
      },
      "execution_count": null,
      "outputs": []
    },
    {
      "cell_type": "code",
      "source": [
        "df['Lucro'].sum() #median(), max(), min()"
      ],
      "metadata": {
        "id": "-R3UZmGC9pp0"
      },
      "execution_count": null,
      "outputs": []
    },
    {
      "cell_type": "code",
      "source": [
        "df['Lucro'].mean()"
      ],
      "metadata": {
        "id": "H2ve9ohI9WTc"
      },
      "execution_count": null,
      "outputs": []
    },
    {
      "cell_type": "code",
      "source": [],
      "metadata": {
        "id": "8EUo6sOkwMsP"
      },
      "execution_count": null,
      "outputs": []
    },
    {
      "cell_type": "code",
      "source": [],
      "metadata": {
        "id": "EpNqeHBmwMpr"
      },
      "execution_count": null,
      "outputs": []
    },
    {
      "cell_type": "code",
      "source": [],
      "metadata": {
        "id": "A-uN-ZRWwMnR"
      },
      "execution_count": null,
      "outputs": []
    },
    {
      "cell_type": "code",
      "source": [],
      "metadata": {
        "id": "W0KaCxwPwMj_"
      },
      "execution_count": null,
      "outputs": []
    },
    {
      "cell_type": "code",
      "source": [],
      "metadata": {
        "id": "iqT7uYbxwMhQ"
      },
      "execution_count": null,
      "outputs": []
    },
    {
      "cell_type": "code",
      "source": [],
      "metadata": {
        "id": "Pzc-GabGwMY5"
      },
      "execution_count": null,
      "outputs": []
    },
    {
      "cell_type": "markdown",
      "source": [
        "**UM POUCO SOBRE O ILOC**"
      ],
      "metadata": {
        "id": "pA6JBMxNFVhZ"
      }
    },
    {
      "cell_type": "code",
      "source": [
        "df.iloc[8316] #INDICA A LOCALIZAÇÃO EXATA DA LINHA, UM REGISTRO COMPLETO. EX:8316"
      ],
      "metadata": {
        "id": "qD_gCqeq_J3z"
      },
      "execution_count": null,
      "outputs": []
    },
    {
      "cell_type": "code",
      "source": [
        "df.iloc[1:8] #VAI DA POSIÇÃO 1 ATÉ A POSIÇÃO 7, IGNORANDO O ÍNDICE 0."
      ],
      "metadata": {
        "id": "FPQQAt4z4kMh"
      },
      "execution_count": null,
      "outputs": []
    },
    {
      "cell_type": "code",
      "source": [
        "df.iloc[3:] #VAI DA POSIÇÃO 3 ATÉ O FINAL"
      ],
      "metadata": {
        "id": "RrkoML-qDu2i"
      },
      "execution_count": null,
      "outputs": []
    },
    {
      "cell_type": "code",
      "source": [
        "df.iloc[:3] #VAI DA POSIÇÃO 0 ATÉ A POSIÇÃO 2"
      ],
      "metadata": {
        "id": "YspN5O3lEf0q"
      },
      "execution_count": null,
      "outputs": []
    },
    {
      "cell_type": "code",
      "source": [
        "df.iloc[-5:] #MOSTRA AS ÚLTIMAS 5 LINHAS DA TABELA"
      ],
      "metadata": {
        "id": "2DckPLI_E63N"
      },
      "execution_count": null,
      "outputs": []
    },
    {
      "cell_type": "code",
      "source": [
        "df['Lucro'].iloc[:100] #MOSTRA AS 100 INFORMAÇÕES APENAS DA COLUNA DETERMINADA E A QUANTIDADE"
      ],
      "metadata": {
        "id": "p1ETd62yFM6K"
      },
      "execution_count": null,
      "outputs": []
    },
    {
      "cell_type": "code",
      "source": [
        "df['Pais'].iloc[[21,37,79,100,671]] #MOSTRA AS LINHAS ESPECÍFICAS DE UMA COLUNA, BASTA DETERMINAR DENTRO DOS COLCHETES, OU SEJA, LISTA COMO PARÂMETRO."
      ],
      "metadata": {
        "id": "JReFR28UHMrY"
      },
      "execution_count": null,
      "outputs": []
    },
    {
      "cell_type": "code",
      "source": [
        "df.iloc[[21,37,79,100,671]] #NESTE CASO MOSTRA OS VALORES DE TODAS AS COLUNAS PARA AS LINHAS INDICADAS."
      ],
      "metadata": {
        "id": "XVh-r0d_HydR"
      },
      "execution_count": null,
      "outputs": []
    },
    {
      "cell_type": "code",
      "source": [
        "df.iloc[0:4,0:9] #NESTE CONTEXTO MOSTRA PRIMEIRO AS LINHAS, DEPOIS AS COLUNAS."
      ],
      "metadata": {
        "id": "Xej9kNA1Q9JE"
      },
      "execution_count": null,
      "outputs": []
    },
    {
      "cell_type": "code",
      "source": [
        "df.iloc[:,[1,3,5]] #NESTE EXEMPLO MOSTRA-SE TUDO DA COLUNA 1, 3 E 5."
      ],
      "metadata": {
        "id": "NoUNNWX3SD0W"
      },
      "execution_count": null,
      "outputs": []
    },
    {
      "cell_type": "code",
      "source": [
        "df['Regiao']=='New York' #MOSTRA TODOS OS RESULTADOS"
      ],
      "metadata": {
        "id": "3v9YCOi_S9u0"
      },
      "execution_count": null,
      "outputs": []
    },
    {
      "cell_type": "code",
      "source": [
        "df[df['Regiao']=='New York'] #FILTRA APENAS O RESULTADO DESEJADO"
      ],
      "metadata": {
        "id": "f1266q9mTfid"
      },
      "execution_count": null,
      "outputs": []
    },
    {
      "cell_type": "code",
      "source": [
        "df[df['Regiao']=='New York'].iloc[675] #NESTE CASO ALÉM DE FAZER O FILTRO ELE APONTA A POSIÇÃO DA LINHA ESCOLHIDA"
      ],
      "metadata": {
        "id": "Dv_VnaE-VxdW"
      },
      "execution_count": null,
      "outputs": []
    },
    {
      "cell_type": "code",
      "source": [
        "df[df['Segmento']=='Corporativo'].iloc[0:2,0:10] # FILTRO COM LOCALIZAÇÕES ESPECÍFICAS"
      ],
      "metadata": {
        "id": "k1putNc9Vxub"
      },
      "execution_count": null,
      "outputs": []
    },
    {
      "cell_type": "code",
      "source": [
        "df[df['Segmento']=='Corporativo'].iloc[0:2,[0,10]] #FILTRO MOSTRA AS DUAS PRIMEIRAS LINHAS DENTRO DO FILTRO COM OS VALORES DENTRO DAS 10 PRIMEIRAS COLUNAS."
      ],
      "metadata": {
        "id": "vZi651OvVx9q"
      },
      "execution_count": null,
      "outputs": []
    },
    {
      "cell_type": "code",
      "source": [
        "df.iloc[:,7] #EXECUTANDO FILTRO PELA COLUNA."
      ],
      "metadata": {
        "id": "zjjAp5VpVyNl"
      },
      "execution_count": null,
      "outputs": []
    },
    {
      "cell_type": "code",
      "source": [
        "df[df.iloc[:,10]>10] #APLICANDO FILTRO BASEADO NA COLUNA 'Quantidade' MAIOR QUE 10"
      ],
      "metadata": {
        "id": "3rAYrIK_cXqk"
      },
      "execution_count": null,
      "outputs": []
    },
    {
      "cell_type": "code",
      "source": [
        "df[(df['Regiao']=='Berlin') & (df['Categoria']=='Tecnologia')].iloc[:10,[4,7,8,9]] #FILTRO COM DOIS CAMPOS - 10 PRIMEIRAS LINHAS E 4 COLUNAS SELECIONADAS"
      ],
      "metadata": {
        "id": "Un-HZ0sBgONY"
      },
      "execution_count": null,
      "outputs": []
    },
    {
      "cell_type": "code",
      "source": [
        "df[(df['Regiao']=='Berlin') & (df['Categoria']=='Tecnologia')].iloc[:,3]"
      ],
      "metadata": {
        "id": "DDmgwX73iY5p"
      },
      "execution_count": null,
      "outputs": []
    },
    {
      "cell_type": "code",
      "source": [
        "df[(df['Segmento']=='Home Office') & (df['Categoria'].isin(['Tecnologia','Moveis']))] #SEM ILOC, APENAS FILTRO COM ISIN PARA DETERMINAR DOIS VALORES EM UMA COLUNA"
      ],
      "metadata": {
        "id": "D4l4BaDcjDv9"
      },
      "execution_count": null,
      "outputs": []
    },
    {
      "cell_type": "code",
      "source": [
        "df[(df['Segmento']=='Home Office') & (df['Categoria'].isin(['Tecnologia','Moveis']))].iloc[:,[3,4,5,7,10]] #FILTRO COM ILOC - TODAS AS LINHAS COM AS COLUNAS ESPECÍFICAS"
      ],
      "metadata": {
        "id": "SiaVVCklkYuS"
      },
      "execution_count": null,
      "outputs": []
    },
    {
      "cell_type": "markdown",
      "source": [
        "Link para continuação do aprendizado:\n",
        "https://hub.asimov.academy/\n",
        "\n",
        "https://www.youtube.com/watch?v=1JpYOqvDJNU&ab_channel=AsimovAcademy\n",
        "\n",
        "https://www.youtube.com/watch?v=nkY2PtnTkvs&t=1159s&ab_channel=Jos%C3%A9EduardoSantaremSegundo\n",
        "\n"
      ],
      "metadata": {
        "id": "e0IsPFTDFbt-"
      }
    },
    {
      "cell_type": "code",
      "source": [],
      "metadata": {
        "id": "57SptlQQF03d"
      },
      "execution_count": null,
      "outputs": []
    }
  ]
}